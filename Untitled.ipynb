{
 "cells": [
  {
   "cell_type": "code",
   "execution_count": 2,
   "id": "77f7dd62-141e-4b32-b874-469faae19d05",
   "metadata": {},
   "outputs": [
    {
     "name": "stdout",
     "output_type": "stream",
     "text": [
      "FPL data saved!\n"
     ]
    }
   ],
   "source": [
    "%run fpl_api_fetch.py"
   ]
  },
  {
   "cell_type": "code",
   "execution_count": 1,
   "id": "01fe5ff8-c9ad-4305-8415-4897563e1cab",
   "metadata": {},
   "outputs": [
    {
     "name": "stdout",
     "output_type": "stream",
     "text": [
      "   can_transact  can_select  chance_of_playing_next_round  \\\n",
      "0          True       False                           0.0   \n",
      "1          True        True                           0.0   \n",
      "2          True        True                         100.0   \n",
      "3          True        True                           0.0   \n",
      "4          True       False                           0.0   \n",
      "\n",
      "   chance_of_playing_this_round    code  cost_change_event  \\\n",
      "0                           0.0  438098                  0   \n",
      "1                           0.0  205651                  0   \n",
      "2                         100.0  226597                  0   \n",
      "3                           0.0  219847                  0   \n",
      "4                           0.0  463748                  0   \n",
      "\n",
      "   cost_change_event_fall  cost_change_start  cost_change_start_fall  \\\n",
      "0                       0                 -1                       1   \n",
      "1                       0                 -5                       5   \n",
      "2                       0                  4                      -4   \n",
      "3                       0                 -3                       3   \n",
      "4                       0                  0                       0   \n",
      "\n",
      "   dreamteam_count  ...  now_cost_rank  now_cost_rank_type  form_rank  \\\n",
      "0                0  ...            134                  82        755   \n",
      "1                2  ...             42                  19        776   \n",
      "2                2  ...             50                   3         86   \n",
      "3                1  ...             13                   4        783   \n",
      "4                0  ...            664                  56        457   \n",
      "\n",
      "   form_rank_type points_per_game_rank  points_per_game_rank_type  \\\n",
      "0             322                  777                        335   \n",
      "1              80                  203                         27   \n",
      "2              24                   35                          3   \n",
      "3              85                   26                         11   \n",
      "4              57                  597                         67   \n",
      "\n",
      "   selected_rank  selected_rank_type starts_per_90 clean_sheets_per_90  \n",
      "0            712                 295          0.00                0.00  \n",
      "1            202                  33          0.90                0.30  \n",
      "2              8                   1          1.03                0.38  \n",
      "3             61                  13          1.03                0.34  \n",
      "4            628                  70          0.00                0.00  \n",
      "\n",
      "[5 rows x 103 columns]\n",
      "   code  draw  form  id  loss         name  played  points  position  \\\n",
      "0     3     0   NaN   1     0      Arsenal       0       0         2   \n",
      "1     7     0   NaN   2     0  Aston Villa       0       0         9   \n",
      "2    91     0   NaN   3     0  Bournemouth       0       0        10   \n",
      "3    94     0   NaN   4     0    Brentford       0       0        11   \n",
      "4    36     0   NaN   5     0     Brighton       0       0         7   \n",
      "\n",
      "  short_name  ...  team_division  unavailable  win  strength_overall_home  \\\n",
      "0        ARS  ...            NaN        False    0                   1235   \n",
      "1        AVL  ...            NaN        False    0                   1110   \n",
      "2        BOU  ...            NaN        False    0                   1195   \n",
      "3        BRE  ...            NaN        False    0                   1100   \n",
      "4        BHA  ...            NaN        False    0                   1140   \n",
      "\n",
      "   strength_overall_away  strength_attack_home  strength_attack_away  \\\n",
      "0                   1335                  1220                  1370   \n",
      "1                   1215                  1080                  1160   \n",
      "2                   1215                  1130                  1170   \n",
      "3                   1195                  1080                  1080   \n",
      "4                   1150                  1120                  1140   \n",
      "\n",
      "   strength_defence_home  strength_defence_away  pulse_id  \n",
      "0                   1250                   1300         1  \n",
      "1                   1140                   1270         2  \n",
      "2                   1260                   1260       127  \n",
      "3                   1120                   1310       130  \n",
      "4                   1160                   1160       131  \n",
      "\n",
      "[5 rows x 21 columns]\n"
     ]
    }
   ],
   "source": [
    "import pandas as pd\n",
    "players = pd.read_csv('data/fpl_players_raw.csv')\n",
    "print(players.head(5))\n",
    "teams = pd.read_csv('data/fpl_teams_raw.csv')\n",
    "print(teams.head(5))"
   ]
  },
  {
   "cell_type": "code",
   "execution_count": 2,
   "id": "71ca2581-87ff-4d59-8023-48acc82ff7be",
   "metadata": {},
   "outputs": [
    {
     "name": "stdout",
     "output_type": "stream",
     "text": [
      "   element  fixture  opponent_team  total_points  was_home  \\\n",
      "0        1        2             20             0      True   \n",
      "1        1       11              2             0     False   \n",
      "2        1       21              5             0      True   \n",
      "3        1       39             18             0     False   \n",
      "4        1       47             13             0     False   \n",
      "\n",
      "           kickoff_time  team_h_score  team_a_score  round  modified  ...  \\\n",
      "0  2024-08-17T14:00:00Z             2             0      1     False  ...   \n",
      "1  2024-08-24T16:30:00Z             0             2      2     False  ...   \n",
      "2  2024-08-31T11:30:00Z             1             1      3     False  ...   \n",
      "3  2024-09-15T13:00:00Z             0             1      4     False  ...   \n",
      "4  2024-09-22T15:30:00Z             2             2      5     False  ...   \n",
      "\n",
      "   mng_underdog_win  mng_underdog_draw  mng_clean_sheets  mng_goals_scored  \\\n",
      "0                 0                  0                 0                 0   \n",
      "1                 0                  0                 0                 0   \n",
      "2                 0                  0                 0                 0   \n",
      "3                 0                  0                 0                 0   \n",
      "4                 0                  0                 0                 0   \n",
      "\n",
      "   value  transfers_balance  selected  transfers_in  transfers_out  player_id  \n",
      "0     55                  0      2923             0              0          1  \n",
      "1     55               -790      2321            84            874          1  \n",
      "2     54               -279      2397           355            634          1  \n",
      "3     54               -747      1650             0            747          1  \n",
      "4     54               -174      1494             0            174          1  \n",
      "\n",
      "[5 rows x 45 columns]\n"
     ]
    }
   ],
   "source": [
    "%run fpl_api_fetch_current_season.py"
   ]
  },
  {
   "cell_type": "code",
   "execution_count": 1,
   "id": "1635f646-2eea-421e-9cc2-ec5f9ef02174",
   "metadata": {},
   "outputs": [
    {
     "ename": "ParserError",
     "evalue": "Error tokenizing data. C error: Expected 42 fields in line 14180, saw 49\n",
     "output_type": "error",
     "traceback": [
      "\u001b[1;31m---------------------------------------------------------------------------\u001b[0m",
      "\u001b[1;31mParserError\u001b[0m                               Traceback (most recent call last)",
      "File \u001b[1;32m~\\projects\\fplsolver\\fplsolver\\load_and_combine_data.py:11\u001b[0m\n\u001b[0;32m      8\u001b[0m gw_files \u001b[38;5;241m=\u001b[39m glob\u001b[38;5;241m.\u001b[39mglob(historical_path \u001b[38;5;241m+\u001b[39m \u001b[38;5;124m'\u001b[39m\u001b[38;5;124m*/gws/merged_gw.csv\u001b[39m\u001b[38;5;124m'\u001b[39m)\n\u001b[0;32m     10\u001b[0m \u001b[38;5;66;03m# Load and concatenate into one DataFrame\u001b[39;00m\n\u001b[1;32m---> 11\u001b[0m df_list \u001b[38;5;241m=\u001b[39m [pd\u001b[38;5;241m.\u001b[39mread_csv(file) \u001b[38;5;28;01mfor\u001b[39;00m file \u001b[38;5;129;01min\u001b[39;00m gw_files]\n\u001b[0;32m     12\u001b[0m combined_df \u001b[38;5;241m=\u001b[39m pd\u001b[38;5;241m.\u001b[39mconcat(df_list, ignore_index\u001b[38;5;241m=\u001b[39m\u001b[38;5;28;01mTrue\u001b[39;00m)\n\u001b[0;32m     14\u001b[0m \u001b[38;5;66;03m# Save the combined dataset\u001b[39;00m\n",
      "File \u001b[1;32m~\\anaconda3\\Lib\\site-packages\\pandas\\io\\parsers\\readers.py:1026\u001b[0m, in \u001b[0;36mread_csv\u001b[1;34m(filepath_or_buffer, sep, delimiter, header, names, index_col, usecols, dtype, engine, converters, true_values, false_values, skipinitialspace, skiprows, skipfooter, nrows, na_values, keep_default_na, na_filter, verbose, skip_blank_lines, parse_dates, infer_datetime_format, keep_date_col, date_parser, date_format, dayfirst, cache_dates, iterator, chunksize, compression, thousands, decimal, lineterminator, quotechar, quoting, doublequote, escapechar, comment, encoding, encoding_errors, dialect, on_bad_lines, delim_whitespace, low_memory, memory_map, float_precision, storage_options, dtype_backend)\u001b[0m\n\u001b[0;32m   1013\u001b[0m kwds_defaults \u001b[38;5;241m=\u001b[39m _refine_defaults_read(\n\u001b[0;32m   1014\u001b[0m     dialect,\n\u001b[0;32m   1015\u001b[0m     delimiter,\n\u001b[1;32m   (...)\u001b[0m\n\u001b[0;32m   1022\u001b[0m     dtype_backend\u001b[38;5;241m=\u001b[39mdtype_backend,\n\u001b[0;32m   1023\u001b[0m )\n\u001b[0;32m   1024\u001b[0m kwds\u001b[38;5;241m.\u001b[39mupdate(kwds_defaults)\n\u001b[1;32m-> 1026\u001b[0m \u001b[38;5;28;01mreturn\u001b[39;00m _read(filepath_or_buffer, kwds)\n",
      "File \u001b[1;32m~\\anaconda3\\Lib\\site-packages\\pandas\\io\\parsers\\readers.py:626\u001b[0m, in \u001b[0;36m_read\u001b[1;34m(filepath_or_buffer, kwds)\u001b[0m\n\u001b[0;32m    623\u001b[0m     \u001b[38;5;28;01mreturn\u001b[39;00m parser\n\u001b[0;32m    625\u001b[0m \u001b[38;5;28;01mwith\u001b[39;00m parser:\n\u001b[1;32m--> 626\u001b[0m     \u001b[38;5;28;01mreturn\u001b[39;00m parser\u001b[38;5;241m.\u001b[39mread(nrows)\n",
      "File \u001b[1;32m~\\anaconda3\\Lib\\site-packages\\pandas\\io\\parsers\\readers.py:1923\u001b[0m, in \u001b[0;36mTextFileReader.read\u001b[1;34m(self, nrows)\u001b[0m\n\u001b[0;32m   1916\u001b[0m nrows \u001b[38;5;241m=\u001b[39m validate_integer(\u001b[38;5;124m\"\u001b[39m\u001b[38;5;124mnrows\u001b[39m\u001b[38;5;124m\"\u001b[39m, nrows)\n\u001b[0;32m   1917\u001b[0m \u001b[38;5;28;01mtry\u001b[39;00m:\n\u001b[0;32m   1918\u001b[0m     \u001b[38;5;66;03m# error: \"ParserBase\" has no attribute \"read\"\u001b[39;00m\n\u001b[0;32m   1919\u001b[0m     (\n\u001b[0;32m   1920\u001b[0m         index,\n\u001b[0;32m   1921\u001b[0m         columns,\n\u001b[0;32m   1922\u001b[0m         col_dict,\n\u001b[1;32m-> 1923\u001b[0m     ) \u001b[38;5;241m=\u001b[39m \u001b[38;5;28mself\u001b[39m\u001b[38;5;241m.\u001b[39m_engine\u001b[38;5;241m.\u001b[39mread(  \u001b[38;5;66;03m# type: ignore[attr-defined]\u001b[39;00m\n\u001b[0;32m   1924\u001b[0m         nrows\n\u001b[0;32m   1925\u001b[0m     )\n\u001b[0;32m   1926\u001b[0m \u001b[38;5;28;01mexcept\u001b[39;00m \u001b[38;5;167;01mException\u001b[39;00m:\n\u001b[0;32m   1927\u001b[0m     \u001b[38;5;28mself\u001b[39m\u001b[38;5;241m.\u001b[39mclose()\n",
      "File \u001b[1;32m~\\anaconda3\\Lib\\site-packages\\pandas\\io\\parsers\\c_parser_wrapper.py:234\u001b[0m, in \u001b[0;36mCParserWrapper.read\u001b[1;34m(self, nrows)\u001b[0m\n\u001b[0;32m    232\u001b[0m \u001b[38;5;28;01mtry\u001b[39;00m:\n\u001b[0;32m    233\u001b[0m     \u001b[38;5;28;01mif\u001b[39;00m \u001b[38;5;28mself\u001b[39m\u001b[38;5;241m.\u001b[39mlow_memory:\n\u001b[1;32m--> 234\u001b[0m         chunks \u001b[38;5;241m=\u001b[39m \u001b[38;5;28mself\u001b[39m\u001b[38;5;241m.\u001b[39m_reader\u001b[38;5;241m.\u001b[39mread_low_memory(nrows)\n\u001b[0;32m    235\u001b[0m         \u001b[38;5;66;03m# destructive to chunks\u001b[39;00m\n\u001b[0;32m    236\u001b[0m         data \u001b[38;5;241m=\u001b[39m _concatenate_chunks(chunks)\n",
      "File \u001b[1;32mparsers.pyx:838\u001b[0m, in \u001b[0;36mpandas._libs.parsers.TextReader.read_low_memory\u001b[1;34m()\u001b[0m\n",
      "File \u001b[1;32mparsers.pyx:905\u001b[0m, in \u001b[0;36mpandas._libs.parsers.TextReader._read_rows\u001b[1;34m()\u001b[0m\n",
      "File \u001b[1;32mparsers.pyx:874\u001b[0m, in \u001b[0;36mpandas._libs.parsers.TextReader._tokenize_rows\u001b[1;34m()\u001b[0m\n",
      "File \u001b[1;32mparsers.pyx:891\u001b[0m, in \u001b[0;36mpandas._libs.parsers.TextReader._check_tokenize_status\u001b[1;34m()\u001b[0m\n",
      "File \u001b[1;32mparsers.pyx:2061\u001b[0m, in \u001b[0;36mpandas._libs.parsers.raise_parser_error\u001b[1;34m()\u001b[0m\n",
      "\u001b[1;31mParserError\u001b[0m: Error tokenizing data. C error: Expected 42 fields in line 14180, saw 49\n"
     ]
    }
   ],
   "source": [
    "%run load_and_combine_data.py"
   ]
  },
  {
   "cell_type": "code",
   "execution_count": null,
   "id": "4050ec65-fb07-4251-bfea-cd8a37e7d7e6",
   "metadata": {},
   "outputs": [],
   "source": []
  }
 ],
 "metadata": {
  "kernelspec": {
   "display_name": "Python 3 (ipykernel)",
   "language": "python",
   "name": "python3"
  },
  "language_info": {
   "codemirror_mode": {
    "name": "ipython",
    "version": 3
   },
   "file_extension": ".py",
   "mimetype": "text/x-python",
   "name": "python",
   "nbconvert_exporter": "python",
   "pygments_lexer": "ipython3",
   "version": "3.12.7"
  }
 },
 "nbformat": 4,
 "nbformat_minor": 5
}
