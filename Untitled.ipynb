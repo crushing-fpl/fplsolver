{
 "cells": [
  {
   "cell_type": "code",
   "execution_count": 2,
   "id": "77f7dd62-141e-4b32-b874-469faae19d05",
   "metadata": {},
   "outputs": [
    {
     "name": "stdout",
     "output_type": "stream",
     "text": [
      "FPL data saved!\n"
     ]
    }
   ],
   "source": [
    "%run fpl_api_fetch.py"
   ]
  },
  {
   "cell_type": "code",
   "execution_count": null,
   "id": "01fe5ff8-c9ad-4305-8415-4897563e1cab",
   "metadata": {},
   "outputs": [],
   "source": []
  }
 ],
 "metadata": {
  "kernelspec": {
   "display_name": "Python 3 (ipykernel)",
   "language": "python",
   "name": "python3"
  },
  "language_info": {
   "codemirror_mode": {
    "name": "ipython",
    "version": 3
   },
   "file_extension": ".py",
   "mimetype": "text/x-python",
   "name": "python",
   "nbconvert_exporter": "python",
   "pygments_lexer": "ipython3",
   "version": "3.12.7"
  }
 },
 "nbformat": 4,
 "nbformat_minor": 5
}
