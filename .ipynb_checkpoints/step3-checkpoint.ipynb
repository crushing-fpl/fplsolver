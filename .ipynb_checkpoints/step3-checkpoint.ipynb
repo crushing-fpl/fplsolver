{
 "cells": [
  {
   "cell_type": "code",
   "execution_count": 2,
   "id": "739e776c-de3f-49dd-9955-de8227240b71",
   "metadata": {},
   "outputs": [
    {
     "ename": "KeyError",
     "evalue": "'season'",
     "output_type": "error",
     "traceback": [
      "\u001b[1;31m---------------------------------------------------------------------------\u001b[0m",
      "\u001b[1;31mKeyError\u001b[0m                                  Traceback (most recent call last)",
      "Cell \u001b[1;32mIn[2], line 11\u001b[0m\n\u001b[0;32m      8\u001b[0m fixtures \u001b[38;5;241m=\u001b[39m fixtures\u001b[38;5;241m.\u001b[39mrename(columns\u001b[38;5;241m=\u001b[39m{\u001b[38;5;124m\"\u001b[39m\u001b[38;5;124mevent\u001b[39m\u001b[38;5;124m\"\u001b[39m: \u001b[38;5;124m\"\u001b[39m\u001b[38;5;124mGW\u001b[39m\u001b[38;5;124m\"\u001b[39m, \u001b[38;5;124m\"\u001b[39m\u001b[38;5;124mteam_h\u001b[39m\u001b[38;5;124m\"\u001b[39m: \u001b[38;5;124m\"\u001b[39m\u001b[38;5;124mteam_home\u001b[39m\u001b[38;5;124m\"\u001b[39m, \u001b[38;5;124m\"\u001b[39m\u001b[38;5;124mteam_a\u001b[39m\u001b[38;5;124m\"\u001b[39m: \u001b[38;5;124m\"\u001b[39m\u001b[38;5;124mteam_away\u001b[39m\u001b[38;5;124m\"\u001b[39m})\n\u001b[0;32m     10\u001b[0m \u001b[38;5;66;03m# Count games per team per GW\u001b[39;00m\n\u001b[1;32m---> 11\u001b[0m home_games \u001b[38;5;241m=\u001b[39m fixtures\u001b[38;5;241m.\u001b[39mgroupby([\u001b[38;5;124m\"\u001b[39m\u001b[38;5;124mseason\u001b[39m\u001b[38;5;124m\"\u001b[39m, \u001b[38;5;124m\"\u001b[39m\u001b[38;5;124mGW\u001b[39m\u001b[38;5;124m\"\u001b[39m, \u001b[38;5;124m\"\u001b[39m\u001b[38;5;124mteam_home\u001b[39m\u001b[38;5;124m\"\u001b[39m])\u001b[38;5;241m.\u001b[39msize()\u001b[38;5;241m.\u001b[39mreset_index(name\u001b[38;5;241m=\u001b[39m\u001b[38;5;124m\"\u001b[39m\u001b[38;5;124mnum_games\u001b[39m\u001b[38;5;124m\"\u001b[39m)\n\u001b[0;32m     12\u001b[0m away_games \u001b[38;5;241m=\u001b[39m fixtures\u001b[38;5;241m.\u001b[39mgroupby([\u001b[38;5;124m\"\u001b[39m\u001b[38;5;124mseason\u001b[39m\u001b[38;5;124m\"\u001b[39m, \u001b[38;5;124m\"\u001b[39m\u001b[38;5;124mGW\u001b[39m\u001b[38;5;124m\"\u001b[39m, \u001b[38;5;124m\"\u001b[39m\u001b[38;5;124mteam_away\u001b[39m\u001b[38;5;124m\"\u001b[39m])\u001b[38;5;241m.\u001b[39msize()\u001b[38;5;241m.\u001b[39mreset_index(name\u001b[38;5;241m=\u001b[39m\u001b[38;5;124m\"\u001b[39m\u001b[38;5;124mnum_games\u001b[39m\u001b[38;5;124m\"\u001b[39m)\n\u001b[0;32m     13\u001b[0m home_games \u001b[38;5;241m=\u001b[39m home_games\u001b[38;5;241m.\u001b[39mrename(columns\u001b[38;5;241m=\u001b[39m{\u001b[38;5;124m\"\u001b[39m\u001b[38;5;124mteam_home\u001b[39m\u001b[38;5;124m\"\u001b[39m: \u001b[38;5;124m\"\u001b[39m\u001b[38;5;124mteam\u001b[39m\u001b[38;5;124m\"\u001b[39m})\n",
      "File \u001b[1;32m~\\anaconda3\\Lib\\site-packages\\pandas\\core\\frame.py:9183\u001b[0m, in \u001b[0;36mDataFrame.groupby\u001b[1;34m(self, by, axis, level, as_index, sort, group_keys, observed, dropna)\u001b[0m\n\u001b[0;32m   9180\u001b[0m \u001b[38;5;28;01mif\u001b[39;00m level \u001b[38;5;129;01mis\u001b[39;00m \u001b[38;5;28;01mNone\u001b[39;00m \u001b[38;5;129;01mand\u001b[39;00m by \u001b[38;5;129;01mis\u001b[39;00m \u001b[38;5;28;01mNone\u001b[39;00m:\n\u001b[0;32m   9181\u001b[0m     \u001b[38;5;28;01mraise\u001b[39;00m \u001b[38;5;167;01mTypeError\u001b[39;00m(\u001b[38;5;124m\"\u001b[39m\u001b[38;5;124mYou have to supply one of \u001b[39m\u001b[38;5;124m'\u001b[39m\u001b[38;5;124mby\u001b[39m\u001b[38;5;124m'\u001b[39m\u001b[38;5;124m and \u001b[39m\u001b[38;5;124m'\u001b[39m\u001b[38;5;124mlevel\u001b[39m\u001b[38;5;124m'\u001b[39m\u001b[38;5;124m\"\u001b[39m)\n\u001b[1;32m-> 9183\u001b[0m \u001b[38;5;28;01mreturn\u001b[39;00m DataFrameGroupBy(\n\u001b[0;32m   9184\u001b[0m     obj\u001b[38;5;241m=\u001b[39m\u001b[38;5;28mself\u001b[39m,\n\u001b[0;32m   9185\u001b[0m     keys\u001b[38;5;241m=\u001b[39mby,\n\u001b[0;32m   9186\u001b[0m     axis\u001b[38;5;241m=\u001b[39maxis,\n\u001b[0;32m   9187\u001b[0m     level\u001b[38;5;241m=\u001b[39mlevel,\n\u001b[0;32m   9188\u001b[0m     as_index\u001b[38;5;241m=\u001b[39mas_index,\n\u001b[0;32m   9189\u001b[0m     sort\u001b[38;5;241m=\u001b[39msort,\n\u001b[0;32m   9190\u001b[0m     group_keys\u001b[38;5;241m=\u001b[39mgroup_keys,\n\u001b[0;32m   9191\u001b[0m     observed\u001b[38;5;241m=\u001b[39mobserved,\n\u001b[0;32m   9192\u001b[0m     dropna\u001b[38;5;241m=\u001b[39mdropna,\n\u001b[0;32m   9193\u001b[0m )\n",
      "File \u001b[1;32m~\\anaconda3\\Lib\\site-packages\\pandas\\core\\groupby\\groupby.py:1329\u001b[0m, in \u001b[0;36mGroupBy.__init__\u001b[1;34m(self, obj, keys, axis, level, grouper, exclusions, selection, as_index, sort, group_keys, observed, dropna)\u001b[0m\n\u001b[0;32m   1326\u001b[0m \u001b[38;5;28mself\u001b[39m\u001b[38;5;241m.\u001b[39mdropna \u001b[38;5;241m=\u001b[39m dropna\n\u001b[0;32m   1328\u001b[0m \u001b[38;5;28;01mif\u001b[39;00m grouper \u001b[38;5;129;01mis\u001b[39;00m \u001b[38;5;28;01mNone\u001b[39;00m:\n\u001b[1;32m-> 1329\u001b[0m     grouper, exclusions, obj \u001b[38;5;241m=\u001b[39m get_grouper(\n\u001b[0;32m   1330\u001b[0m         obj,\n\u001b[0;32m   1331\u001b[0m         keys,\n\u001b[0;32m   1332\u001b[0m         axis\u001b[38;5;241m=\u001b[39maxis,\n\u001b[0;32m   1333\u001b[0m         level\u001b[38;5;241m=\u001b[39mlevel,\n\u001b[0;32m   1334\u001b[0m         sort\u001b[38;5;241m=\u001b[39msort,\n\u001b[0;32m   1335\u001b[0m         observed\u001b[38;5;241m=\u001b[39m\u001b[38;5;28;01mFalse\u001b[39;00m \u001b[38;5;28;01mif\u001b[39;00m observed \u001b[38;5;129;01mis\u001b[39;00m lib\u001b[38;5;241m.\u001b[39mno_default \u001b[38;5;28;01melse\u001b[39;00m observed,\n\u001b[0;32m   1336\u001b[0m         dropna\u001b[38;5;241m=\u001b[39m\u001b[38;5;28mself\u001b[39m\u001b[38;5;241m.\u001b[39mdropna,\n\u001b[0;32m   1337\u001b[0m     )\n\u001b[0;32m   1339\u001b[0m \u001b[38;5;28;01mif\u001b[39;00m observed \u001b[38;5;129;01mis\u001b[39;00m lib\u001b[38;5;241m.\u001b[39mno_default:\n\u001b[0;32m   1340\u001b[0m     \u001b[38;5;28;01mif\u001b[39;00m \u001b[38;5;28many\u001b[39m(ping\u001b[38;5;241m.\u001b[39m_passed_categorical \u001b[38;5;28;01mfor\u001b[39;00m ping \u001b[38;5;129;01min\u001b[39;00m grouper\u001b[38;5;241m.\u001b[39mgroupings):\n",
      "File \u001b[1;32m~\\anaconda3\\Lib\\site-packages\\pandas\\core\\groupby\\grouper.py:1043\u001b[0m, in \u001b[0;36mget_grouper\u001b[1;34m(obj, key, axis, level, sort, observed, validate, dropna)\u001b[0m\n\u001b[0;32m   1041\u001b[0m         in_axis, level, gpr \u001b[38;5;241m=\u001b[39m \u001b[38;5;28;01mFalse\u001b[39;00m, gpr, \u001b[38;5;28;01mNone\u001b[39;00m\n\u001b[0;32m   1042\u001b[0m     \u001b[38;5;28;01melse\u001b[39;00m:\n\u001b[1;32m-> 1043\u001b[0m         \u001b[38;5;28;01mraise\u001b[39;00m \u001b[38;5;167;01mKeyError\u001b[39;00m(gpr)\n\u001b[0;32m   1044\u001b[0m \u001b[38;5;28;01melif\u001b[39;00m \u001b[38;5;28misinstance\u001b[39m(gpr, Grouper) \u001b[38;5;129;01mand\u001b[39;00m gpr\u001b[38;5;241m.\u001b[39mkey \u001b[38;5;129;01mis\u001b[39;00m \u001b[38;5;129;01mnot\u001b[39;00m \u001b[38;5;28;01mNone\u001b[39;00m:\n\u001b[0;32m   1045\u001b[0m     \u001b[38;5;66;03m# Add key to exclusions\u001b[39;00m\n\u001b[0;32m   1046\u001b[0m     exclusions\u001b[38;5;241m.\u001b[39madd(gpr\u001b[38;5;241m.\u001b[39mkey)\n",
      "\u001b[1;31mKeyError\u001b[0m: 'season'"
     ]
    }
   ],
   "source": [
    "import pandas as pd\n",
    "\n",
    "# Load all fixture files\n",
    "fixture_files = [f\"data/historical/{season}/fixtures.csv\" for season in [\"2020-21\", \"2021-22\", \"2022-23\", \"2023-24\", \"2024-25\"]]\n",
    "fixtures = pd.concat([pd.read_csv(f) for f in fixture_files], ignore_index=True)\n",
    "\n",
    "# Rename for consistency (assuming 'event' is GW, 'team_h'/'team_a' are teams)\n",
    "fixtures = fixtures.rename(columns={\"event\": \"GW\", \"team_h\": \"team_home\", \"team_a\": \"team_away\"})\n",
    "\n",
    "# Count games per team per GW\n",
    "home_games = fixtures.groupby([\"season\", \"GW\", \"team_home\"]).size().reset_index(name=\"num_games\")\n",
    "away_games = fixtures.groupby([\"season\", \"GW\", \"team_away\"]).size().reset_index(name=\"num_games\")\n",
    "home_games = home_games.rename(columns={\"team_home\": \"team\"})\n",
    "away_games = away_games.rename(columns={\"team_away\": \"team\"})\n",
    "team_games = pd.concat([home_games, away_games]).groupby([\"season\", \"GW\", \"team\"])[\"num_games\"].sum().reset_index()\n",
    "team_games = team_games.rename(columns={\"num_games\": \"num_games_in_gw\"})"
   ]
  },
  {
   "cell_type": "code",
   "execution_count": 3,
   "id": "45f15486-5620-4fb1-b997-99c0b5888db0",
   "metadata": {},
   "outputs": [
    {
     "name": "stdout",
     "output_type": "stream",
     "text": [
      "Available columns for fixtures_file: ['code', 'event', 'finished', 'finished_provisional', 'id', 'kickoff_time', 'minutes', 'provisional_start_time', 'started', 'team_a', 'team_a_score', 'team_h', 'team_h_score', 'stats', 'team_h_difficulty', 'team_a_difficulty', 'pulse_id']\n"
     ]
    }
   ],
   "source": [
    "import pandas as pd\n",
    "fixtures_file = pd.read_csv('data/historical/2020-21/fixtures.csv')\n",
    "print(\"Available columns for fixtures_file:\", fixtures_file.columns.tolist())"
   ]
  },
  {
   "cell_type": "code",
   "execution_count": 4,
   "id": "aa63eb2e-9a3e-41ae-8ebc-587bacc5f35b",
   "metadata": {},
   "outputs": [
    {
     "ename": "NameError",
     "evalue": "name 'team_mapping' is not defined",
     "output_type": "error",
     "traceback": [
      "\u001b[1;31m---------------------------------------------------------------------------\u001b[0m",
      "\u001b[1;31mNameError\u001b[0m                                 Traceback (most recent call last)",
      "Cell \u001b[1;32mIn[4], line 23\u001b[0m\n\u001b[0;32m     21\u001b[0m     \u001b[38;5;66;03m# Map team IDs to team names\u001b[39;00m\n\u001b[0;32m     22\u001b[0m     df[\u001b[38;5;124m'\u001b[39m\u001b[38;5;124mteam_home\u001b[39m\u001b[38;5;124m'\u001b[39m] \u001b[38;5;241m=\u001b[39m df[\u001b[38;5;124m'\u001b[39m\u001b[38;5;124mteam_h\u001b[39m\u001b[38;5;124m'\u001b[39m]\u001b[38;5;241m.\u001b[39mmap(team_mappings[season])\n\u001b[1;32m---> 23\u001b[0m     df[\u001b[38;5;124m'\u001b[39m\u001b[38;5;124mteam_away\u001b[39m\u001b[38;5;124m'\u001b[39m] \u001b[38;5;241m=\u001b[39m df[\u001b[38;5;124m'\u001b[39m\u001b[38;5;124mteam_a\u001b[39m\u001b[38;5;124m'\u001b[39m]\u001b[38;5;241m.\u001b[39mmap(team_mapping[season])\n\u001b[0;32m     24\u001b[0m     fixtures_list\u001b[38;5;241m.\u001b[39mappend(df)\n\u001b[0;32m     26\u001b[0m \u001b[38;5;66;03m# Concatenate all fixtures into one DataFrame\u001b[39;00m\n",
      "\u001b[1;31mNameError\u001b[0m: name 'team_mapping' is not defined"
     ]
    }
   ],
   "source": [
    "import pandas as pd\n",
    "\n",
    "# List of seasons\n",
    "seasons = [\"2020-21\", \"2021-22\", \"2022-23\", \"2023-24\", \"2024-25\"]\n",
    "\n",
    "# Step 1: Load team mappings for each season\n",
    "team_mappings = {}\n",
    "for season in seasons:\n",
    "    teams_file = f\"data/historical/{season}/teams.csv\"\n",
    "    teams_df = pd.read_csv(teams_file)\n",
    "    # Create a dictionary mapping team ID to team name\n",
    "    team_mappings[season] = dict(zip(teams_df['id'], teams_df['name']))\n",
    "\n",
    "# Step 2: Load and process fixture files\n",
    "fixtures_list = []\n",
    "for season in seasons:\n",
    "    file_path = f\"data/historical/{season}/fixtures.csv\"\n",
    "    df = pd.read_csv(file_path)\n",
    "    # Add season column\n",
    "    df['season'] = season\n",
    "    # Map team IDs to team names\n",
    "    df['team_home'] = df['team_h'].map(team_mappings[season])\n",
    "    df['team_away'] = df['team_a'].map(team_mapping[season])\n",
    "    fixtures_list.append(df)\n",
    "\n",
    "# Concatenate all fixtures into one DataFrame\n",
    "fixtures = pd.concat(fixtures_list, ignore_index=True)\n",
    "\n",
    "# Rename columns for consistency\n",
    "fixtures = fixtures.rename(columns={\"event\": \"GW\"})\n",
    "\n",
    "# Step 3: Count games per team per gameweek\n",
    "# Count home games\n",
    "home_games = fixtures.groupby([\"season\", \"GW\", \"team_home\"]).size().reset_index(name=\"num_games\")\n",
    "# Count away games\n",
    "away_games = fixtures.groupby([\"season\", \"GW\", \"team_away\"]).size().reset_index(name=\"num_games\")\n",
    "# Rename to a common 'team' column\n",
    "home_games = home_games.rename(columns={\"team_home\": \"team\"})\n",
    "away_games = away_games.rename(columns={\"team_away\": \"team\"})\n",
    "# Combine home and away games and sum the number of games\n",
    "team_games = pd.concat([home_games, away_games])\n",
    "team_games = team_games.groupby([\"season\", \"GW\", \"team\"])[\"num_games\"].sum().reset_index()\n",
    "# Rename for clarity\n",
    "team_games = team_games.rename(columns={\"num_games\": \"num_games_in_gw\"})\n",
    "\n",
    "# Optional: Inspect the result\n",
    "print(team_games.head())"
   ]
  },
  {
   "cell_type": "code",
   "execution_count": 5,
   "id": "c268840d-bc5f-4ca4-949e-b72b163c2a3b",
   "metadata": {},
   "outputs": [
    {
     "name": "stdout",
     "output_type": "stream",
     "text": [
      "    season  GW            team  num_games_in_gw\n",
      "0  2020-21   1         Arsenal                1\n",
      "1  2020-21   1        Brighton                1\n",
      "2  2020-21   1         Chelsea                1\n",
      "3  2020-21   1  Crystal Palace                1\n",
      "4  2020-21   1         Everton                1\n"
     ]
    }
   ],
   "source": [
    "import pandas as pd\n",
    "\n",
    "# List of seasons\n",
    "seasons = [\"2020-21\", \"2021-22\", \"2022-23\", \"2023-24\", \"2024-25\"]\n",
    "\n",
    "# Step 1: Load team mappings for each season\n",
    "team_mappings = {}\n",
    "for season in seasons:\n",
    "    teams_file = f\"data/historical/{season}/teams.csv\"\n",
    "    teams_df = pd.read_csv(teams_file)\n",
    "    # Create a dictionary mapping team ID to team name\n",
    "    team_mappings[season] = dict(zip(teams_df['id'], teams_df['name']))\n",
    "\n",
    "# Step 2: Load and process fixture files\n",
    "fixtures_list = []\n",
    "for season in seasons:\n",
    "    file_path = f\"data/historical/{season}/fixtures.csv\"\n",
    "    df = pd.read_csv(file_path)\n",
    "    # Add season column\n",
    "    df['season'] = season\n",
    "    # Map team IDs to team names\n",
    "    df['team_home'] = df['team_h'].map(team_mappings[season])\n",
    "    df['team_away'] = df['team_a'].map(team_mappings[season])  # Fixed typo here\n",
    "    fixtures_list.append(df)\n",
    "\n",
    "# Concatenate all fixtures into one DataFrame\n",
    "fixtures = pd.concat(fixtures_list, ignore_index=True)\n",
    "\n",
    "# Rename columns for consistency\n",
    "fixtures = fixtures.rename(columns={\"event\": \"GW\"})\n",
    "\n",
    "# Step 3: Count games per team per gameweek\n",
    "# Count home games\n",
    "home_games = fixtures.groupby([\"season\", \"GW\", \"team_home\"]).size().reset_index(name=\"num_games\")\n",
    "# Count away games\n",
    "away_games = fixtures.groupby([\"season\", \"GW\", \"team_away\"]).size().reset_index(name=\"num_games\")\n",
    "# Rename to a common 'team' column\n",
    "home_games = home_games.rename(columns={\"team_home\": \"team\"})\n",
    "away_games = away_games.rename(columns={\"team_away\": \"team\"})\n",
    "# Combine home and away games and sum the number of games\n",
    "team_games = pd.concat([home_games, away_games])\n",
    "team_games = team_games.groupby([\"season\", \"GW\", \"team\"])[\"num_games\"].sum().reset_index()\n",
    "# Rename for clarity\n",
    "team_games = team_games.rename(columns={\"num_games\": \"num_games_in_gw\"})\n",
    "\n",
    "# Optional: Inspect the result\n",
    "print(team_games.head())"
   ]
  },
  {
   "cell_type": "code",
   "execution_count": 6,
   "id": "095444e0-2ade-4cd4-91f0-586eeb7ec334",
   "metadata": {},
   "outputs": [
    {
     "name": "stderr",
     "output_type": "stream",
     "text": [
      "C:\\Users\\pentester\\AppData\\Local\\Temp\\ipykernel_13192\\3250834611.py:4: DtypeWarning: Columns (42) have mixed types. Specify dtype option on import or set low_memory=False.\n",
      "  df = pd.read_csv('data/preprocessed_historical_gw_zeroed.csv')\n"
     ]
    }
   ],
   "source": [
    "import pandas as pd\n",
    "\n",
    "# Load preprocessed historical gameweek data\n",
    "df = pd.read_csv('data/preprocessed_historical_gw_zeroed.csv')\n",
    "\n",
    "# Assuming team_games is in memory or saved previously\n",
    "# Example: team_games = pd.read_csv('data/team_games.csv')\n",
    "# Expected columns: season, GW, team, num_games_in_gw"
   ]
  },
  {
   "cell_type": "code",
   "execution_count": 7,
   "id": "2892353e-199f-4700-9fc6-a83d22e20244",
   "metadata": {},
   "outputs": [],
   "source": [
    "# Merge team_games into the main DataFrame\n",
    "df = df.merge(team_games, on=['season', 'GW', 'team'], how='left')\n",
    "\n",
    "# Fill missing values with 0 (blank gameweeks) and ensure integer type\n",
    "df['num_games_in_gw'] = df['num_games_in_gw'].fillna(0).astype(int)"
   ]
  },
  {
   "cell_type": "code",
   "execution_count": 8,
   "id": "4220c555-112b-46c9-8e52-0f4fed319bcc",
   "metadata": {},
   "outputs": [],
   "source": [
    "# Sort by season, player, and gameweek\n",
    "df = df.sort_values(['season', 'element', 'GW'])\n",
    "\n",
    "# Define EWMA span (controls decay; 5 gameweeks equivalent)\n",
    "span = 5\n",
    "\n",
    "# Calculate rolling averages (simple mean here, can use .ewm for true EWMA)\n",
    "player_rolling = df.groupby(['season', 'element']).rolling(window=span, min_periods=1).agg({\n",
    "    'total_points': 'mean',\n",
    "    'minutes': 'mean',\n",
    "    'expected_goals': 'mean',\n",
    "    'expected_assists': 'mean'\n",
    "}).reset_index(drop=True)\n",
    "\n",
    "# Shift to prevent data leakage\n",
    "player_rolling = player_rolling.shift(1)\n",
    "\n",
    "# Rename columns\n",
    "player_rolling.columns = ['player_points_ewma', 'player_minutes_ewma', 'player_xg_ewma', 'player_xa_ewma']\n",
    "\n",
    "# Add to main DataFrame\n",
    "df = pd.concat([df.reset_index(drop=True), player_rolling], axis=1)"
   ]
  },
  {
   "cell_type": "code",
   "execution_count": 9,
   "id": "e7cc6d97-fb35-4f61-bf35-39f9e206c6d2",
   "metadata": {},
   "outputs": [
    {
     "name": "stderr",
     "output_type": "stream",
     "text": [
      "C:\\Users\\pentester\\AppData\\Local\\Temp\\ipykernel_13192\\2217398815.py:26: UserWarning: You are merging on int and float columns where the float values are not equal to their int representation.\n",
      "  df = df.merge(team_rolling, on=['season', 'GW', 'team'], how='left')\n"
     ]
    }
   ],
   "source": [
    "# Aggregate team stats per gameweek\n",
    "team_stats = df.groupby(['season', 'GW', 'team']).agg({\n",
    "    'goals_scored': 'sum',  # Adjust if not available; derive from fixtures if needed\n",
    "    'goals_conceded': 'sum',\n",
    "    'expected_goals': 'sum',\n",
    "    'expected_goals_conceded': 'sum'  # Use opponent xG if not directly available\n",
    "}).reset_index()\n",
    "\n",
    "# Merge num_games_in_gw\n",
    "team_stats = team_stats.merge(team_games, on=['season', 'GW', 'team'], how='left')\n",
    "\n",
    "# Normalize by number of games\n",
    "team_stats['team_goals_scored_per_game'] = team_stats['goals_scored'] / team_stats['num_games_in_gw']\n",
    "team_stats['team_goals_conceded_per_game'] = team_stats['goals_conceded'] / team_stats['num_games_in_gw']\n",
    "team_stats['team_xg_per_game'] = team_stats['expected_goals'] / team_stats['num_games_in_gw']\n",
    "team_stats['team_xgc_per_game'] = team_stats['expected_goals_conceded'] / team_stats['num_games_in_gw']\n",
    "\n",
    "# Calculate rolling averages\n",
    "team_rolling = team_stats.groupby(['season', 'team']).rolling(window=5, min_periods=1).mean().shift(1).reset_index()\n",
    "\n",
    "# Select relevant columns\n",
    "team_rolling = team_rolling[['season', 'GW', 'team', 'team_goals_scored_per_game', \n",
    "                             'team_goals_conceded_per_game', 'team_xg_per_game', 'team_xgc_per_game']]\n",
    "\n",
    "# Merge back to main DataFrame\n",
    "df = df.merge(team_rolling, on=['season', 'GW', 'team'], how='left')"
   ]
  },
  {
   "cell_type": "code",
   "execution_count": 10,
   "id": "75050656-a421-4be8-92bb-9114d01d3be1",
   "metadata": {},
   "outputs": [
    {
     "name": "stderr",
     "output_type": "stream",
     "text": [
      "C:\\Users\\pentester\\AppData\\Local\\Temp\\ipykernel_13192\\4086611333.py:9: UserWarning: You are merging on int and float columns where the float values are not equal to their int representation.\n",
      "  df = df.merge(opp_rolling[['season', 'GW', 'opponent_team', 'position', 'opponent_points_conceded_to_position']],\n",
      "C:\\Users\\pentester\\AppData\\Local\\Temp\\ipykernel_13192\\4086611333.py:13: UserWarning: You are merging on int and float columns where the float values are not equal to their int representation.\n",
      "  df = df.merge(team_rolling[['season', 'GW', 'team', 'team_xgc_per_game']],\n"
     ]
    },
    {
     "ename": "ValueError",
     "evalue": "You are trying to merge on int64 and object columns for key 'opponent_team'. If you wish to proceed you should use pd.concat",
     "output_type": "error",
     "traceback": [
      "\u001b[1;31m---------------------------------------------------------------------------\u001b[0m",
      "\u001b[1;31mValueError\u001b[0m                                Traceback (most recent call last)",
      "Cell \u001b[1;32mIn[10], line 13\u001b[0m\n\u001b[0;32m      9\u001b[0m df \u001b[38;5;241m=\u001b[39m df\u001b[38;5;241m.\u001b[39mmerge(opp_rolling[[\u001b[38;5;124m'\u001b[39m\u001b[38;5;124mseason\u001b[39m\u001b[38;5;124m'\u001b[39m, \u001b[38;5;124m'\u001b[39m\u001b[38;5;124mGW\u001b[39m\u001b[38;5;124m'\u001b[39m, \u001b[38;5;124m'\u001b[39m\u001b[38;5;124mopponent_team\u001b[39m\u001b[38;5;124m'\u001b[39m, \u001b[38;5;124m'\u001b[39m\u001b[38;5;124mposition\u001b[39m\u001b[38;5;124m'\u001b[39m, \u001b[38;5;124m'\u001b[39m\u001b[38;5;124mopponent_points_conceded_to_position\u001b[39m\u001b[38;5;124m'\u001b[39m]], \n\u001b[0;32m     10\u001b[0m               on\u001b[38;5;241m=\u001b[39m[\u001b[38;5;124m'\u001b[39m\u001b[38;5;124mseason\u001b[39m\u001b[38;5;124m'\u001b[39m, \u001b[38;5;124m'\u001b[39m\u001b[38;5;124mGW\u001b[39m\u001b[38;5;124m'\u001b[39m, \u001b[38;5;124m'\u001b[39m\u001b[38;5;124mopponent_team\u001b[39m\u001b[38;5;124m'\u001b[39m, \u001b[38;5;124m'\u001b[39m\u001b[38;5;124mposition\u001b[39m\u001b[38;5;124m'\u001b[39m], how\u001b[38;5;241m=\u001b[39m\u001b[38;5;124m'\u001b[39m\u001b[38;5;124mleft\u001b[39m\u001b[38;5;124m'\u001b[39m)\n\u001b[0;32m     12\u001b[0m \u001b[38;5;66;03m# Add opponent_xgc_per_game (using team_xgc_per_game from the opponent)\u001b[39;00m\n\u001b[1;32m---> 13\u001b[0m df \u001b[38;5;241m=\u001b[39m df\u001b[38;5;241m.\u001b[39mmerge(team_rolling[[\u001b[38;5;124m'\u001b[39m\u001b[38;5;124mseason\u001b[39m\u001b[38;5;124m'\u001b[39m, \u001b[38;5;124m'\u001b[39m\u001b[38;5;124mGW\u001b[39m\u001b[38;5;124m'\u001b[39m, \u001b[38;5;124m'\u001b[39m\u001b[38;5;124mteam\u001b[39m\u001b[38;5;124m'\u001b[39m, \u001b[38;5;124m'\u001b[39m\u001b[38;5;124mteam_xgc_per_game\u001b[39m\u001b[38;5;124m'\u001b[39m]], \n\u001b[0;32m     14\u001b[0m               left_on\u001b[38;5;241m=\u001b[39m[\u001b[38;5;124m'\u001b[39m\u001b[38;5;124mseason\u001b[39m\u001b[38;5;124m'\u001b[39m, \u001b[38;5;124m'\u001b[39m\u001b[38;5;124mGW\u001b[39m\u001b[38;5;124m'\u001b[39m, \u001b[38;5;124m'\u001b[39m\u001b[38;5;124mopponent_team\u001b[39m\u001b[38;5;124m'\u001b[39m], right_on\u001b[38;5;241m=\u001b[39m[\u001b[38;5;124m'\u001b[39m\u001b[38;5;124mseason\u001b[39m\u001b[38;5;124m'\u001b[39m, \u001b[38;5;124m'\u001b[39m\u001b[38;5;124mGW\u001b[39m\u001b[38;5;124m'\u001b[39m, \u001b[38;5;124m'\u001b[39m\u001b[38;5;124mteam\u001b[39m\u001b[38;5;124m'\u001b[39m], \n\u001b[0;32m     15\u001b[0m               how\u001b[38;5;241m=\u001b[39m\u001b[38;5;124m'\u001b[39m\u001b[38;5;124mleft\u001b[39m\u001b[38;5;124m'\u001b[39m, suffixes\u001b[38;5;241m=\u001b[39m(\u001b[38;5;124m'\u001b[39m\u001b[38;5;124m'\u001b[39m, \u001b[38;5;124m'\u001b[39m\u001b[38;5;124m_opp\u001b[39m\u001b[38;5;124m'\u001b[39m))\n\u001b[0;32m     16\u001b[0m df[\u001b[38;5;124m'\u001b[39m\u001b[38;5;124mopponent_xgc_per_game\u001b[39m\u001b[38;5;124m'\u001b[39m] \u001b[38;5;241m=\u001b[39m df[\u001b[38;5;124m'\u001b[39m\u001b[38;5;124mteam_xgc_per_game_opp\u001b[39m\u001b[38;5;124m'\u001b[39m]\n\u001b[0;32m     17\u001b[0m df \u001b[38;5;241m=\u001b[39m df\u001b[38;5;241m.\u001b[39mdrop(columns\u001b[38;5;241m=\u001b[39m[\u001b[38;5;124m'\u001b[39m\u001b[38;5;124mteam_opp\u001b[39m\u001b[38;5;124m'\u001b[39m, \u001b[38;5;124m'\u001b[39m\u001b[38;5;124mteam_xgc_per_game_opp\u001b[39m\u001b[38;5;124m'\u001b[39m])\n",
      "File \u001b[1;32m~\\anaconda3\\Lib\\site-packages\\pandas\\core\\frame.py:10832\u001b[0m, in \u001b[0;36mDataFrame.merge\u001b[1;34m(self, right, how, on, left_on, right_on, left_index, right_index, sort, suffixes, copy, indicator, validate)\u001b[0m\n\u001b[0;32m  10813\u001b[0m \u001b[38;5;129m@Substitution\u001b[39m(\u001b[38;5;124m\"\u001b[39m\u001b[38;5;124m\"\u001b[39m)\n\u001b[0;32m  10814\u001b[0m \u001b[38;5;129m@Appender\u001b[39m(_merge_doc, indents\u001b[38;5;241m=\u001b[39m\u001b[38;5;241m2\u001b[39m)\n\u001b[0;32m  10815\u001b[0m \u001b[38;5;28;01mdef\u001b[39;00m \u001b[38;5;21mmerge\u001b[39m(\n\u001b[1;32m   (...)\u001b[0m\n\u001b[0;32m  10828\u001b[0m     validate: MergeValidate \u001b[38;5;241m|\u001b[39m \u001b[38;5;28;01mNone\u001b[39;00m \u001b[38;5;241m=\u001b[39m \u001b[38;5;28;01mNone\u001b[39;00m,\n\u001b[0;32m  10829\u001b[0m ) \u001b[38;5;241m-\u001b[39m\u001b[38;5;241m>\u001b[39m DataFrame:\n\u001b[0;32m  10830\u001b[0m     \u001b[38;5;28;01mfrom\u001b[39;00m \u001b[38;5;21;01mpandas\u001b[39;00m\u001b[38;5;21;01m.\u001b[39;00m\u001b[38;5;21;01mcore\u001b[39;00m\u001b[38;5;21;01m.\u001b[39;00m\u001b[38;5;21;01mreshape\u001b[39;00m\u001b[38;5;21;01m.\u001b[39;00m\u001b[38;5;21;01mmerge\u001b[39;00m \u001b[38;5;28;01mimport\u001b[39;00m merge\n\u001b[1;32m> 10832\u001b[0m     \u001b[38;5;28;01mreturn\u001b[39;00m merge(\n\u001b[0;32m  10833\u001b[0m         \u001b[38;5;28mself\u001b[39m,\n\u001b[0;32m  10834\u001b[0m         right,\n\u001b[0;32m  10835\u001b[0m         how\u001b[38;5;241m=\u001b[39mhow,\n\u001b[0;32m  10836\u001b[0m         on\u001b[38;5;241m=\u001b[39mon,\n\u001b[0;32m  10837\u001b[0m         left_on\u001b[38;5;241m=\u001b[39mleft_on,\n\u001b[0;32m  10838\u001b[0m         right_on\u001b[38;5;241m=\u001b[39mright_on,\n\u001b[0;32m  10839\u001b[0m         left_index\u001b[38;5;241m=\u001b[39mleft_index,\n\u001b[0;32m  10840\u001b[0m         right_index\u001b[38;5;241m=\u001b[39mright_index,\n\u001b[0;32m  10841\u001b[0m         sort\u001b[38;5;241m=\u001b[39msort,\n\u001b[0;32m  10842\u001b[0m         suffixes\u001b[38;5;241m=\u001b[39msuffixes,\n\u001b[0;32m  10843\u001b[0m         copy\u001b[38;5;241m=\u001b[39mcopy,\n\u001b[0;32m  10844\u001b[0m         indicator\u001b[38;5;241m=\u001b[39mindicator,\n\u001b[0;32m  10845\u001b[0m         validate\u001b[38;5;241m=\u001b[39mvalidate,\n\u001b[0;32m  10846\u001b[0m     )\n",
      "File \u001b[1;32m~\\anaconda3\\Lib\\site-packages\\pandas\\core\\reshape\\merge.py:170\u001b[0m, in \u001b[0;36mmerge\u001b[1;34m(left, right, how, on, left_on, right_on, left_index, right_index, sort, suffixes, copy, indicator, validate)\u001b[0m\n\u001b[0;32m    155\u001b[0m     \u001b[38;5;28;01mreturn\u001b[39;00m _cross_merge(\n\u001b[0;32m    156\u001b[0m         left_df,\n\u001b[0;32m    157\u001b[0m         right_df,\n\u001b[1;32m   (...)\u001b[0m\n\u001b[0;32m    167\u001b[0m         copy\u001b[38;5;241m=\u001b[39mcopy,\n\u001b[0;32m    168\u001b[0m     )\n\u001b[0;32m    169\u001b[0m \u001b[38;5;28;01melse\u001b[39;00m:\n\u001b[1;32m--> 170\u001b[0m     op \u001b[38;5;241m=\u001b[39m _MergeOperation(\n\u001b[0;32m    171\u001b[0m         left_df,\n\u001b[0;32m    172\u001b[0m         right_df,\n\u001b[0;32m    173\u001b[0m         how\u001b[38;5;241m=\u001b[39mhow,\n\u001b[0;32m    174\u001b[0m         on\u001b[38;5;241m=\u001b[39mon,\n\u001b[0;32m    175\u001b[0m         left_on\u001b[38;5;241m=\u001b[39mleft_on,\n\u001b[0;32m    176\u001b[0m         right_on\u001b[38;5;241m=\u001b[39mright_on,\n\u001b[0;32m    177\u001b[0m         left_index\u001b[38;5;241m=\u001b[39mleft_index,\n\u001b[0;32m    178\u001b[0m         right_index\u001b[38;5;241m=\u001b[39mright_index,\n\u001b[0;32m    179\u001b[0m         sort\u001b[38;5;241m=\u001b[39msort,\n\u001b[0;32m    180\u001b[0m         suffixes\u001b[38;5;241m=\u001b[39msuffixes,\n\u001b[0;32m    181\u001b[0m         indicator\u001b[38;5;241m=\u001b[39mindicator,\n\u001b[0;32m    182\u001b[0m         validate\u001b[38;5;241m=\u001b[39mvalidate,\n\u001b[0;32m    183\u001b[0m     )\n\u001b[0;32m    184\u001b[0m     \u001b[38;5;28;01mreturn\u001b[39;00m op\u001b[38;5;241m.\u001b[39mget_result(copy\u001b[38;5;241m=\u001b[39mcopy)\n",
      "File \u001b[1;32m~\\anaconda3\\Lib\\site-packages\\pandas\\core\\reshape\\merge.py:807\u001b[0m, in \u001b[0;36m_MergeOperation.__init__\u001b[1;34m(self, left, right, how, on, left_on, right_on, left_index, right_index, sort, suffixes, indicator, validate)\u001b[0m\n\u001b[0;32m    803\u001b[0m \u001b[38;5;28mself\u001b[39m\u001b[38;5;241m.\u001b[39m_validate_tolerance(\u001b[38;5;28mself\u001b[39m\u001b[38;5;241m.\u001b[39mleft_join_keys)\n\u001b[0;32m    805\u001b[0m \u001b[38;5;66;03m# validate the merge keys dtypes. We may need to coerce\u001b[39;00m\n\u001b[0;32m    806\u001b[0m \u001b[38;5;66;03m# to avoid incompatible dtypes\u001b[39;00m\n\u001b[1;32m--> 807\u001b[0m \u001b[38;5;28mself\u001b[39m\u001b[38;5;241m.\u001b[39m_maybe_coerce_merge_keys()\n\u001b[0;32m    809\u001b[0m \u001b[38;5;66;03m# If argument passed to validate,\u001b[39;00m\n\u001b[0;32m    810\u001b[0m \u001b[38;5;66;03m# check if columns specified as unique\u001b[39;00m\n\u001b[0;32m    811\u001b[0m \u001b[38;5;66;03m# are in fact unique.\u001b[39;00m\n\u001b[0;32m    812\u001b[0m \u001b[38;5;28;01mif\u001b[39;00m validate \u001b[38;5;129;01mis\u001b[39;00m \u001b[38;5;129;01mnot\u001b[39;00m \u001b[38;5;28;01mNone\u001b[39;00m:\n",
      "File \u001b[1;32m~\\anaconda3\\Lib\\site-packages\\pandas\\core\\reshape\\merge.py:1508\u001b[0m, in \u001b[0;36m_MergeOperation._maybe_coerce_merge_keys\u001b[1;34m(self)\u001b[0m\n\u001b[0;32m   1502\u001b[0m     \u001b[38;5;66;03m# unless we are merging non-string-like with string-like\u001b[39;00m\n\u001b[0;32m   1503\u001b[0m     \u001b[38;5;28;01melif\u001b[39;00m (\n\u001b[0;32m   1504\u001b[0m         inferred_left \u001b[38;5;129;01min\u001b[39;00m string_types \u001b[38;5;129;01mand\u001b[39;00m inferred_right \u001b[38;5;129;01mnot\u001b[39;00m \u001b[38;5;129;01min\u001b[39;00m string_types\n\u001b[0;32m   1505\u001b[0m     ) \u001b[38;5;129;01mor\u001b[39;00m (\n\u001b[0;32m   1506\u001b[0m         inferred_right \u001b[38;5;129;01min\u001b[39;00m string_types \u001b[38;5;129;01mand\u001b[39;00m inferred_left \u001b[38;5;129;01mnot\u001b[39;00m \u001b[38;5;129;01min\u001b[39;00m string_types\n\u001b[0;32m   1507\u001b[0m     ):\n\u001b[1;32m-> 1508\u001b[0m         \u001b[38;5;28;01mraise\u001b[39;00m \u001b[38;5;167;01mValueError\u001b[39;00m(msg)\n\u001b[0;32m   1510\u001b[0m \u001b[38;5;66;03m# datetimelikes must match exactly\u001b[39;00m\n\u001b[0;32m   1511\u001b[0m \u001b[38;5;28;01melif\u001b[39;00m needs_i8_conversion(lk\u001b[38;5;241m.\u001b[39mdtype) \u001b[38;5;129;01mand\u001b[39;00m \u001b[38;5;129;01mnot\u001b[39;00m needs_i8_conversion(rk\u001b[38;5;241m.\u001b[39mdtype):\n",
      "\u001b[1;31mValueError\u001b[0m: You are trying to merge on int64 and object columns for key 'opponent_team'. If you wish to proceed you should use pd.concat"
     ]
    }
   ],
   "source": [
    "# Calculate points conceded by opponent to each position\n",
    "opp_points = df.groupby(['season', 'GW', 'opponent_team', 'position'])['total_points'].mean().reset_index()\n",
    "\n",
    "# Rolling average per opponent and position\n",
    "opp_rolling = opp_points.groupby(['season', 'opponent_team', 'position']).rolling(window=5, min_periods=1).mean().shift(1).reset_index()\n",
    "opp_rolling = opp_rolling.rename(columns={'total_points': 'opponent_points_conceded_to_position'})\n",
    "\n",
    "# Merge to main DataFrame\n",
    "df = df.merge(opp_rolling[['season', 'GW', 'opponent_team', 'position', 'opponent_points_conceded_to_position']], \n",
    "              on=['season', 'GW', 'opponent_team', 'position'], how='left')\n",
    "\n",
    "# Add opponent_xgc_per_game (using team_xgc_per_game from the opponent)\n",
    "df = df.merge(team_rolling[['season', 'GW', 'team', 'team_xgc_per_game']], \n",
    "              left_on=['season', 'GW', 'opponent_team'], right_on=['season', 'GW', 'team'], \n",
    "              how='left', suffixes=('', '_opp'))\n",
    "df['opponent_xgc_per_game'] = df['team_xgc_per_game_opp']\n",
    "df = df.drop(columns=['team_opp', 'team_xgc_per_game_opp'])"
   ]
  },
  {
   "cell_type": "code",
   "execution_count": 11,
   "id": "bb4cef02-c03e-4a5c-8df1-60a67ab2e100",
   "metadata": {},
   "outputs": [
    {
     "ename": "TypeError",
     "evalue": "cannot safely cast non-equivalent float64 to int64",
     "output_type": "error",
     "traceback": [
      "\u001b[1;31m---------------------------------------------------------------------------\u001b[0m",
      "\u001b[1;31mTypeError\u001b[0m                                 Traceback (most recent call last)",
      "File \u001b[1;32m~\\anaconda3\\Lib\\site-packages\\pandas\\core\\arrays\\integer.py:53\u001b[0m, in \u001b[0;36mIntegerDtype._safe_cast\u001b[1;34m(cls, values, dtype, copy)\u001b[0m\n\u001b[0;32m     52\u001b[0m \u001b[38;5;28;01mtry\u001b[39;00m:\n\u001b[1;32m---> 53\u001b[0m     \u001b[38;5;28;01mreturn\u001b[39;00m values\u001b[38;5;241m.\u001b[39mastype(dtype, casting\u001b[38;5;241m=\u001b[39m\u001b[38;5;124m\"\u001b[39m\u001b[38;5;124msafe\u001b[39m\u001b[38;5;124m\"\u001b[39m, copy\u001b[38;5;241m=\u001b[39mcopy)\n\u001b[0;32m     54\u001b[0m \u001b[38;5;28;01mexcept\u001b[39;00m \u001b[38;5;167;01mTypeError\u001b[39;00m \u001b[38;5;28;01mas\u001b[39;00m err:\n",
      "\u001b[1;31mTypeError\u001b[0m: Cannot cast array data from dtype('float64') to dtype('int64') according to the rule 'safe'",
      "\nThe above exception was the direct cause of the following exception:\n",
      "\u001b[1;31mTypeError\u001b[0m                                 Traceback (most recent call last)",
      "Cell \u001b[1;32mIn[11], line 18\u001b[0m\n\u001b[0;32m     16\u001b[0m \u001b[38;5;66;03m# Standardize types in opp_rolling\u001b[39;00m\n\u001b[0;32m     17\u001b[0m opp_rolling[\u001b[38;5;124m'\u001b[39m\u001b[38;5;124mseason\u001b[39m\u001b[38;5;124m'\u001b[39m] \u001b[38;5;241m=\u001b[39m opp_rolling[\u001b[38;5;124m'\u001b[39m\u001b[38;5;124mseason\u001b[39m\u001b[38;5;124m'\u001b[39m]\u001b[38;5;241m.\u001b[39mastype(\u001b[38;5;28mstr\u001b[39m)\n\u001b[1;32m---> 18\u001b[0m opp_rolling[\u001b[38;5;124m'\u001b[39m\u001b[38;5;124mGW\u001b[39m\u001b[38;5;124m'\u001b[39m] \u001b[38;5;241m=\u001b[39m opp_rolling[\u001b[38;5;124m'\u001b[39m\u001b[38;5;124mGW\u001b[39m\u001b[38;5;124m'\u001b[39m]\u001b[38;5;241m.\u001b[39mastype(\u001b[38;5;124m'\u001b[39m\u001b[38;5;124mInt64\u001b[39m\u001b[38;5;124m'\u001b[39m)\n\u001b[0;32m     19\u001b[0m opp_rolling[\u001b[38;5;124m'\u001b[39m\u001b[38;5;124mopponent_team\u001b[39m\u001b[38;5;124m'\u001b[39m] \u001b[38;5;241m=\u001b[39m opp_rolling[\u001b[38;5;124m'\u001b[39m\u001b[38;5;124mopponent_team\u001b[39m\u001b[38;5;124m'\u001b[39m]\u001b[38;5;241m.\u001b[39mastype(\u001b[38;5;124m'\u001b[39m\u001b[38;5;124mInt64\u001b[39m\u001b[38;5;124m'\u001b[39m)\n\u001b[0;32m     20\u001b[0m opp_rolling[\u001b[38;5;124m'\u001b[39m\u001b[38;5;124mposition\u001b[39m\u001b[38;5;124m'\u001b[39m] \u001b[38;5;241m=\u001b[39m opp_rolling[\u001b[38;5;124m'\u001b[39m\u001b[38;5;124mposition\u001b[39m\u001b[38;5;124m'\u001b[39m]\u001b[38;5;241m.\u001b[39mastype(\u001b[38;5;28mstr\u001b[39m)\n",
      "File \u001b[1;32m~\\anaconda3\\Lib\\site-packages\\pandas\\core\\generic.py:6643\u001b[0m, in \u001b[0;36mNDFrame.astype\u001b[1;34m(self, dtype, copy, errors)\u001b[0m\n\u001b[0;32m   6637\u001b[0m     results \u001b[38;5;241m=\u001b[39m [\n\u001b[0;32m   6638\u001b[0m         ser\u001b[38;5;241m.\u001b[39mastype(dtype, copy\u001b[38;5;241m=\u001b[39mcopy, errors\u001b[38;5;241m=\u001b[39merrors) \u001b[38;5;28;01mfor\u001b[39;00m _, ser \u001b[38;5;129;01min\u001b[39;00m \u001b[38;5;28mself\u001b[39m\u001b[38;5;241m.\u001b[39mitems()\n\u001b[0;32m   6639\u001b[0m     ]\n\u001b[0;32m   6641\u001b[0m \u001b[38;5;28;01melse\u001b[39;00m:\n\u001b[0;32m   6642\u001b[0m     \u001b[38;5;66;03m# else, only a single dtype is given\u001b[39;00m\n\u001b[1;32m-> 6643\u001b[0m     new_data \u001b[38;5;241m=\u001b[39m \u001b[38;5;28mself\u001b[39m\u001b[38;5;241m.\u001b[39m_mgr\u001b[38;5;241m.\u001b[39mastype(dtype\u001b[38;5;241m=\u001b[39mdtype, copy\u001b[38;5;241m=\u001b[39mcopy, errors\u001b[38;5;241m=\u001b[39merrors)\n\u001b[0;32m   6644\u001b[0m     res \u001b[38;5;241m=\u001b[39m \u001b[38;5;28mself\u001b[39m\u001b[38;5;241m.\u001b[39m_constructor_from_mgr(new_data, axes\u001b[38;5;241m=\u001b[39mnew_data\u001b[38;5;241m.\u001b[39maxes)\n\u001b[0;32m   6645\u001b[0m     \u001b[38;5;28;01mreturn\u001b[39;00m res\u001b[38;5;241m.\u001b[39m__finalize__(\u001b[38;5;28mself\u001b[39m, method\u001b[38;5;241m=\u001b[39m\u001b[38;5;124m\"\u001b[39m\u001b[38;5;124mastype\u001b[39m\u001b[38;5;124m\"\u001b[39m)\n",
      "File \u001b[1;32m~\\anaconda3\\Lib\\site-packages\\pandas\\core\\internals\\managers.py:430\u001b[0m, in \u001b[0;36mBaseBlockManager.astype\u001b[1;34m(self, dtype, copy, errors)\u001b[0m\n\u001b[0;32m    427\u001b[0m \u001b[38;5;28;01melif\u001b[39;00m using_copy_on_write():\n\u001b[0;32m    428\u001b[0m     copy \u001b[38;5;241m=\u001b[39m \u001b[38;5;28;01mFalse\u001b[39;00m\n\u001b[1;32m--> 430\u001b[0m \u001b[38;5;28;01mreturn\u001b[39;00m \u001b[38;5;28mself\u001b[39m\u001b[38;5;241m.\u001b[39mapply(\n\u001b[0;32m    431\u001b[0m     \u001b[38;5;124m\"\u001b[39m\u001b[38;5;124mastype\u001b[39m\u001b[38;5;124m\"\u001b[39m,\n\u001b[0;32m    432\u001b[0m     dtype\u001b[38;5;241m=\u001b[39mdtype,\n\u001b[0;32m    433\u001b[0m     copy\u001b[38;5;241m=\u001b[39mcopy,\n\u001b[0;32m    434\u001b[0m     errors\u001b[38;5;241m=\u001b[39merrors,\n\u001b[0;32m    435\u001b[0m     using_cow\u001b[38;5;241m=\u001b[39musing_copy_on_write(),\n\u001b[0;32m    436\u001b[0m )\n",
      "File \u001b[1;32m~\\anaconda3\\Lib\\site-packages\\pandas\\core\\internals\\managers.py:363\u001b[0m, in \u001b[0;36mBaseBlockManager.apply\u001b[1;34m(self, f, align_keys, **kwargs)\u001b[0m\n\u001b[0;32m    361\u001b[0m         applied \u001b[38;5;241m=\u001b[39m b\u001b[38;5;241m.\u001b[39mapply(f, \u001b[38;5;241m*\u001b[39m\u001b[38;5;241m*\u001b[39mkwargs)\n\u001b[0;32m    362\u001b[0m     \u001b[38;5;28;01melse\u001b[39;00m:\n\u001b[1;32m--> 363\u001b[0m         applied \u001b[38;5;241m=\u001b[39m \u001b[38;5;28mgetattr\u001b[39m(b, f)(\u001b[38;5;241m*\u001b[39m\u001b[38;5;241m*\u001b[39mkwargs)\n\u001b[0;32m    364\u001b[0m     result_blocks \u001b[38;5;241m=\u001b[39m extend_blocks(applied, result_blocks)\n\u001b[0;32m    366\u001b[0m out \u001b[38;5;241m=\u001b[39m \u001b[38;5;28mtype\u001b[39m(\u001b[38;5;28mself\u001b[39m)\u001b[38;5;241m.\u001b[39mfrom_blocks(result_blocks, \u001b[38;5;28mself\u001b[39m\u001b[38;5;241m.\u001b[39maxes)\n",
      "File \u001b[1;32m~\\anaconda3\\Lib\\site-packages\\pandas\\core\\internals\\blocks.py:758\u001b[0m, in \u001b[0;36mBlock.astype\u001b[1;34m(self, dtype, copy, errors, using_cow, squeeze)\u001b[0m\n\u001b[0;32m    755\u001b[0m         \u001b[38;5;28;01mraise\u001b[39;00m \u001b[38;5;167;01mValueError\u001b[39;00m(\u001b[38;5;124m\"\u001b[39m\u001b[38;5;124mCan not squeeze with more than one column.\u001b[39m\u001b[38;5;124m\"\u001b[39m)\n\u001b[0;32m    756\u001b[0m     values \u001b[38;5;241m=\u001b[39m values[\u001b[38;5;241m0\u001b[39m, :]  \u001b[38;5;66;03m# type: ignore[call-overload]\u001b[39;00m\n\u001b[1;32m--> 758\u001b[0m new_values \u001b[38;5;241m=\u001b[39m astype_array_safe(values, dtype, copy\u001b[38;5;241m=\u001b[39mcopy, errors\u001b[38;5;241m=\u001b[39merrors)\n\u001b[0;32m    760\u001b[0m new_values \u001b[38;5;241m=\u001b[39m maybe_coerce_values(new_values)\n\u001b[0;32m    762\u001b[0m refs \u001b[38;5;241m=\u001b[39m \u001b[38;5;28;01mNone\u001b[39;00m\n",
      "File \u001b[1;32m~\\anaconda3\\Lib\\site-packages\\pandas\\core\\dtypes\\astype.py:237\u001b[0m, in \u001b[0;36mastype_array_safe\u001b[1;34m(values, dtype, copy, errors)\u001b[0m\n\u001b[0;32m    234\u001b[0m     dtype \u001b[38;5;241m=\u001b[39m dtype\u001b[38;5;241m.\u001b[39mnumpy_dtype\n\u001b[0;32m    236\u001b[0m \u001b[38;5;28;01mtry\u001b[39;00m:\n\u001b[1;32m--> 237\u001b[0m     new_values \u001b[38;5;241m=\u001b[39m astype_array(values, dtype, copy\u001b[38;5;241m=\u001b[39mcopy)\n\u001b[0;32m    238\u001b[0m \u001b[38;5;28;01mexcept\u001b[39;00m (\u001b[38;5;167;01mValueError\u001b[39;00m, \u001b[38;5;167;01mTypeError\u001b[39;00m):\n\u001b[0;32m    239\u001b[0m     \u001b[38;5;66;03m# e.g. _astype_nansafe can fail on object-dtype of strings\u001b[39;00m\n\u001b[0;32m    240\u001b[0m     \u001b[38;5;66;03m#  trying to convert to float\u001b[39;00m\n\u001b[0;32m    241\u001b[0m     \u001b[38;5;28;01mif\u001b[39;00m errors \u001b[38;5;241m==\u001b[39m \u001b[38;5;124m\"\u001b[39m\u001b[38;5;124mignore\u001b[39m\u001b[38;5;124m\"\u001b[39m:\n",
      "File \u001b[1;32m~\\anaconda3\\Lib\\site-packages\\pandas\\core\\dtypes\\astype.py:182\u001b[0m, in \u001b[0;36mastype_array\u001b[1;34m(values, dtype, copy)\u001b[0m\n\u001b[0;32m    179\u001b[0m     values \u001b[38;5;241m=\u001b[39m values\u001b[38;5;241m.\u001b[39mastype(dtype, copy\u001b[38;5;241m=\u001b[39mcopy)\n\u001b[0;32m    181\u001b[0m \u001b[38;5;28;01melse\u001b[39;00m:\n\u001b[1;32m--> 182\u001b[0m     values \u001b[38;5;241m=\u001b[39m _astype_nansafe(values, dtype, copy\u001b[38;5;241m=\u001b[39mcopy)\n\u001b[0;32m    184\u001b[0m \u001b[38;5;66;03m# in pandas we don't store numpy str dtypes, so convert to object\u001b[39;00m\n\u001b[0;32m    185\u001b[0m \u001b[38;5;28;01mif\u001b[39;00m \u001b[38;5;28misinstance\u001b[39m(dtype, np\u001b[38;5;241m.\u001b[39mdtype) \u001b[38;5;129;01mand\u001b[39;00m \u001b[38;5;28missubclass\u001b[39m(values\u001b[38;5;241m.\u001b[39mdtype\u001b[38;5;241m.\u001b[39mtype, \u001b[38;5;28mstr\u001b[39m):\n",
      "File \u001b[1;32m~\\anaconda3\\Lib\\site-packages\\pandas\\core\\dtypes\\astype.py:80\u001b[0m, in \u001b[0;36m_astype_nansafe\u001b[1;34m(arr, dtype, copy, skipna)\u001b[0m\n\u001b[0;32m     78\u001b[0m \u001b[38;5;66;03m# dispatch on extension dtype if needed\u001b[39;00m\n\u001b[0;32m     79\u001b[0m \u001b[38;5;28;01mif\u001b[39;00m \u001b[38;5;28misinstance\u001b[39m(dtype, ExtensionDtype):\n\u001b[1;32m---> 80\u001b[0m     \u001b[38;5;28;01mreturn\u001b[39;00m dtype\u001b[38;5;241m.\u001b[39mconstruct_array_type()\u001b[38;5;241m.\u001b[39m_from_sequence(arr, dtype\u001b[38;5;241m=\u001b[39mdtype, copy\u001b[38;5;241m=\u001b[39mcopy)\n\u001b[0;32m     82\u001b[0m \u001b[38;5;28;01melif\u001b[39;00m \u001b[38;5;129;01mnot\u001b[39;00m \u001b[38;5;28misinstance\u001b[39m(dtype, np\u001b[38;5;241m.\u001b[39mdtype):  \u001b[38;5;66;03m# pragma: no cover\u001b[39;00m\n\u001b[0;32m     83\u001b[0m     \u001b[38;5;28;01mraise\u001b[39;00m \u001b[38;5;167;01mValueError\u001b[39;00m(\u001b[38;5;124m\"\u001b[39m\u001b[38;5;124mdtype must be np.dtype or ExtensionDtype\u001b[39m\u001b[38;5;124m\"\u001b[39m)\n",
      "File \u001b[1;32m~\\anaconda3\\Lib\\site-packages\\pandas\\core\\arrays\\masked.py:152\u001b[0m, in \u001b[0;36mBaseMaskedArray._from_sequence\u001b[1;34m(cls, scalars, dtype, copy)\u001b[0m\n\u001b[0;32m    150\u001b[0m \u001b[38;5;129m@classmethod\u001b[39m\n\u001b[0;32m    151\u001b[0m \u001b[38;5;28;01mdef\u001b[39;00m \u001b[38;5;21m_from_sequence\u001b[39m(\u001b[38;5;28mcls\u001b[39m, scalars, \u001b[38;5;241m*\u001b[39m, dtype\u001b[38;5;241m=\u001b[39m\u001b[38;5;28;01mNone\u001b[39;00m, copy: \u001b[38;5;28mbool\u001b[39m \u001b[38;5;241m=\u001b[39m \u001b[38;5;28;01mFalse\u001b[39;00m) \u001b[38;5;241m-\u001b[39m\u001b[38;5;241m>\u001b[39m Self:\n\u001b[1;32m--> 152\u001b[0m     values, mask \u001b[38;5;241m=\u001b[39m \u001b[38;5;28mcls\u001b[39m\u001b[38;5;241m.\u001b[39m_coerce_to_array(scalars, dtype\u001b[38;5;241m=\u001b[39mdtype, copy\u001b[38;5;241m=\u001b[39mcopy)\n\u001b[0;32m    153\u001b[0m     \u001b[38;5;28;01mreturn\u001b[39;00m \u001b[38;5;28mcls\u001b[39m(values, mask)\n",
      "File \u001b[1;32m~\\anaconda3\\Lib\\site-packages\\pandas\\core\\arrays\\numeric.py:272\u001b[0m, in \u001b[0;36mNumericArray._coerce_to_array\u001b[1;34m(cls, value, dtype, copy)\u001b[0m\n\u001b[0;32m    270\u001b[0m dtype_cls \u001b[38;5;241m=\u001b[39m \u001b[38;5;28mcls\u001b[39m\u001b[38;5;241m.\u001b[39m_dtype_cls\n\u001b[0;32m    271\u001b[0m default_dtype \u001b[38;5;241m=\u001b[39m dtype_cls\u001b[38;5;241m.\u001b[39m_default_np_dtype\n\u001b[1;32m--> 272\u001b[0m values, mask, _, _ \u001b[38;5;241m=\u001b[39m _coerce_to_data_and_mask(\n\u001b[0;32m    273\u001b[0m     value, dtype, copy, dtype_cls, default_dtype\n\u001b[0;32m    274\u001b[0m )\n\u001b[0;32m    275\u001b[0m \u001b[38;5;28;01mreturn\u001b[39;00m values, mask\n",
      "File \u001b[1;32m~\\anaconda3\\Lib\\site-packages\\pandas\\core\\arrays\\numeric.py:229\u001b[0m, in \u001b[0;36m_coerce_to_data_and_mask\u001b[1;34m(values, dtype, copy, dtype_cls, default_dtype)\u001b[0m\n\u001b[0;32m    227\u001b[0m     values \u001b[38;5;241m=\u001b[39m values\u001b[38;5;241m.\u001b[39mastype(dtype, copy\u001b[38;5;241m=\u001b[39mcopy)\n\u001b[0;32m    228\u001b[0m \u001b[38;5;28;01melse\u001b[39;00m:\n\u001b[1;32m--> 229\u001b[0m     values \u001b[38;5;241m=\u001b[39m dtype_cls\u001b[38;5;241m.\u001b[39m_safe_cast(values, dtype, copy\u001b[38;5;241m=\u001b[39m\u001b[38;5;28;01mFalse\u001b[39;00m)\n\u001b[0;32m    231\u001b[0m \u001b[38;5;28;01mreturn\u001b[39;00m values, mask, dtype, inferred_type\n",
      "File \u001b[1;32m~\\anaconda3\\Lib\\site-packages\\pandas\\core\\arrays\\integer.py:59\u001b[0m, in \u001b[0;36mIntegerDtype._safe_cast\u001b[1;34m(cls, values, dtype, copy)\u001b[0m\n\u001b[0;32m     56\u001b[0m \u001b[38;5;28;01mif\u001b[39;00m (casted \u001b[38;5;241m==\u001b[39m values)\u001b[38;5;241m.\u001b[39mall():\n\u001b[0;32m     57\u001b[0m     \u001b[38;5;28;01mreturn\u001b[39;00m casted\n\u001b[1;32m---> 59\u001b[0m \u001b[38;5;28;01mraise\u001b[39;00m \u001b[38;5;167;01mTypeError\u001b[39;00m(\n\u001b[0;32m     60\u001b[0m     \u001b[38;5;124mf\u001b[39m\u001b[38;5;124m\"\u001b[39m\u001b[38;5;124mcannot safely cast non-equivalent \u001b[39m\u001b[38;5;132;01m{\u001b[39;00mvalues\u001b[38;5;241m.\u001b[39mdtype\u001b[38;5;132;01m}\u001b[39;00m\u001b[38;5;124m to \u001b[39m\u001b[38;5;132;01m{\u001b[39;00mnp\u001b[38;5;241m.\u001b[39mdtype(dtype)\u001b[38;5;132;01m}\u001b[39;00m\u001b[38;5;124m\"\u001b[39m\n\u001b[0;32m     61\u001b[0m ) \u001b[38;5;28;01mfrom\u001b[39;00m \u001b[38;5;21;01merr\u001b[39;00m\n",
      "\u001b[1;31mTypeError\u001b[0m: cannot safely cast non-equivalent float64 to int64"
     ]
    }
   ],
   "source": [
    "# Standardize data types (run this before Step 5)\n",
    "df['season'] = df['season'].astype(str)\n",
    "df['GW'] = df['GW'].astype('Int64')  # Use Int64 to handle potential NaNs\n",
    "df['opponent_team'] = df['opponent_team'].astype('Int64')\n",
    "df['position'] = df['position'].astype(str)\n",
    "\n",
    "# Step 5: Opponent Rolling Features\n",
    "\n",
    "# Calculate points conceded by opponent to each position\n",
    "opp_points = df.groupby(['season', 'GW', 'opponent_team', 'position'])['total_points'].mean().reset_index()\n",
    "\n",
    "# Rolling average per opponent and position\n",
    "opp_rolling = opp_points.groupby(['season', 'opponent_team', 'position']).rolling(window=5, min_periods=1).mean().shift(1).reset_index()\n",
    "opp_rolling = opp_rolling.rename(columns={'total_points': 'opponent_points_conceded_to_position'})\n",
    "\n",
    "# Standardize types in opp_rolling\n",
    "opp_rolling['season'] = opp_rolling['season'].astype(str)\n",
    "opp_rolling['GW'] = opp_rolling['GW'].astype('Int64')\n",
    "opp_rolling['opponent_team'] = opp_rolling['opponent_team'].astype('Int64')\n",
    "opp_rolling['position'] = opp_rolling['position'].astype(str)\n",
    "\n",
    "# Merge to main DataFrame\n",
    "df = df.merge(opp_rolling[['season', 'GW', 'opponent_team', 'position', 'opponent_points_conceded_to_position']], \n",
    "              on=['season', 'GW', 'opponent_team', 'position'], how='left')\n",
    "\n",
    "# Map opponent_team to team names\n",
    "df['opponent_team_name'] = df.apply(\n",
    "    lambda row: team_mappings[row['season']].get(row['opponent_team'], 'Unknown'), \n",
    "    axis=1\n",
    ")\n",
    "\n",
    "# Standardize types in team_rolling\n",
    "team_rolling['season'] = team_rolling['season'].astype(str)\n",
    "team_rolling['GW'] = team_rolling['GW'].astype('Int64')\n",
    "team_rolling['team'] = team_rolling['team'].astype(str)\n",
    "\n",
    "# Add opponent_xgc_per_game (using team_xgc_per_game from the opponent)\n",
    "df = df.merge(team_rolling[['season', 'GW', 'team', 'team_xgc_per_game']], \n",
    "              left_on=['season', 'GW', 'opponent_team_name'], \n",
    "              right_on=['season', 'GW', 'team'], \n",
    "              how='left', suffixes=('', '_opp'))\n",
    "df['opponent_xgc_per_game'] = df['team_xgc_per_game_opp']\n",
    "df = df.drop(columns=['team_opp', 'team_xgc_per_game_opp'])"
   ]
  },
  {
   "cell_type": "code",
   "execution_count": 12,
   "id": "96702a2a-ad50-4dd3-ad5f-53d9a4b748e8",
   "metadata": {},
   "outputs": [
    {
     "ename": "TypeError",
     "evalue": "cannot safely cast non-equivalent float64 to int64",
     "output_type": "error",
     "traceback": [
      "\u001b[1;31m---------------------------------------------------------------------------\u001b[0m",
      "\u001b[1;31mTypeError\u001b[0m                                 Traceback (most recent call last)",
      "File \u001b[1;32m~\\anaconda3\\Lib\\site-packages\\pandas\\core\\arrays\\integer.py:53\u001b[0m, in \u001b[0;36mIntegerDtype._safe_cast\u001b[1;34m(cls, values, dtype, copy)\u001b[0m\n\u001b[0;32m     52\u001b[0m \u001b[38;5;28;01mtry\u001b[39;00m:\n\u001b[1;32m---> 53\u001b[0m     \u001b[38;5;28;01mreturn\u001b[39;00m values\u001b[38;5;241m.\u001b[39mastype(dtype, casting\u001b[38;5;241m=\u001b[39m\u001b[38;5;124m\"\u001b[39m\u001b[38;5;124msafe\u001b[39m\u001b[38;5;124m\"\u001b[39m, copy\u001b[38;5;241m=\u001b[39mcopy)\n\u001b[0;32m     54\u001b[0m \u001b[38;5;28;01mexcept\u001b[39;00m \u001b[38;5;167;01mTypeError\u001b[39;00m \u001b[38;5;28;01mas\u001b[39;00m err:\n",
      "\u001b[1;31mTypeError\u001b[0m: Cannot cast array data from dtype('float64') to dtype('int64') according to the rule 'safe'",
      "\nThe above exception was the direct cause of the following exception:\n",
      "\u001b[1;31mTypeError\u001b[0m                                 Traceback (most recent call last)",
      "Cell \u001b[1;32mIn[12], line 34\u001b[0m\n\u001b[0;32m     32\u001b[0m \u001b[38;5;66;03m# Standardize types in team_rolling\u001b[39;00m\n\u001b[0;32m     33\u001b[0m team_rolling[\u001b[38;5;124m'\u001b[39m\u001b[38;5;124mseason\u001b[39m\u001b[38;5;124m'\u001b[39m] \u001b[38;5;241m=\u001b[39m team_rolling[\u001b[38;5;124m'\u001b[39m\u001b[38;5;124mseason\u001b[39m\u001b[38;5;124m'\u001b[39m]\u001b[38;5;241m.\u001b[39mastype(\u001b[38;5;28mstr\u001b[39m)\n\u001b[1;32m---> 34\u001b[0m team_rolling[\u001b[38;5;124m'\u001b[39m\u001b[38;5;124mGW\u001b[39m\u001b[38;5;124m'\u001b[39m] \u001b[38;5;241m=\u001b[39m team_rolling[\u001b[38;5;124m'\u001b[39m\u001b[38;5;124mGW\u001b[39m\u001b[38;5;124m'\u001b[39m]\u001b[38;5;241m.\u001b[39mastype(\u001b[38;5;124m'\u001b[39m\u001b[38;5;124mInt64\u001b[39m\u001b[38;5;124m'\u001b[39m)\n\u001b[0;32m     35\u001b[0m team_rolling[\u001b[38;5;124m'\u001b[39m\u001b[38;5;124mteam\u001b[39m\u001b[38;5;124m'\u001b[39m] \u001b[38;5;241m=\u001b[39m team_rolling[\u001b[38;5;124m'\u001b[39m\u001b[38;5;124mteam\u001b[39m\u001b[38;5;124m'\u001b[39m]\u001b[38;5;241m.\u001b[39mastype(\u001b[38;5;28mstr\u001b[39m)\n\u001b[0;32m     37\u001b[0m \u001b[38;5;66;03m# Add opponent_xgc_per_game (using team_xgc_per_game from the opponent)\u001b[39;00m\n",
      "File \u001b[1;32m~\\anaconda3\\Lib\\site-packages\\pandas\\core\\generic.py:6643\u001b[0m, in \u001b[0;36mNDFrame.astype\u001b[1;34m(self, dtype, copy, errors)\u001b[0m\n\u001b[0;32m   6637\u001b[0m     results \u001b[38;5;241m=\u001b[39m [\n\u001b[0;32m   6638\u001b[0m         ser\u001b[38;5;241m.\u001b[39mastype(dtype, copy\u001b[38;5;241m=\u001b[39mcopy, errors\u001b[38;5;241m=\u001b[39merrors) \u001b[38;5;28;01mfor\u001b[39;00m _, ser \u001b[38;5;129;01min\u001b[39;00m \u001b[38;5;28mself\u001b[39m\u001b[38;5;241m.\u001b[39mitems()\n\u001b[0;32m   6639\u001b[0m     ]\n\u001b[0;32m   6641\u001b[0m \u001b[38;5;28;01melse\u001b[39;00m:\n\u001b[0;32m   6642\u001b[0m     \u001b[38;5;66;03m# else, only a single dtype is given\u001b[39;00m\n\u001b[1;32m-> 6643\u001b[0m     new_data \u001b[38;5;241m=\u001b[39m \u001b[38;5;28mself\u001b[39m\u001b[38;5;241m.\u001b[39m_mgr\u001b[38;5;241m.\u001b[39mastype(dtype\u001b[38;5;241m=\u001b[39mdtype, copy\u001b[38;5;241m=\u001b[39mcopy, errors\u001b[38;5;241m=\u001b[39merrors)\n\u001b[0;32m   6644\u001b[0m     res \u001b[38;5;241m=\u001b[39m \u001b[38;5;28mself\u001b[39m\u001b[38;5;241m.\u001b[39m_constructor_from_mgr(new_data, axes\u001b[38;5;241m=\u001b[39mnew_data\u001b[38;5;241m.\u001b[39maxes)\n\u001b[0;32m   6645\u001b[0m     \u001b[38;5;28;01mreturn\u001b[39;00m res\u001b[38;5;241m.\u001b[39m__finalize__(\u001b[38;5;28mself\u001b[39m, method\u001b[38;5;241m=\u001b[39m\u001b[38;5;124m\"\u001b[39m\u001b[38;5;124mastype\u001b[39m\u001b[38;5;124m\"\u001b[39m)\n",
      "File \u001b[1;32m~\\anaconda3\\Lib\\site-packages\\pandas\\core\\internals\\managers.py:430\u001b[0m, in \u001b[0;36mBaseBlockManager.astype\u001b[1;34m(self, dtype, copy, errors)\u001b[0m\n\u001b[0;32m    427\u001b[0m \u001b[38;5;28;01melif\u001b[39;00m using_copy_on_write():\n\u001b[0;32m    428\u001b[0m     copy \u001b[38;5;241m=\u001b[39m \u001b[38;5;28;01mFalse\u001b[39;00m\n\u001b[1;32m--> 430\u001b[0m \u001b[38;5;28;01mreturn\u001b[39;00m \u001b[38;5;28mself\u001b[39m\u001b[38;5;241m.\u001b[39mapply(\n\u001b[0;32m    431\u001b[0m     \u001b[38;5;124m\"\u001b[39m\u001b[38;5;124mastype\u001b[39m\u001b[38;5;124m\"\u001b[39m,\n\u001b[0;32m    432\u001b[0m     dtype\u001b[38;5;241m=\u001b[39mdtype,\n\u001b[0;32m    433\u001b[0m     copy\u001b[38;5;241m=\u001b[39mcopy,\n\u001b[0;32m    434\u001b[0m     errors\u001b[38;5;241m=\u001b[39merrors,\n\u001b[0;32m    435\u001b[0m     using_cow\u001b[38;5;241m=\u001b[39musing_copy_on_write(),\n\u001b[0;32m    436\u001b[0m )\n",
      "File \u001b[1;32m~\\anaconda3\\Lib\\site-packages\\pandas\\core\\internals\\managers.py:363\u001b[0m, in \u001b[0;36mBaseBlockManager.apply\u001b[1;34m(self, f, align_keys, **kwargs)\u001b[0m\n\u001b[0;32m    361\u001b[0m         applied \u001b[38;5;241m=\u001b[39m b\u001b[38;5;241m.\u001b[39mapply(f, \u001b[38;5;241m*\u001b[39m\u001b[38;5;241m*\u001b[39mkwargs)\n\u001b[0;32m    362\u001b[0m     \u001b[38;5;28;01melse\u001b[39;00m:\n\u001b[1;32m--> 363\u001b[0m         applied \u001b[38;5;241m=\u001b[39m \u001b[38;5;28mgetattr\u001b[39m(b, f)(\u001b[38;5;241m*\u001b[39m\u001b[38;5;241m*\u001b[39mkwargs)\n\u001b[0;32m    364\u001b[0m     result_blocks \u001b[38;5;241m=\u001b[39m extend_blocks(applied, result_blocks)\n\u001b[0;32m    366\u001b[0m out \u001b[38;5;241m=\u001b[39m \u001b[38;5;28mtype\u001b[39m(\u001b[38;5;28mself\u001b[39m)\u001b[38;5;241m.\u001b[39mfrom_blocks(result_blocks, \u001b[38;5;28mself\u001b[39m\u001b[38;5;241m.\u001b[39maxes)\n",
      "File \u001b[1;32m~\\anaconda3\\Lib\\site-packages\\pandas\\core\\internals\\blocks.py:758\u001b[0m, in \u001b[0;36mBlock.astype\u001b[1;34m(self, dtype, copy, errors, using_cow, squeeze)\u001b[0m\n\u001b[0;32m    755\u001b[0m         \u001b[38;5;28;01mraise\u001b[39;00m \u001b[38;5;167;01mValueError\u001b[39;00m(\u001b[38;5;124m\"\u001b[39m\u001b[38;5;124mCan not squeeze with more than one column.\u001b[39m\u001b[38;5;124m\"\u001b[39m)\n\u001b[0;32m    756\u001b[0m     values \u001b[38;5;241m=\u001b[39m values[\u001b[38;5;241m0\u001b[39m, :]  \u001b[38;5;66;03m# type: ignore[call-overload]\u001b[39;00m\n\u001b[1;32m--> 758\u001b[0m new_values \u001b[38;5;241m=\u001b[39m astype_array_safe(values, dtype, copy\u001b[38;5;241m=\u001b[39mcopy, errors\u001b[38;5;241m=\u001b[39merrors)\n\u001b[0;32m    760\u001b[0m new_values \u001b[38;5;241m=\u001b[39m maybe_coerce_values(new_values)\n\u001b[0;32m    762\u001b[0m refs \u001b[38;5;241m=\u001b[39m \u001b[38;5;28;01mNone\u001b[39;00m\n",
      "File \u001b[1;32m~\\anaconda3\\Lib\\site-packages\\pandas\\core\\dtypes\\astype.py:237\u001b[0m, in \u001b[0;36mastype_array_safe\u001b[1;34m(values, dtype, copy, errors)\u001b[0m\n\u001b[0;32m    234\u001b[0m     dtype \u001b[38;5;241m=\u001b[39m dtype\u001b[38;5;241m.\u001b[39mnumpy_dtype\n\u001b[0;32m    236\u001b[0m \u001b[38;5;28;01mtry\u001b[39;00m:\n\u001b[1;32m--> 237\u001b[0m     new_values \u001b[38;5;241m=\u001b[39m astype_array(values, dtype, copy\u001b[38;5;241m=\u001b[39mcopy)\n\u001b[0;32m    238\u001b[0m \u001b[38;5;28;01mexcept\u001b[39;00m (\u001b[38;5;167;01mValueError\u001b[39;00m, \u001b[38;5;167;01mTypeError\u001b[39;00m):\n\u001b[0;32m    239\u001b[0m     \u001b[38;5;66;03m# e.g. _astype_nansafe can fail on object-dtype of strings\u001b[39;00m\n\u001b[0;32m    240\u001b[0m     \u001b[38;5;66;03m#  trying to convert to float\u001b[39;00m\n\u001b[0;32m    241\u001b[0m     \u001b[38;5;28;01mif\u001b[39;00m errors \u001b[38;5;241m==\u001b[39m \u001b[38;5;124m\"\u001b[39m\u001b[38;5;124mignore\u001b[39m\u001b[38;5;124m\"\u001b[39m:\n",
      "File \u001b[1;32m~\\anaconda3\\Lib\\site-packages\\pandas\\core\\dtypes\\astype.py:182\u001b[0m, in \u001b[0;36mastype_array\u001b[1;34m(values, dtype, copy)\u001b[0m\n\u001b[0;32m    179\u001b[0m     values \u001b[38;5;241m=\u001b[39m values\u001b[38;5;241m.\u001b[39mastype(dtype, copy\u001b[38;5;241m=\u001b[39mcopy)\n\u001b[0;32m    181\u001b[0m \u001b[38;5;28;01melse\u001b[39;00m:\n\u001b[1;32m--> 182\u001b[0m     values \u001b[38;5;241m=\u001b[39m _astype_nansafe(values, dtype, copy\u001b[38;5;241m=\u001b[39mcopy)\n\u001b[0;32m    184\u001b[0m \u001b[38;5;66;03m# in pandas we don't store numpy str dtypes, so convert to object\u001b[39;00m\n\u001b[0;32m    185\u001b[0m \u001b[38;5;28;01mif\u001b[39;00m \u001b[38;5;28misinstance\u001b[39m(dtype, np\u001b[38;5;241m.\u001b[39mdtype) \u001b[38;5;129;01mand\u001b[39;00m \u001b[38;5;28missubclass\u001b[39m(values\u001b[38;5;241m.\u001b[39mdtype\u001b[38;5;241m.\u001b[39mtype, \u001b[38;5;28mstr\u001b[39m):\n",
      "File \u001b[1;32m~\\anaconda3\\Lib\\site-packages\\pandas\\core\\dtypes\\astype.py:80\u001b[0m, in \u001b[0;36m_astype_nansafe\u001b[1;34m(arr, dtype, copy, skipna)\u001b[0m\n\u001b[0;32m     78\u001b[0m \u001b[38;5;66;03m# dispatch on extension dtype if needed\u001b[39;00m\n\u001b[0;32m     79\u001b[0m \u001b[38;5;28;01mif\u001b[39;00m \u001b[38;5;28misinstance\u001b[39m(dtype, ExtensionDtype):\n\u001b[1;32m---> 80\u001b[0m     \u001b[38;5;28;01mreturn\u001b[39;00m dtype\u001b[38;5;241m.\u001b[39mconstruct_array_type()\u001b[38;5;241m.\u001b[39m_from_sequence(arr, dtype\u001b[38;5;241m=\u001b[39mdtype, copy\u001b[38;5;241m=\u001b[39mcopy)\n\u001b[0;32m     82\u001b[0m \u001b[38;5;28;01melif\u001b[39;00m \u001b[38;5;129;01mnot\u001b[39;00m \u001b[38;5;28misinstance\u001b[39m(dtype, np\u001b[38;5;241m.\u001b[39mdtype):  \u001b[38;5;66;03m# pragma: no cover\u001b[39;00m\n\u001b[0;32m     83\u001b[0m     \u001b[38;5;28;01mraise\u001b[39;00m \u001b[38;5;167;01mValueError\u001b[39;00m(\u001b[38;5;124m\"\u001b[39m\u001b[38;5;124mdtype must be np.dtype or ExtensionDtype\u001b[39m\u001b[38;5;124m\"\u001b[39m)\n",
      "File \u001b[1;32m~\\anaconda3\\Lib\\site-packages\\pandas\\core\\arrays\\masked.py:152\u001b[0m, in \u001b[0;36mBaseMaskedArray._from_sequence\u001b[1;34m(cls, scalars, dtype, copy)\u001b[0m\n\u001b[0;32m    150\u001b[0m \u001b[38;5;129m@classmethod\u001b[39m\n\u001b[0;32m    151\u001b[0m \u001b[38;5;28;01mdef\u001b[39;00m \u001b[38;5;21m_from_sequence\u001b[39m(\u001b[38;5;28mcls\u001b[39m, scalars, \u001b[38;5;241m*\u001b[39m, dtype\u001b[38;5;241m=\u001b[39m\u001b[38;5;28;01mNone\u001b[39;00m, copy: \u001b[38;5;28mbool\u001b[39m \u001b[38;5;241m=\u001b[39m \u001b[38;5;28;01mFalse\u001b[39;00m) \u001b[38;5;241m-\u001b[39m\u001b[38;5;241m>\u001b[39m Self:\n\u001b[1;32m--> 152\u001b[0m     values, mask \u001b[38;5;241m=\u001b[39m \u001b[38;5;28mcls\u001b[39m\u001b[38;5;241m.\u001b[39m_coerce_to_array(scalars, dtype\u001b[38;5;241m=\u001b[39mdtype, copy\u001b[38;5;241m=\u001b[39mcopy)\n\u001b[0;32m    153\u001b[0m     \u001b[38;5;28;01mreturn\u001b[39;00m \u001b[38;5;28mcls\u001b[39m(values, mask)\n",
      "File \u001b[1;32m~\\anaconda3\\Lib\\site-packages\\pandas\\core\\arrays\\numeric.py:272\u001b[0m, in \u001b[0;36mNumericArray._coerce_to_array\u001b[1;34m(cls, value, dtype, copy)\u001b[0m\n\u001b[0;32m    270\u001b[0m dtype_cls \u001b[38;5;241m=\u001b[39m \u001b[38;5;28mcls\u001b[39m\u001b[38;5;241m.\u001b[39m_dtype_cls\n\u001b[0;32m    271\u001b[0m default_dtype \u001b[38;5;241m=\u001b[39m dtype_cls\u001b[38;5;241m.\u001b[39m_default_np_dtype\n\u001b[1;32m--> 272\u001b[0m values, mask, _, _ \u001b[38;5;241m=\u001b[39m _coerce_to_data_and_mask(\n\u001b[0;32m    273\u001b[0m     value, dtype, copy, dtype_cls, default_dtype\n\u001b[0;32m    274\u001b[0m )\n\u001b[0;32m    275\u001b[0m \u001b[38;5;28;01mreturn\u001b[39;00m values, mask\n",
      "File \u001b[1;32m~\\anaconda3\\Lib\\site-packages\\pandas\\core\\arrays\\numeric.py:229\u001b[0m, in \u001b[0;36m_coerce_to_data_and_mask\u001b[1;34m(values, dtype, copy, dtype_cls, default_dtype)\u001b[0m\n\u001b[0;32m    227\u001b[0m     values \u001b[38;5;241m=\u001b[39m values\u001b[38;5;241m.\u001b[39mastype(dtype, copy\u001b[38;5;241m=\u001b[39mcopy)\n\u001b[0;32m    228\u001b[0m \u001b[38;5;28;01melse\u001b[39;00m:\n\u001b[1;32m--> 229\u001b[0m     values \u001b[38;5;241m=\u001b[39m dtype_cls\u001b[38;5;241m.\u001b[39m_safe_cast(values, dtype, copy\u001b[38;5;241m=\u001b[39m\u001b[38;5;28;01mFalse\u001b[39;00m)\n\u001b[0;32m    231\u001b[0m \u001b[38;5;28;01mreturn\u001b[39;00m values, mask, dtype, inferred_type\n",
      "File \u001b[1;32m~\\anaconda3\\Lib\\site-packages\\pandas\\core\\arrays\\integer.py:59\u001b[0m, in \u001b[0;36mIntegerDtype._safe_cast\u001b[1;34m(cls, values, dtype, copy)\u001b[0m\n\u001b[0;32m     56\u001b[0m \u001b[38;5;28;01mif\u001b[39;00m (casted \u001b[38;5;241m==\u001b[39m values)\u001b[38;5;241m.\u001b[39mall():\n\u001b[0;32m     57\u001b[0m     \u001b[38;5;28;01mreturn\u001b[39;00m casted\n\u001b[1;32m---> 59\u001b[0m \u001b[38;5;28;01mraise\u001b[39;00m \u001b[38;5;167;01mTypeError\u001b[39;00m(\n\u001b[0;32m     60\u001b[0m     \u001b[38;5;124mf\u001b[39m\u001b[38;5;124m\"\u001b[39m\u001b[38;5;124mcannot safely cast non-equivalent \u001b[39m\u001b[38;5;132;01m{\u001b[39;00mvalues\u001b[38;5;241m.\u001b[39mdtype\u001b[38;5;132;01m}\u001b[39;00m\u001b[38;5;124m to \u001b[39m\u001b[38;5;132;01m{\u001b[39;00mnp\u001b[38;5;241m.\u001b[39mdtype(dtype)\u001b[38;5;132;01m}\u001b[39;00m\u001b[38;5;124m\"\u001b[39m\n\u001b[0;32m     61\u001b[0m ) \u001b[38;5;28;01mfrom\u001b[39;00m \u001b[38;5;21;01merr\u001b[39;00m\n",
      "\u001b[1;31mTypeError\u001b[0m: cannot safely cast non-equivalent float64 to int64"
     ]
    }
   ],
   "source": [
    "# Standardize data types (run this before Step 5)\n",
    "df['season'] = df['season'].astype(str)\n",
    "df['GW'] = df['GW'].astype('Int64')  # Use Int64 to handle potential NaNs\n",
    "df['opponent_team'] = df['opponent_team'].astype('Int64')\n",
    "df['position'] = df['position'].astype(str)\n",
    "\n",
    "# Step 5: Opponent Rolling Features\n",
    "\n",
    "# Calculate points conceded by opponent to each position\n",
    "opp_points = df.groupby(['season', 'GW', 'opponent_team', 'position'])['total_points'].mean().reset_index()\n",
    "\n",
    "# Rolling average per opponent and position\n",
    "opp_rolling = opp_points.groupby(['season', 'opponent_team', 'position']).rolling(window=5, min_periods=1).mean().shift(1).reset_index()\n",
    "opp_rolling = opp_rolling.rename(columns={'total_points': 'opponent_points_conceded_to_position'})\n",
    "\n",
    "# Standardize types in opp_rolling\n",
    "opp_rolling['season'] = opp_rolling['season'].astype(str)\n",
    "opp_rolling['GW'] = opp_rolling['GW'].round().astype('Int64')\n",
    "opp_rolling['opponent_team'] = opp_rolling['opponent_team'].astype('Int64')\n",
    "opp_rolling['position'] = opp_rolling['position'].astype(str)\n",
    "\n",
    "# Merge to main DataFrame\n",
    "df = df.merge(opp_rolling[['season', 'GW', 'opponent_team', 'position', 'opponent_points_conceded_to_position']], \n",
    "              on=['season', 'GW', 'opponent_team', 'position'], how='left')\n",
    "\n",
    "# Map opponent_team to team names\n",
    "df['opponent_team_name'] = df.apply(\n",
    "    lambda row: team_mappings[row['season']].get(row['opponent_team'], 'Unknown'), \n",
    "    axis=1\n",
    ")\n",
    "\n",
    "# Standardize types in team_rolling\n",
    "team_rolling['season'] = team_rolling['season'].astype(str)\n",
    "team_rolling['GW'] = team_rolling['GW'].astype('Int64')\n",
    "team_rolling['team'] = team_rolling['team'].astype(str)\n",
    "\n",
    "# Add opponent_xgc_per_game (using team_xgc_per_game from the opponent)\n",
    "df = df.merge(team_rolling[['season', 'GW', 'team', 'team_xgc_per_game']], \n",
    "              left_on=['season', 'GW', 'opponent_team_name'], \n",
    "              right_on=['season', 'GW', 'team'], \n",
    "              how='left', suffixes=('', '_opp'))\n",
    "df['opponent_xgc_per_game'] = df['team_xgc_per_game_opp']\n",
    "df = df.drop(columns=['team_opp', 'team_xgc_per_game_opp'])"
   ]
  },
  {
   "cell_type": "code",
   "execution_count": 13,
   "id": "d598a05f-5b60-4bab-8922-634e6981d41f",
   "metadata": {},
   "outputs": [
    {
     "name": "stderr",
     "output_type": "stream",
     "text": [
      "C:\\Users\\pentester\\AppData\\Local\\Temp\\ipykernel_13192\\245257444.py:20: SettingWithCopyWarning: \n",
      "A value is trying to be set on a copy of a slice from a DataFrame.\n",
      "Try using .loc[row_indexer,col_indexer] = value instead\n",
      "\n",
      "See the caveats in the documentation: https://pandas.pydata.org/pandas-docs/stable/user_guide/indexing.html#returning-a-view-versus-a-copy\n",
      "  opp_rolling['season'] = opp_rolling['season'].astype(str)\n",
      "C:\\Users\\pentester\\AppData\\Local\\Temp\\ipykernel_13192\\245257444.py:21: SettingWithCopyWarning: \n",
      "A value is trying to be set on a copy of a slice from a DataFrame.\n",
      "Try using .loc[row_indexer,col_indexer] = value instead\n",
      "\n",
      "See the caveats in the documentation: https://pandas.pydata.org/pandas-docs/stable/user_guide/indexing.html#returning-a-view-versus-a-copy\n",
      "  opp_rolling['GW'] = opp_rolling['GW'].astype('Int64')  # Safe now, as GW is unchanged\n",
      "C:\\Users\\pentester\\AppData\\Local\\Temp\\ipykernel_13192\\245257444.py:22: SettingWithCopyWarning: \n",
      "A value is trying to be set on a copy of a slice from a DataFrame.\n",
      "Try using .loc[row_indexer,col_indexer] = value instead\n",
      "\n",
      "See the caveats in the documentation: https://pandas.pydata.org/pandas-docs/stable/user_guide/indexing.html#returning-a-view-versus-a-copy\n",
      "  opp_rolling['opponent_team'] = opp_rolling['opponent_team'].astype('Int64')\n",
      "C:\\Users\\pentester\\AppData\\Local\\Temp\\ipykernel_13192\\245257444.py:23: SettingWithCopyWarning: \n",
      "A value is trying to be set on a copy of a slice from a DataFrame.\n",
      "Try using .loc[row_indexer,col_indexer] = value instead\n",
      "\n",
      "See the caveats in the documentation: https://pandas.pydata.org/pandas-docs/stable/user_guide/indexing.html#returning-a-view-versus-a-copy\n",
      "  opp_rolling['position'] = opp_rolling['position'].astype(str)\n"
     ]
    }
   ],
   "source": [
    "# Calculate points conceded by opponent to each position\n",
    "opp_points = df.groupby(['season', 'GW', 'opponent_team', 'position'])['total_points'].mean().reset_index()\n",
    "\n",
    "# Sort by relevant columns to ensure proper rolling order\n",
    "opp_points = opp_points.sort_values(['season', 'opponent_team', 'position', 'GW'])\n",
    "\n",
    "# Compute rolling mean for 'total_points' only\n",
    "opp_points['opponent_points_conceded_to_position'] = (\n",
    "    opp_points.groupby(['season', 'opponent_team', 'position'])['total_points']\n",
    "    .rolling(window=5, min_periods=1)\n",
    "    .mean()\n",
    "    .shift(1)\n",
    "    .values\n",
    ")\n",
    "\n",
    "# Define opp_rolling with original 'GW' and the rolling feature\n",
    "opp_rolling = opp_points[['season', 'GW', 'opponent_team', 'position', 'opponent_points_conceded_to_position']]\n",
    "\n",
    "# Standardize types in opp_rolling\n",
    "opp_rolling['season'] = opp_rolling['season'].astype(str)\n",
    "opp_rolling['GW'] = opp_rolling['GW'].astype('Int64')  # Safe now, as GW is unchanged\n",
    "opp_rolling['opponent_team'] = opp_rolling['opponent_team'].astype('Int64')\n",
    "opp_rolling['position'] = opp_rolling['position'].astype(str)\n",
    "\n",
    "# Merge to main DataFrame\n",
    "df = df.merge(opp_rolling[['season', 'GW', 'opponent_team', 'position', 'opponent_points_conceded_to_position']], \n",
    "              on=['season', 'GW', 'opponent_team', 'position'], how='left')"
   ]
  },
  {
   "cell_type": "code",
   "execution_count": 14,
   "id": "e831ac8e-b632-4732-befd-48ff7dd3845d",
   "metadata": {},
   "outputs": [
    {
     "name": "stderr",
     "output_type": "stream",
     "text": [
      "C:\\Users\\pentester\\AppData\\Local\\Temp\\ipykernel_13192\\3810475904.py:22: SettingWithCopyWarning: \n",
      "A value is trying to be set on a copy of a slice from a DataFrame.\n",
      "Try using .loc[row_indexer,col_indexer] = value instead\n",
      "\n",
      "See the caveats in the documentation: https://pandas.pydata.org/pandas-docs/stable/user_guide/indexing.html#returning-a-view-versus-a-copy\n",
      "  team_rolling['season'] = team_rolling['season'].astype(str)\n",
      "C:\\Users\\pentester\\AppData\\Local\\Temp\\ipykernel_13192\\3810475904.py:23: SettingWithCopyWarning: \n",
      "A value is trying to be set on a copy of a slice from a DataFrame.\n",
      "Try using .loc[row_indexer,col_indexer] = value instead\n",
      "\n",
      "See the caveats in the documentation: https://pandas.pydata.org/pandas-docs/stable/user_guide/indexing.html#returning-a-view-versus-a-copy\n",
      "  team_rolling['GW'] = team_rolling['GW'].astype('Int64')  # Safe now\n",
      "C:\\Users\\pentester\\AppData\\Local\\Temp\\ipykernel_13192\\3810475904.py:24: SettingWithCopyWarning: \n",
      "A value is trying to be set on a copy of a slice from a DataFrame.\n",
      "Try using .loc[row_indexer,col_indexer] = value instead\n",
      "\n",
      "See the caveats in the documentation: https://pandas.pydata.org/pandas-docs/stable/user_guide/indexing.html#returning-a-view-versus-a-copy\n",
      "  team_rolling['team'] = team_rolling['team'].astype(str)\n"
     ]
    },
    {
     "ename": "KeyError",
     "evalue": "'team_xgc_per_game_rolling_opp'",
     "output_type": "error",
     "traceback": [
      "\u001b[1;31m---------------------------------------------------------------------------\u001b[0m",
      "\u001b[1;31mKeyError\u001b[0m                                  Traceback (most recent call last)",
      "File \u001b[1;32m~\\anaconda3\\Lib\\site-packages\\pandas\\core\\indexes\\base.py:3805\u001b[0m, in \u001b[0;36mIndex.get_loc\u001b[1;34m(self, key)\u001b[0m\n\u001b[0;32m   3804\u001b[0m \u001b[38;5;28;01mtry\u001b[39;00m:\n\u001b[1;32m-> 3805\u001b[0m     \u001b[38;5;28;01mreturn\u001b[39;00m \u001b[38;5;28mself\u001b[39m\u001b[38;5;241m.\u001b[39m_engine\u001b[38;5;241m.\u001b[39mget_loc(casted_key)\n\u001b[0;32m   3806\u001b[0m \u001b[38;5;28;01mexcept\u001b[39;00m \u001b[38;5;167;01mKeyError\u001b[39;00m \u001b[38;5;28;01mas\u001b[39;00m err:\n",
      "File \u001b[1;32mindex.pyx:167\u001b[0m, in \u001b[0;36mpandas._libs.index.IndexEngine.get_loc\u001b[1;34m()\u001b[0m\n",
      "File \u001b[1;32mindex.pyx:196\u001b[0m, in \u001b[0;36mpandas._libs.index.IndexEngine.get_loc\u001b[1;34m()\u001b[0m\n",
      "File \u001b[1;32mpandas\\\\_libs\\\\hashtable_class_helper.pxi:7081\u001b[0m, in \u001b[0;36mpandas._libs.hashtable.PyObjectHashTable.get_item\u001b[1;34m()\u001b[0m\n",
      "File \u001b[1;32mpandas\\\\_libs\\\\hashtable_class_helper.pxi:7089\u001b[0m, in \u001b[0;36mpandas._libs.hashtable.PyObjectHashTable.get_item\u001b[1;34m()\u001b[0m\n",
      "\u001b[1;31mKeyError\u001b[0m: 'team_xgc_per_game_rolling_opp'",
      "\nThe above exception was the direct cause of the following exception:\n",
      "\u001b[1;31mKeyError\u001b[0m                                  Traceback (most recent call last)",
      "Cell \u001b[1;32mIn[14], line 37\u001b[0m\n\u001b[0;32m     32\u001b[0m \u001b[38;5;66;03m# Add opponent_xgc_per_game using the rolling average\u001b[39;00m\n\u001b[0;32m     33\u001b[0m df \u001b[38;5;241m=\u001b[39m df\u001b[38;5;241m.\u001b[39mmerge(team_rolling[[\u001b[38;5;124m'\u001b[39m\u001b[38;5;124mseason\u001b[39m\u001b[38;5;124m'\u001b[39m, \u001b[38;5;124m'\u001b[39m\u001b[38;5;124mGW\u001b[39m\u001b[38;5;124m'\u001b[39m, \u001b[38;5;124m'\u001b[39m\u001b[38;5;124mteam\u001b[39m\u001b[38;5;124m'\u001b[39m, \u001b[38;5;124m'\u001b[39m\u001b[38;5;124mteam_xgc_per_game_rolling\u001b[39m\u001b[38;5;124m'\u001b[39m]], \n\u001b[0;32m     34\u001b[0m               left_on\u001b[38;5;241m=\u001b[39m[\u001b[38;5;124m'\u001b[39m\u001b[38;5;124mseason\u001b[39m\u001b[38;5;124m'\u001b[39m, \u001b[38;5;124m'\u001b[39m\u001b[38;5;124mGW\u001b[39m\u001b[38;5;124m'\u001b[39m, \u001b[38;5;124m'\u001b[39m\u001b[38;5;124mopponent_team_name\u001b[39m\u001b[38;5;124m'\u001b[39m], \n\u001b[0;32m     35\u001b[0m               right_on\u001b[38;5;241m=\u001b[39m[\u001b[38;5;124m'\u001b[39m\u001b[38;5;124mseason\u001b[39m\u001b[38;5;124m'\u001b[39m, \u001b[38;5;124m'\u001b[39m\u001b[38;5;124mGW\u001b[39m\u001b[38;5;124m'\u001b[39m, \u001b[38;5;124m'\u001b[39m\u001b[38;5;124mteam\u001b[39m\u001b[38;5;124m'\u001b[39m], \n\u001b[0;32m     36\u001b[0m               how\u001b[38;5;241m=\u001b[39m\u001b[38;5;124m'\u001b[39m\u001b[38;5;124mleft\u001b[39m\u001b[38;5;124m'\u001b[39m, suffixes\u001b[38;5;241m=\u001b[39m(\u001b[38;5;124m'\u001b[39m\u001b[38;5;124m'\u001b[39m, \u001b[38;5;124m'\u001b[39m\u001b[38;5;124m_opp\u001b[39m\u001b[38;5;124m'\u001b[39m))\n\u001b[1;32m---> 37\u001b[0m df[\u001b[38;5;124m'\u001b[39m\u001b[38;5;124mopponent_xgc_per_game\u001b[39m\u001b[38;5;124m'\u001b[39m] \u001b[38;5;241m=\u001b[39m df[\u001b[38;5;124m'\u001b[39m\u001b[38;5;124mteam_xgc_per_game_rolling_opp\u001b[39m\u001b[38;5;124m'\u001b[39m]\n\u001b[0;32m     38\u001b[0m df \u001b[38;5;241m=\u001b[39m df\u001b[38;5;241m.\u001b[39mdrop(columns\u001b[38;5;241m=\u001b[39m[\u001b[38;5;124m'\u001b[39m\u001b[38;5;124mteam_opp\u001b[39m\u001b[38;5;124m'\u001b[39m, \u001b[38;5;124m'\u001b[39m\u001b[38;5;124mteam_xgc_per_game_rolling_opp\u001b[39m\u001b[38;5;124m'\u001b[39m])\n",
      "File \u001b[1;32m~\\anaconda3\\Lib\\site-packages\\pandas\\core\\frame.py:4102\u001b[0m, in \u001b[0;36mDataFrame.__getitem__\u001b[1;34m(self, key)\u001b[0m\n\u001b[0;32m   4100\u001b[0m \u001b[38;5;28;01mif\u001b[39;00m \u001b[38;5;28mself\u001b[39m\u001b[38;5;241m.\u001b[39mcolumns\u001b[38;5;241m.\u001b[39mnlevels \u001b[38;5;241m>\u001b[39m \u001b[38;5;241m1\u001b[39m:\n\u001b[0;32m   4101\u001b[0m     \u001b[38;5;28;01mreturn\u001b[39;00m \u001b[38;5;28mself\u001b[39m\u001b[38;5;241m.\u001b[39m_getitem_multilevel(key)\n\u001b[1;32m-> 4102\u001b[0m indexer \u001b[38;5;241m=\u001b[39m \u001b[38;5;28mself\u001b[39m\u001b[38;5;241m.\u001b[39mcolumns\u001b[38;5;241m.\u001b[39mget_loc(key)\n\u001b[0;32m   4103\u001b[0m \u001b[38;5;28;01mif\u001b[39;00m is_integer(indexer):\n\u001b[0;32m   4104\u001b[0m     indexer \u001b[38;5;241m=\u001b[39m [indexer]\n",
      "File \u001b[1;32m~\\anaconda3\\Lib\\site-packages\\pandas\\core\\indexes\\base.py:3812\u001b[0m, in \u001b[0;36mIndex.get_loc\u001b[1;34m(self, key)\u001b[0m\n\u001b[0;32m   3807\u001b[0m     \u001b[38;5;28;01mif\u001b[39;00m \u001b[38;5;28misinstance\u001b[39m(casted_key, \u001b[38;5;28mslice\u001b[39m) \u001b[38;5;129;01mor\u001b[39;00m (\n\u001b[0;32m   3808\u001b[0m         \u001b[38;5;28misinstance\u001b[39m(casted_key, abc\u001b[38;5;241m.\u001b[39mIterable)\n\u001b[0;32m   3809\u001b[0m         \u001b[38;5;129;01mand\u001b[39;00m \u001b[38;5;28many\u001b[39m(\u001b[38;5;28misinstance\u001b[39m(x, \u001b[38;5;28mslice\u001b[39m) \u001b[38;5;28;01mfor\u001b[39;00m x \u001b[38;5;129;01min\u001b[39;00m casted_key)\n\u001b[0;32m   3810\u001b[0m     ):\n\u001b[0;32m   3811\u001b[0m         \u001b[38;5;28;01mraise\u001b[39;00m InvalidIndexError(key)\n\u001b[1;32m-> 3812\u001b[0m     \u001b[38;5;28;01mraise\u001b[39;00m \u001b[38;5;167;01mKeyError\u001b[39;00m(key) \u001b[38;5;28;01mfrom\u001b[39;00m \u001b[38;5;21;01merr\u001b[39;00m\n\u001b[0;32m   3813\u001b[0m \u001b[38;5;28;01mexcept\u001b[39;00m \u001b[38;5;167;01mTypeError\u001b[39;00m:\n\u001b[0;32m   3814\u001b[0m     \u001b[38;5;66;03m# If we have a listlike key, _check_indexing_error will raise\u001b[39;00m\n\u001b[0;32m   3815\u001b[0m     \u001b[38;5;66;03m#  InvalidIndexError. Otherwise we fall through and re-raise\u001b[39;00m\n\u001b[0;32m   3816\u001b[0m     \u001b[38;5;66;03m#  the TypeError.\u001b[39;00m\n\u001b[0;32m   3817\u001b[0m     \u001b[38;5;28mself\u001b[39m\u001b[38;5;241m.\u001b[39m_check_indexing_error(key)\n",
      "\u001b[1;31mKeyError\u001b[0m: 'team_xgc_per_game_rolling_opp'"
     ]
    }
   ],
   "source": [
    "# Assuming team_stats is defined earlier (e.g., in Step 4)\n",
    "# Sort for consistent rolling\n",
    "team_stats = team_stats.sort_values(['season', 'team', 'GW'])\n",
    "\n",
    "# Define columns for rolling averages\n",
    "rolling_cols = ['team_xgc_per_game']  # Add others like 'team_goals_scored_per_game' as needed\n",
    "\n",
    "# Compute rolling means for specific columns\n",
    "for col in rolling_cols:\n",
    "    team_stats[f'{col}_rolling'] = (\n",
    "        team_stats.groupby(['season', 'team'])[col]\n",
    "        .rolling(window=5, min_periods=1)\n",
    "        .mean()\n",
    "        .shift(1)\n",
    "        .values\n",
    "    )\n",
    "\n",
    "# Define team_rolling with original 'GW' and rolling features\n",
    "team_rolling = team_stats[['season', 'GW', 'team'] + [f'{col}_rolling' for col in rolling_cols]]\n",
    "\n",
    "# Standardize types in team_rolling\n",
    "team_rolling['season'] = team_rolling['season'].astype(str)\n",
    "team_rolling['GW'] = team_rolling['GW'].astype('Int64')  # Safe now\n",
    "team_rolling['team'] = team_rolling['team'].astype(str)\n",
    "\n",
    "# Map opponent_team to team names\n",
    "df['opponent_team_name'] = df.apply(\n",
    "    lambda row: team_mappings[row['season']].get(row['opponent_team'], 'Unknown'), \n",
    "    axis=1\n",
    ")\n",
    "\n",
    "# Add opponent_xgc_per_game using the rolling average\n",
    "df = df.merge(team_rolling[['season', 'GW', 'team', 'team_xgc_per_game_rolling']], \n",
    "              left_on=['season', 'GW', 'opponent_team_name'], \n",
    "              right_on=['season', 'GW', 'team'], \n",
    "              how='left', suffixes=('', '_opp'))\n",
    "df['opponent_xgc_per_game'] = df['team_xgc_per_game_rolling_opp']\n",
    "df = df.drop(columns=['team_opp', 'team_xgc_per_game_rolling_opp'])"
   ]
  },
  {
   "cell_type": "code",
   "execution_count": 15,
   "id": "81f7804a-23a1-4ac5-a066-321099948989",
   "metadata": {},
   "outputs": [
    {
     "ename": "MergeError",
     "evalue": "Passing 'suffixes' which cause duplicate columns {'opponent_points_conceded_to_position_x'} is not allowed.",
     "output_type": "error",
     "traceback": [
      "\u001b[1;31m---------------------------------------------------------------------------\u001b[0m",
      "\u001b[1;31mMergeError\u001b[0m                                Traceback (most recent call last)",
      "Cell \u001b[1;32mIn[15], line 26\u001b[0m\n\u001b[0;32m     23\u001b[0m opp_rolling\u001b[38;5;241m.\u001b[39mloc[:, \u001b[38;5;124m'\u001b[39m\u001b[38;5;124mposition\u001b[39m\u001b[38;5;124m'\u001b[39m] \u001b[38;5;241m=\u001b[39m opp_rolling[\u001b[38;5;124m'\u001b[39m\u001b[38;5;124mposition\u001b[39m\u001b[38;5;124m'\u001b[39m]\u001b[38;5;241m.\u001b[39mastype(\u001b[38;5;28mstr\u001b[39m)\n\u001b[0;32m     25\u001b[0m \u001b[38;5;66;03m# Merge to main DataFrame\u001b[39;00m\n\u001b[1;32m---> 26\u001b[0m df \u001b[38;5;241m=\u001b[39m df\u001b[38;5;241m.\u001b[39mmerge(opp_rolling[[\u001b[38;5;124m'\u001b[39m\u001b[38;5;124mseason\u001b[39m\u001b[38;5;124m'\u001b[39m, \u001b[38;5;124m'\u001b[39m\u001b[38;5;124mGW\u001b[39m\u001b[38;5;124m'\u001b[39m, \u001b[38;5;124m'\u001b[39m\u001b[38;5;124mopponent_team\u001b[39m\u001b[38;5;124m'\u001b[39m, \u001b[38;5;124m'\u001b[39m\u001b[38;5;124mposition\u001b[39m\u001b[38;5;124m'\u001b[39m, \u001b[38;5;124m'\u001b[39m\u001b[38;5;124mopponent_points_conceded_to_position\u001b[39m\u001b[38;5;124m'\u001b[39m]], \n\u001b[0;32m     27\u001b[0m               on\u001b[38;5;241m=\u001b[39m[\u001b[38;5;124m'\u001b[39m\u001b[38;5;124mseason\u001b[39m\u001b[38;5;124m'\u001b[39m, \u001b[38;5;124m'\u001b[39m\u001b[38;5;124mGW\u001b[39m\u001b[38;5;124m'\u001b[39m, \u001b[38;5;124m'\u001b[39m\u001b[38;5;124mopponent_team\u001b[39m\u001b[38;5;124m'\u001b[39m, \u001b[38;5;124m'\u001b[39m\u001b[38;5;124mposition\u001b[39m\u001b[38;5;124m'\u001b[39m], how\u001b[38;5;241m=\u001b[39m\u001b[38;5;124m'\u001b[39m\u001b[38;5;124mleft\u001b[39m\u001b[38;5;124m'\u001b[39m)\n\u001b[0;32m     29\u001b[0m \u001b[38;5;66;03m# Assuming team_stats is defined earlier\u001b[39;00m\n\u001b[0;32m     30\u001b[0m \u001b[38;5;66;03m# Sort for consistent rolling\u001b[39;00m\n\u001b[0;32m     31\u001b[0m team_stats \u001b[38;5;241m=\u001b[39m team_stats\u001b[38;5;241m.\u001b[39msort_values([\u001b[38;5;124m'\u001b[39m\u001b[38;5;124mseason\u001b[39m\u001b[38;5;124m'\u001b[39m, \u001b[38;5;124m'\u001b[39m\u001b[38;5;124mteam\u001b[39m\u001b[38;5;124m'\u001b[39m, \u001b[38;5;124m'\u001b[39m\u001b[38;5;124mGW\u001b[39m\u001b[38;5;124m'\u001b[39m])\n",
      "File \u001b[1;32m~\\anaconda3\\Lib\\site-packages\\pandas\\core\\frame.py:10832\u001b[0m, in \u001b[0;36mDataFrame.merge\u001b[1;34m(self, right, how, on, left_on, right_on, left_index, right_index, sort, suffixes, copy, indicator, validate)\u001b[0m\n\u001b[0;32m  10813\u001b[0m \u001b[38;5;129m@Substitution\u001b[39m(\u001b[38;5;124m\"\u001b[39m\u001b[38;5;124m\"\u001b[39m)\n\u001b[0;32m  10814\u001b[0m \u001b[38;5;129m@Appender\u001b[39m(_merge_doc, indents\u001b[38;5;241m=\u001b[39m\u001b[38;5;241m2\u001b[39m)\n\u001b[0;32m  10815\u001b[0m \u001b[38;5;28;01mdef\u001b[39;00m \u001b[38;5;21mmerge\u001b[39m(\n\u001b[1;32m   (...)\u001b[0m\n\u001b[0;32m  10828\u001b[0m     validate: MergeValidate \u001b[38;5;241m|\u001b[39m \u001b[38;5;28;01mNone\u001b[39;00m \u001b[38;5;241m=\u001b[39m \u001b[38;5;28;01mNone\u001b[39;00m,\n\u001b[0;32m  10829\u001b[0m ) \u001b[38;5;241m-\u001b[39m\u001b[38;5;241m>\u001b[39m DataFrame:\n\u001b[0;32m  10830\u001b[0m     \u001b[38;5;28;01mfrom\u001b[39;00m \u001b[38;5;21;01mpandas\u001b[39;00m\u001b[38;5;21;01m.\u001b[39;00m\u001b[38;5;21;01mcore\u001b[39;00m\u001b[38;5;21;01m.\u001b[39;00m\u001b[38;5;21;01mreshape\u001b[39;00m\u001b[38;5;21;01m.\u001b[39;00m\u001b[38;5;21;01mmerge\u001b[39;00m \u001b[38;5;28;01mimport\u001b[39;00m merge\n\u001b[1;32m> 10832\u001b[0m     \u001b[38;5;28;01mreturn\u001b[39;00m merge(\n\u001b[0;32m  10833\u001b[0m         \u001b[38;5;28mself\u001b[39m,\n\u001b[0;32m  10834\u001b[0m         right,\n\u001b[0;32m  10835\u001b[0m         how\u001b[38;5;241m=\u001b[39mhow,\n\u001b[0;32m  10836\u001b[0m         on\u001b[38;5;241m=\u001b[39mon,\n\u001b[0;32m  10837\u001b[0m         left_on\u001b[38;5;241m=\u001b[39mleft_on,\n\u001b[0;32m  10838\u001b[0m         right_on\u001b[38;5;241m=\u001b[39mright_on,\n\u001b[0;32m  10839\u001b[0m         left_index\u001b[38;5;241m=\u001b[39mleft_index,\n\u001b[0;32m  10840\u001b[0m         right_index\u001b[38;5;241m=\u001b[39mright_index,\n\u001b[0;32m  10841\u001b[0m         sort\u001b[38;5;241m=\u001b[39msort,\n\u001b[0;32m  10842\u001b[0m         suffixes\u001b[38;5;241m=\u001b[39msuffixes,\n\u001b[0;32m  10843\u001b[0m         copy\u001b[38;5;241m=\u001b[39mcopy,\n\u001b[0;32m  10844\u001b[0m         indicator\u001b[38;5;241m=\u001b[39mindicator,\n\u001b[0;32m  10845\u001b[0m         validate\u001b[38;5;241m=\u001b[39mvalidate,\n\u001b[0;32m  10846\u001b[0m     )\n",
      "File \u001b[1;32m~\\anaconda3\\Lib\\site-packages\\pandas\\core\\reshape\\merge.py:184\u001b[0m, in \u001b[0;36mmerge\u001b[1;34m(left, right, how, on, left_on, right_on, left_index, right_index, sort, suffixes, copy, indicator, validate)\u001b[0m\n\u001b[0;32m    169\u001b[0m \u001b[38;5;28;01melse\u001b[39;00m:\n\u001b[0;32m    170\u001b[0m     op \u001b[38;5;241m=\u001b[39m _MergeOperation(\n\u001b[0;32m    171\u001b[0m         left_df,\n\u001b[0;32m    172\u001b[0m         right_df,\n\u001b[1;32m   (...)\u001b[0m\n\u001b[0;32m    182\u001b[0m         validate\u001b[38;5;241m=\u001b[39mvalidate,\n\u001b[0;32m    183\u001b[0m     )\n\u001b[1;32m--> 184\u001b[0m     \u001b[38;5;28;01mreturn\u001b[39;00m op\u001b[38;5;241m.\u001b[39mget_result(copy\u001b[38;5;241m=\u001b[39mcopy)\n",
      "File \u001b[1;32m~\\anaconda3\\Lib\\site-packages\\pandas\\core\\reshape\\merge.py:888\u001b[0m, in \u001b[0;36m_MergeOperation.get_result\u001b[1;34m(self, copy)\u001b[0m\n\u001b[0;32m    884\u001b[0m     \u001b[38;5;28mself\u001b[39m\u001b[38;5;241m.\u001b[39mleft, \u001b[38;5;28mself\u001b[39m\u001b[38;5;241m.\u001b[39mright \u001b[38;5;241m=\u001b[39m \u001b[38;5;28mself\u001b[39m\u001b[38;5;241m.\u001b[39m_indicator_pre_merge(\u001b[38;5;28mself\u001b[39m\u001b[38;5;241m.\u001b[39mleft, \u001b[38;5;28mself\u001b[39m\u001b[38;5;241m.\u001b[39mright)\n\u001b[0;32m    886\u001b[0m join_index, left_indexer, right_indexer \u001b[38;5;241m=\u001b[39m \u001b[38;5;28mself\u001b[39m\u001b[38;5;241m.\u001b[39m_get_join_info()\n\u001b[1;32m--> 888\u001b[0m result \u001b[38;5;241m=\u001b[39m \u001b[38;5;28mself\u001b[39m\u001b[38;5;241m.\u001b[39m_reindex_and_concat(\n\u001b[0;32m    889\u001b[0m     join_index, left_indexer, right_indexer, copy\u001b[38;5;241m=\u001b[39mcopy\n\u001b[0;32m    890\u001b[0m )\n\u001b[0;32m    891\u001b[0m result \u001b[38;5;241m=\u001b[39m result\u001b[38;5;241m.\u001b[39m__finalize__(\u001b[38;5;28mself\u001b[39m, method\u001b[38;5;241m=\u001b[39m\u001b[38;5;28mself\u001b[39m\u001b[38;5;241m.\u001b[39m_merge_type)\n\u001b[0;32m    893\u001b[0m \u001b[38;5;28;01mif\u001b[39;00m \u001b[38;5;28mself\u001b[39m\u001b[38;5;241m.\u001b[39mindicator:\n",
      "File \u001b[1;32m~\\anaconda3\\Lib\\site-packages\\pandas\\core\\reshape\\merge.py:840\u001b[0m, in \u001b[0;36m_MergeOperation._reindex_and_concat\u001b[1;34m(self, join_index, left_indexer, right_indexer, copy)\u001b[0m\n\u001b[0;32m    837\u001b[0m left \u001b[38;5;241m=\u001b[39m \u001b[38;5;28mself\u001b[39m\u001b[38;5;241m.\u001b[39mleft[:]\n\u001b[0;32m    838\u001b[0m right \u001b[38;5;241m=\u001b[39m \u001b[38;5;28mself\u001b[39m\u001b[38;5;241m.\u001b[39mright[:]\n\u001b[1;32m--> 840\u001b[0m llabels, rlabels \u001b[38;5;241m=\u001b[39m _items_overlap_with_suffix(\n\u001b[0;32m    841\u001b[0m     \u001b[38;5;28mself\u001b[39m\u001b[38;5;241m.\u001b[39mleft\u001b[38;5;241m.\u001b[39m_info_axis, \u001b[38;5;28mself\u001b[39m\u001b[38;5;241m.\u001b[39mright\u001b[38;5;241m.\u001b[39m_info_axis, \u001b[38;5;28mself\u001b[39m\u001b[38;5;241m.\u001b[39msuffixes\n\u001b[0;32m    842\u001b[0m )\n\u001b[0;32m    844\u001b[0m \u001b[38;5;28;01mif\u001b[39;00m left_indexer \u001b[38;5;129;01mis\u001b[39;00m \u001b[38;5;129;01mnot\u001b[39;00m \u001b[38;5;28;01mNone\u001b[39;00m \u001b[38;5;129;01mand\u001b[39;00m \u001b[38;5;129;01mnot\u001b[39;00m is_range_indexer(left_indexer, \u001b[38;5;28mlen\u001b[39m(left)):\n\u001b[0;32m    845\u001b[0m     \u001b[38;5;66;03m# Pinning the index here (and in the right code just below) is not\u001b[39;00m\n\u001b[0;32m    846\u001b[0m     \u001b[38;5;66;03m#  necessary, but makes the `.take` more performant if we have e.g.\u001b[39;00m\n\u001b[0;32m    847\u001b[0m     \u001b[38;5;66;03m#  a MultiIndex for left.index.\u001b[39;00m\n\u001b[0;32m    848\u001b[0m     lmgr \u001b[38;5;241m=\u001b[39m left\u001b[38;5;241m.\u001b[39m_mgr\u001b[38;5;241m.\u001b[39mreindex_indexer(\n\u001b[0;32m    849\u001b[0m         join_index,\n\u001b[0;32m    850\u001b[0m         left_indexer,\n\u001b[1;32m   (...)\u001b[0m\n\u001b[0;32m    855\u001b[0m         use_na_proxy\u001b[38;5;241m=\u001b[39m\u001b[38;5;28;01mTrue\u001b[39;00m,\n\u001b[0;32m    856\u001b[0m     )\n",
      "File \u001b[1;32m~\\anaconda3\\Lib\\site-packages\\pandas\\core\\reshape\\merge.py:2757\u001b[0m, in \u001b[0;36m_items_overlap_with_suffix\u001b[1;34m(left, right, suffixes)\u001b[0m\n\u001b[0;32m   2755\u001b[0m     dups\u001b[38;5;241m.\u001b[39mextend(rlabels[(rlabels\u001b[38;5;241m.\u001b[39mduplicated()) \u001b[38;5;241m&\u001b[39m (\u001b[38;5;241m~\u001b[39mright\u001b[38;5;241m.\u001b[39mduplicated())]\u001b[38;5;241m.\u001b[39mtolist())\n\u001b[0;32m   2756\u001b[0m \u001b[38;5;28;01mif\u001b[39;00m dups:\n\u001b[1;32m-> 2757\u001b[0m     \u001b[38;5;28;01mraise\u001b[39;00m MergeError(\n\u001b[0;32m   2758\u001b[0m         \u001b[38;5;124mf\u001b[39m\u001b[38;5;124m\"\u001b[39m\u001b[38;5;124mPassing \u001b[39m\u001b[38;5;124m'\u001b[39m\u001b[38;5;124msuffixes\u001b[39m\u001b[38;5;124m'\u001b[39m\u001b[38;5;124m which cause duplicate columns \u001b[39m\u001b[38;5;132;01m{\u001b[39;00m\u001b[38;5;28mset\u001b[39m(dups)\u001b[38;5;132;01m}\u001b[39;00m\u001b[38;5;124m is \u001b[39m\u001b[38;5;124m\"\u001b[39m\n\u001b[0;32m   2759\u001b[0m         \u001b[38;5;124mf\u001b[39m\u001b[38;5;124m\"\u001b[39m\u001b[38;5;124mnot allowed.\u001b[39m\u001b[38;5;124m\"\u001b[39m,\n\u001b[0;32m   2760\u001b[0m     )\n\u001b[0;32m   2762\u001b[0m \u001b[38;5;28;01mreturn\u001b[39;00m llabels, rlabels\n",
      "\u001b[1;31mMergeError\u001b[0m: Passing 'suffixes' which cause duplicate columns {'opponent_points_conceded_to_position_x'} is not allowed."
     ]
    }
   ],
   "source": [
    "# Calculate points conceded by opponent to each position\n",
    "opp_points = df.groupby(['season', 'GW', 'opponent_team', 'position'])['total_points'].mean().reset_index()\n",
    "\n",
    "# Sort by relevant columns to ensure proper rolling order\n",
    "opp_points = opp_points.sort_values(['season', 'opponent_team', 'position', 'GW'])\n",
    "\n",
    "# Compute rolling mean for 'total_points' only\n",
    "opp_points['opponent_points_conceded_to_position'] = (\n",
    "    opp_points.groupby(['season', 'opponent_team', 'position'])['total_points']\n",
    "    .rolling(window=5, min_periods=1)\n",
    "    .mean()\n",
    "    .shift(1)\n",
    "    .values\n",
    ")\n",
    "\n",
    "# Define opp_rolling with a copy\n",
    "opp_rolling = opp_points[['season', 'GW', 'opponent_team', 'position', 'opponent_points_conceded_to_position']].copy()\n",
    "\n",
    "# Standardize types in opp_rolling using .loc\n",
    "opp_rolling.loc[:, 'season'] = opp_rolling['season'].astype(str)\n",
    "opp_rolling.loc[:, 'GW'] = opp_rolling['GW'].astype('Int64')\n",
    "opp_rolling.loc[:, 'opponent_team'] = opp_rolling['opponent_team'].astype('Int64')\n",
    "opp_rolling.loc[:, 'position'] = opp_rolling['position'].astype(str)\n",
    "\n",
    "# Merge to main DataFrame\n",
    "df = df.merge(opp_rolling[['season', 'GW', 'opponent_team', 'position', 'opponent_points_conceded_to_position']], \n",
    "              on=['season', 'GW', 'opponent_team', 'position'], how='left')\n",
    "\n",
    "# Assuming team_stats is defined earlier\n",
    "# Sort for consistent rolling\n",
    "team_stats = team_stats.sort_values(['season', 'team', 'GW'])\n",
    "\n",
    "# Define columns for rolling averages\n",
    "rolling_cols = ['team_xgc_per_game']  # Add others as needed\n",
    "\n",
    "# Compute rolling means for specific columns\n",
    "for col in rolling_cols:\n",
    "    team_stats[f'{col}_rolling'] = (\n",
    "        team_stats.groupby(['season', 'team'])[col]\n",
    "        .rolling(window=5, min_periods=1)\n",
    "        .mean()\n",
    "        .shift(1)\n",
    "        .values\n",
    "    )\n",
    "\n",
    "# Define team_rolling with a copy\n",
    "team_rolling = team_stats[['season', 'GW', 'team'] + [f'{col}_rolling' for col in rolling_cols]].copy()\n",
    "\n",
    "# Standardize types in team_rolling using .loc\n",
    "team_rolling.loc[:, 'season'] = team_rolling['season'].astype(str)\n",
    "team_rolling.loc[:, 'GW'] = team_rolling['GW'].astype('Int64')\n",
    "team_rolling.loc[:, 'team'] = team_rolling['team'].astype(str)\n",
    "\n",
    "# Map opponent_team to team names (assuming team_mappings is defined)\n",
    "df['opponent_team_name'] = df.apply(\n",
    "    lambda row: team_mappings[row['season']].get(row['opponent_team'], 'Unknown'), \n",
    "    axis=1\n",
    ")\n",
    "\n",
    "# Add opponent_xgc_per_game using the rolling average\n",
    "df = df.merge(team_rolling[['season', 'GW', 'team', 'team_xgc_per_game_rolling']], \n",
    "              left_on=['season', 'GW', 'opponent_team_name'], \n",
    "              right_on=['season', 'GW', 'team'], \n",
    "              how='left', suffixes=('', '_opp'))\n",
    "\n",
    "# Assign the correct column and clean up\n",
    "df['opponent_xgc_per_game'] = df['team_xgc_per_game_rolling']\n",
    "df = df.drop(columns=['team_xgc_per_game_rolling'])"
   ]
  },
  {
   "cell_type": "code",
   "execution_count": 16,
   "id": "a52bbeaa-a61e-47a4-a853-3d18d9cfca8b",
   "metadata": {},
   "outputs": [
    {
     "name": "stdout",
     "output_type": "stream",
     "text": [
      "Index(['name', 'position', 'team', 'xP', 'assists', 'bonus', 'bps',\n",
      "       'clean_sheets', 'creativity', 'element', 'fixture', 'goals_conceded',\n",
      "       'goals_scored', 'ict_index', 'influence', 'kickoff_time', 'minutes',\n",
      "       'opponent_team', 'own_goals', 'penalties_missed', 'penalties_saved',\n",
      "       'red_cards', 'round', 'saves', 'selected', 'team_a_score',\n",
      "       'team_h_score', 'threat', 'total_points', 'transfers_balance',\n",
      "       'transfers_in', 'transfers_out', 'value', 'was_home', 'yellow_cards',\n",
      "       'GW', 'season', 'expected_assists', 'expected_goal_involvements',\n",
      "       'expected_goals', 'expected_goals_conceded', 'starts', 'modified',\n",
      "       'team_id', 'num_games_in_gw', 'player_points_ewma',\n",
      "       'player_minutes_ewma', 'player_xg_ewma', 'player_xa_ewma',\n",
      "       'team_goals_scored_per_game', 'team_goals_conceded_per_game',\n",
      "       'team_xg_per_game', 'team_xgc_per_game',\n",
      "       'opponent_points_conceded_to_position_x',\n",
      "       'opponent_points_conceded_to_position_y', 'opponent_team_name',\n",
      "       'opponent_points_conceded_to_position', 'team_opp',\n",
      "       'team_xgc_per_game_rolling'],\n",
      "      dtype='object')\n"
     ]
    }
   ],
   "source": [
    "print(df.columns)"
   ]
  },
  {
   "cell_type": "code",
   "execution_count": 17,
   "id": "bc4d4fe7-1ee8-48c5-b9e5-d7c88e9dbaed",
   "metadata": {},
   "outputs": [],
   "source": [
    "# Identify and drop columns related to 'opponent_points_conceded_to_position'\n",
    "columns_to_drop = [col for col in df.columns if 'opponent_points_conceded_to_position' in col]\n",
    "df = df.drop(columns=columns_to_drop, errors='ignore')  # 'errors=\"ignore\"' avoids issues if no columns match"
   ]
  },
  {
   "cell_type": "code",
   "execution_count": 18,
   "id": "2eabf106-d4e4-4f24-b23b-ad22a60cab8a",
   "metadata": {},
   "outputs": [
    {
     "name": "stdout",
     "output_type": "stream",
     "text": [
      "Index(['name', 'position', 'team', 'xP', 'assists', 'bonus', 'bps',\n",
      "       'clean_sheets', 'creativity', 'element', 'fixture', 'goals_conceded',\n",
      "       'goals_scored', 'ict_index', 'influence', 'kickoff_time', 'minutes',\n",
      "       'opponent_team', 'own_goals', 'penalties_missed', 'penalties_saved',\n",
      "       'red_cards', 'round', 'saves', 'selected', 'team_a_score',\n",
      "       'team_h_score', 'threat', 'total_points', 'transfers_balance',\n",
      "       'transfers_in', 'transfers_out', 'value', 'was_home', 'yellow_cards',\n",
      "       'GW', 'season', 'expected_assists', 'expected_goal_involvements',\n",
      "       'expected_goals', 'expected_goals_conceded', 'starts', 'modified',\n",
      "       'team_id', 'num_games_in_gw', 'player_points_ewma',\n",
      "       'player_minutes_ewma', 'player_xg_ewma', 'player_xa_ewma',\n",
      "       'team_goals_scored_per_game', 'team_goals_conceded_per_game',\n",
      "       'team_xg_per_game', 'team_xgc_per_game', 'opponent_team_name',\n",
      "       'team_opp', 'team_xgc_per_game_rolling'],\n",
      "      dtype='object')\n"
     ]
    }
   ],
   "source": [
    "print(df.columns)"
   ]
  },
  {
   "cell_type": "code",
   "execution_count": 19,
   "id": "d478ce6c-db2d-4d6d-a32f-edd38021ac3b",
   "metadata": {},
   "outputs": [],
   "source": [
    "df = df.merge(opp_rolling[['season', 'GW', 'opponent_team', 'position', 'opponent_points_conceded_to_position']], \n",
    "              on=['season', 'GW', 'opponent_team', 'position'], \n",
    "              how='left', \n",
    "              suffixes=('', '_rolling'))"
   ]
  },
  {
   "cell_type": "code",
   "execution_count": 20,
   "id": "1eb1aa54-6545-4b20-b8cb-0df2f681540d",
   "metadata": {},
   "outputs": [
    {
     "ename": "KeyError",
     "evalue": "'opponent_points_conceded_to_position_rolling'",
     "output_type": "error",
     "traceback": [
      "\u001b[1;31m---------------------------------------------------------------------------\u001b[0m",
      "\u001b[1;31mKeyError\u001b[0m                                  Traceback (most recent call last)",
      "File \u001b[1;32m~\\anaconda3\\Lib\\site-packages\\pandas\\core\\indexes\\base.py:3805\u001b[0m, in \u001b[0;36mIndex.get_loc\u001b[1;34m(self, key)\u001b[0m\n\u001b[0;32m   3804\u001b[0m \u001b[38;5;28;01mtry\u001b[39;00m:\n\u001b[1;32m-> 3805\u001b[0m     \u001b[38;5;28;01mreturn\u001b[39;00m \u001b[38;5;28mself\u001b[39m\u001b[38;5;241m.\u001b[39m_engine\u001b[38;5;241m.\u001b[39mget_loc(casted_key)\n\u001b[0;32m   3806\u001b[0m \u001b[38;5;28;01mexcept\u001b[39;00m \u001b[38;5;167;01mKeyError\u001b[39;00m \u001b[38;5;28;01mas\u001b[39;00m err:\n",
      "File \u001b[1;32mindex.pyx:167\u001b[0m, in \u001b[0;36mpandas._libs.index.IndexEngine.get_loc\u001b[1;34m()\u001b[0m\n",
      "File \u001b[1;32mindex.pyx:196\u001b[0m, in \u001b[0;36mpandas._libs.index.IndexEngine.get_loc\u001b[1;34m()\u001b[0m\n",
      "File \u001b[1;32mpandas\\\\_libs\\\\hashtable_class_helper.pxi:7081\u001b[0m, in \u001b[0;36mpandas._libs.hashtable.PyObjectHashTable.get_item\u001b[1;34m()\u001b[0m\n",
      "File \u001b[1;32mpandas\\\\_libs\\\\hashtable_class_helper.pxi:7089\u001b[0m, in \u001b[0;36mpandas._libs.hashtable.PyObjectHashTable.get_item\u001b[1;34m()\u001b[0m\n",
      "\u001b[1;31mKeyError\u001b[0m: 'opponent_points_conceded_to_position_rolling'",
      "\nThe above exception was the direct cause of the following exception:\n",
      "\u001b[1;31mKeyError\u001b[0m                                  Traceback (most recent call last)",
      "Cell \u001b[1;32mIn[20], line 2\u001b[0m\n\u001b[0;32m      1\u001b[0m \u001b[38;5;66;03m# Assign the rolling feature to the intended column name\u001b[39;00m\n\u001b[1;32m----> 2\u001b[0m df[\u001b[38;5;124m'\u001b[39m\u001b[38;5;124mopponent_points_conceded_to_position\u001b[39m\u001b[38;5;124m'\u001b[39m] \u001b[38;5;241m=\u001b[39m df[\u001b[38;5;124m'\u001b[39m\u001b[38;5;124mopponent_points_conceded_to_position_rolling\u001b[39m\u001b[38;5;124m'\u001b[39m]\n\u001b[0;32m      3\u001b[0m \u001b[38;5;66;03m# Drop the temporary suffixed column\u001b[39;00m\n\u001b[0;32m      4\u001b[0m df \u001b[38;5;241m=\u001b[39m df\u001b[38;5;241m.\u001b[39mdrop(columns\u001b[38;5;241m=\u001b[39m[\u001b[38;5;124m'\u001b[39m\u001b[38;5;124mopponent_points_conceded_to_position_rolling\u001b[39m\u001b[38;5;124m'\u001b[39m], errors\u001b[38;5;241m=\u001b[39m\u001b[38;5;124m'\u001b[39m\u001b[38;5;124mignore\u001b[39m\u001b[38;5;124m'\u001b[39m)\n",
      "File \u001b[1;32m~\\anaconda3\\Lib\\site-packages\\pandas\\core\\frame.py:4102\u001b[0m, in \u001b[0;36mDataFrame.__getitem__\u001b[1;34m(self, key)\u001b[0m\n\u001b[0;32m   4100\u001b[0m \u001b[38;5;28;01mif\u001b[39;00m \u001b[38;5;28mself\u001b[39m\u001b[38;5;241m.\u001b[39mcolumns\u001b[38;5;241m.\u001b[39mnlevels \u001b[38;5;241m>\u001b[39m \u001b[38;5;241m1\u001b[39m:\n\u001b[0;32m   4101\u001b[0m     \u001b[38;5;28;01mreturn\u001b[39;00m \u001b[38;5;28mself\u001b[39m\u001b[38;5;241m.\u001b[39m_getitem_multilevel(key)\n\u001b[1;32m-> 4102\u001b[0m indexer \u001b[38;5;241m=\u001b[39m \u001b[38;5;28mself\u001b[39m\u001b[38;5;241m.\u001b[39mcolumns\u001b[38;5;241m.\u001b[39mget_loc(key)\n\u001b[0;32m   4103\u001b[0m \u001b[38;5;28;01mif\u001b[39;00m is_integer(indexer):\n\u001b[0;32m   4104\u001b[0m     indexer \u001b[38;5;241m=\u001b[39m [indexer]\n",
      "File \u001b[1;32m~\\anaconda3\\Lib\\site-packages\\pandas\\core\\indexes\\base.py:3812\u001b[0m, in \u001b[0;36mIndex.get_loc\u001b[1;34m(self, key)\u001b[0m\n\u001b[0;32m   3807\u001b[0m     \u001b[38;5;28;01mif\u001b[39;00m \u001b[38;5;28misinstance\u001b[39m(casted_key, \u001b[38;5;28mslice\u001b[39m) \u001b[38;5;129;01mor\u001b[39;00m (\n\u001b[0;32m   3808\u001b[0m         \u001b[38;5;28misinstance\u001b[39m(casted_key, abc\u001b[38;5;241m.\u001b[39mIterable)\n\u001b[0;32m   3809\u001b[0m         \u001b[38;5;129;01mand\u001b[39;00m \u001b[38;5;28many\u001b[39m(\u001b[38;5;28misinstance\u001b[39m(x, \u001b[38;5;28mslice\u001b[39m) \u001b[38;5;28;01mfor\u001b[39;00m x \u001b[38;5;129;01min\u001b[39;00m casted_key)\n\u001b[0;32m   3810\u001b[0m     ):\n\u001b[0;32m   3811\u001b[0m         \u001b[38;5;28;01mraise\u001b[39;00m InvalidIndexError(key)\n\u001b[1;32m-> 3812\u001b[0m     \u001b[38;5;28;01mraise\u001b[39;00m \u001b[38;5;167;01mKeyError\u001b[39;00m(key) \u001b[38;5;28;01mfrom\u001b[39;00m \u001b[38;5;21;01merr\u001b[39;00m\n\u001b[0;32m   3813\u001b[0m \u001b[38;5;28;01mexcept\u001b[39;00m \u001b[38;5;167;01mTypeError\u001b[39;00m:\n\u001b[0;32m   3814\u001b[0m     \u001b[38;5;66;03m# If we have a listlike key, _check_indexing_error will raise\u001b[39;00m\n\u001b[0;32m   3815\u001b[0m     \u001b[38;5;66;03m#  InvalidIndexError. Otherwise we fall through and re-raise\u001b[39;00m\n\u001b[0;32m   3816\u001b[0m     \u001b[38;5;66;03m#  the TypeError.\u001b[39;00m\n\u001b[0;32m   3817\u001b[0m     \u001b[38;5;28mself\u001b[39m\u001b[38;5;241m.\u001b[39m_check_indexing_error(key)\n",
      "\u001b[1;31mKeyError\u001b[0m: 'opponent_points_conceded_to_position_rolling'"
     ]
    }
   ],
   "source": [
    "# Assign the rolling feature to the intended column name\n",
    "df['opponent_points_conceded_to_position'] = df['opponent_points_conceded_to_position_rolling']\n",
    "# Drop the temporary suffixed column\n",
    "df = df.drop(columns=['opponent_points_conceded_to_position_rolling'], errors='ignore')"
   ]
  },
  {
   "cell_type": "code",
   "execution_count": 21,
   "id": "32685ba2-6f9e-47f1-8b58-f23b06a26e4f",
   "metadata": {},
   "outputs": [
    {
     "name": "stdout",
     "output_type": "stream",
     "text": [
      "Index(['name', 'position', 'team', 'xP', 'assists', 'bonus', 'bps',\n",
      "       'clean_sheets', 'creativity', 'element', 'fixture', 'goals_conceded',\n",
      "       'goals_scored', 'ict_index', 'influence', 'kickoff_time', 'minutes',\n",
      "       'opponent_team', 'own_goals', 'penalties_missed', 'penalties_saved',\n",
      "       'red_cards', 'round', 'saves', 'selected', 'team_a_score',\n",
      "       'team_h_score', 'threat', 'total_points', 'transfers_balance',\n",
      "       'transfers_in', 'transfers_out', 'value', 'was_home', 'yellow_cards',\n",
      "       'GW', 'season', 'expected_assists', 'expected_goal_involvements',\n",
      "       'expected_goals', 'expected_goals_conceded', 'starts', 'modified',\n",
      "       'team_id', 'num_games_in_gw', 'player_points_ewma',\n",
      "       'player_minutes_ewma', 'player_xg_ewma', 'player_xa_ewma',\n",
      "       'team_goals_scored_per_game', 'team_goals_conceded_per_game',\n",
      "       'team_xg_per_game', 'team_xgc_per_game', 'opponent_team_name',\n",
      "       'team_opp', 'team_xgc_per_game_rolling',\n",
      "       'opponent_points_conceded_to_position'],\n",
      "      dtype='object')\n"
     ]
    }
   ],
   "source": [
    "print(df.columns)"
   ]
  },
  {
   "cell_type": "code",
   "execution_count": 22,
   "id": "32ab88ae-2c66-4880-9e4f-462a83dbefa4",
   "metadata": {},
   "outputs": [
    {
     "name": "stdout",
     "output_type": "stream",
     "text": [
      "    season  GW  opponent_team position  opponent_points_conceded_to_position\n",
      "0  2020-21   1              8      MID                              0.666667\n",
      "1  2020-21   2             19      MID                              2.333333\n",
      "2  2020-21   2             19      MID                              2.333333\n",
      "3  2020-21   2             19      MID                              2.333333\n",
      "4  2020-21   3             11      MID                              0.818182\n"
     ]
    }
   ],
   "source": [
    "# Example: Inspect the values\n",
    "print(df[['season', 'GW', 'opponent_team', 'position', 'opponent_points_conceded_to_position']].head())"
   ]
  },
  {
   "cell_type": "code",
   "execution_count": 23,
   "id": "ff27a394-05c2-42b9-bb8b-9fb65ada7e53",
   "metadata": {},
   "outputs": [
    {
     "name": "stdout",
     "output_type": "stream",
     "text": [
      "Column successfully added.\n"
     ]
    }
   ],
   "source": [
    "if 'opponent_points_conceded_to_position' in df.columns:\n",
    "    print(\"Column successfully added.\")\n",
    "else:\n",
    "    print(\"Column not added. Check merge operation.\")"
   ]
  },
  {
   "cell_type": "code",
   "execution_count": 24,
   "id": "22b21252-1d4b-4399-9d00-4599575e3414",
   "metadata": {},
   "outputs": [
    {
     "name": "stdout",
     "output_type": "stream",
     "text": [
      "Index(['name', 'position', 'team', 'xP', 'assists', 'bonus', 'bps',\n",
      "       'clean_sheets', 'creativity', 'element', 'fixture', 'goals_conceded',\n",
      "       'goals_scored', 'ict_index', 'influence', 'kickoff_time', 'minutes',\n",
      "       'opponent_team', 'own_goals', 'penalties_missed', 'penalties_saved',\n",
      "       'red_cards', 'round', 'saves', 'selected', 'team_a_score',\n",
      "       'team_h_score', 'threat', 'total_points', 'transfers_balance',\n",
      "       'transfers_in', 'transfers_out', 'value', 'was_home', 'yellow_cards',\n",
      "       'GW', 'season', 'expected_assists', 'expected_goal_involvements',\n",
      "       'expected_goals', 'expected_goals_conceded', 'starts', 'modified',\n",
      "       'team_id', 'num_games_in_gw', 'player_points_ewma',\n",
      "       'player_minutes_ewma', 'player_xg_ewma', 'player_xa_ewma',\n",
      "       'team_goals_scored_per_game', 'team_goals_conceded_per_game',\n",
      "       'team_xg_per_game', 'team_xgc_per_game', 'opponent_team_name',\n",
      "       'team_opp', 'team_xgc_per_game_rolling',\n",
      "       'opponent_points_conceded_to_position'],\n",
      "      dtype='object')\n",
      "Index(['name', 'position', 'team', 'xP', 'assists', 'bonus', 'bps',\n",
      "       'clean_sheets', 'creativity', 'element', 'fixture', 'goals_conceded',\n",
      "       'goals_scored', 'ict_index', 'influence', 'kickoff_time', 'minutes',\n",
      "       'opponent_team', 'own_goals', 'penalties_missed', 'penalties_saved',\n",
      "       'red_cards', 'round', 'saves', 'selected', 'team_a_score',\n",
      "       'team_h_score', 'threat', 'total_points', 'transfers_balance',\n",
      "       'transfers_in', 'transfers_out', 'value', 'was_home', 'yellow_cards',\n",
      "       'GW', 'season', 'expected_assists', 'expected_goal_involvements',\n",
      "       'expected_goals', 'expected_goals_conceded', 'starts', 'modified',\n",
      "       'team_id', 'num_games_in_gw', 'player_points_ewma',\n",
      "       'player_minutes_ewma', 'player_xg_ewma', 'player_xa_ewma',\n",
      "       'team_goals_scored_per_game', 'team_goals_conceded_per_game',\n",
      "       'team_xg_per_game', 'team_xgc_per_game', 'opponent_team_name',\n",
      "       'team_opp', 'team_xgc_per_game_rolling'],\n",
      "      dtype='object')\n",
      "Index(['name', 'position', 'team', 'xP', 'assists', 'bonus', 'bps',\n",
      "       'clean_sheets', 'creativity', 'element', 'fixture', 'goals_conceded',\n",
      "       'goals_scored', 'ict_index', 'influence', 'kickoff_time', 'minutes',\n",
      "       'opponent_team', 'own_goals', 'penalties_missed', 'penalties_saved',\n",
      "       'red_cards', 'round', 'saves', 'selected', 'team_a_score',\n",
      "       'team_h_score', 'threat', 'total_points', 'transfers_balance',\n",
      "       'transfers_in', 'transfers_out', 'value', 'was_home', 'yellow_cards',\n",
      "       'GW', 'season', 'expected_assists', 'expected_goal_involvements',\n",
      "       'expected_goals', 'expected_goals_conceded', 'starts', 'modified',\n",
      "       'team_id', 'num_games_in_gw', 'player_points_ewma',\n",
      "       'player_minutes_ewma', 'player_xg_ewma', 'player_xa_ewma',\n",
      "       'team_goals_scored_per_game', 'team_goals_conceded_per_game',\n",
      "       'team_xg_per_game', 'team_xgc_per_game', 'opponent_team_name',\n",
      "       'team_opp', 'team_xgc_per_game_rolling',\n",
      "       'opponent_points_conceded_to_position'],\n",
      "      dtype='object')\n",
      "    season  GW  opponent_team position  opponent_points_conceded_to_position\n",
      "0  2020-21   1              8      MID                              0.666667\n",
      "1  2020-21   2             19      MID                              2.333333\n",
      "2  2020-21   2             19      MID                              2.333333\n",
      "3  2020-21   2             19      MID                              2.333333\n",
      "4  2020-21   3             11      MID                              0.818182\n"
     ]
    }
   ],
   "source": [
    "# Step 1: Inspect columns (already done)\n",
    "print(df.columns)\n",
    "\n",
    "# Step 2: Remove redundant columns\n",
    "columns_to_drop = [col for col in df.columns if 'opponent_points_conceded_to_position' in col]\n",
    "df = df.drop(columns=columns_to_drop, errors='ignore')\n",
    "print(df.columns)\n",
    "\n",
    "# Step 3: Perform the merge\n",
    "df = df.merge(opp_rolling[['season', 'GW', 'opponent_team', 'position', 'opponent_points_conceded_to_position']], \n",
    "              on=['season', 'GW', 'opponent_team', 'position'], \n",
    "              how='left', \n",
    "              suffixes=('', '_rolling'))\n",
    "\n",
    "# Step 4: No reassignment needed, just verify\n",
    "print(df.columns)\n",
    "print(df[['season', 'GW', 'opponent_team', 'position', 'opponent_points_conceded_to_position']].head())"
   ]
  },
  {
   "cell_type": "code",
   "execution_count": 25,
   "id": "be99ab6f-4a69-4310-b86e-e74c8e8bc610",
   "metadata": {},
   "outputs": [
    {
     "name": "stdout",
     "output_type": "stream",
     "text": [
      "    season  GW  element   team  opponent_xgc_per_game  was_home  \\\n",
      "0  2022-23   1        1  TeamA               0.412393      True   \n",
      "1  2022-23   2        1  TeamA              -0.577350     False   \n",
      "2  2022-23   3        1  TeamA               1.402136      True   \n",
      "3  2022-23   4        1  TeamA              -1.237179     False   \n",
      "\n",
      "   team_goals_conceded_per_game  goals_scored  assists  minutes  ...  \\\n",
      "0                           0.8             1        0       90  ...   \n",
      "1                           1.2             0        1       85  ...   \n",
      "2                           0.9             2        0       90  ...   \n",
      "3                           1.5             1        1       75  ...   \n",
      "\n",
      "   fixture_difficulty  is_home  clean_sheet_prob  goal_involvement_rate  \\\n",
      "0                 1.5        1                 1               0.011111   \n",
      "1                 1.2        0                 0               0.011765   \n",
      "2                 1.8        1                 1               0.022222   \n",
      "3                 1.0        0                 0               0.026667   \n",
      "\n",
      "   form_vs_opponent  player_points_season_avg  form_trend  team_win_streak  \\\n",
      "0          0.091430                       5.5   -0.447214              NaN   \n",
      "1         -0.868586                       5.5   -1.341641              3.0   \n",
      "2          1.600026                       5.5    1.341641              3.0   \n",
      "3         -0.822871                       5.5    0.447214              6.0   \n",
      "\n",
      "   points_vs_avg  pos_FWD  \n",
      "0       0.447214     True  \n",
      "1      -1.341641     True  \n",
      "2       1.341641     True  \n",
      "3      -0.447214     True  \n",
      "\n",
      "[4 rows x 23 columns]\n"
     ]
    }
   ],
   "source": [
    "import pandas as pd\n",
    "import numpy as np\n",
    "from sklearn.preprocessing import StandardScaler\n",
    "\n",
    "def add_features(df):\n",
    "    \"\"\"\n",
    "    Adds a comprehensive set of features to a DataFrame for football player performance analysis.\n",
    "    \n",
    "    Parameters:\n",
    "        df (pd.DataFrame): Input DataFrame with raw player and match data.\n",
    "        \n",
    "    Returns:\n",
    "        pd.DataFrame: DataFrame with added features.\n",
    "    \"\"\"\n",
    "    # Ensure a copy of the DataFrame to avoid modifying the original\n",
    "    df = df.copy()\n",
    "    \n",
    "    ### 1. Fixture Difficulty Rating (FDR)\n",
    "    # Measures the difficulty of a fixture based on opponent's expected goals conceded per game\n",
    "    # Assumes 'opponent_xgc_per_game' (opponent's expected goals conceded per game) is pre-calculated\n",
    "    df['fixture_difficulty'] = df['opponent_xgc_per_game']\n",
    "    \n",
    "    ### 2. Home/Away Indicator\n",
    "    # Converts the 'was_home' boolean column to a binary integer (1 for home, 0 for away)\n",
    "    df['is_home'] = df['was_home'].astype(int)\n",
    "    \n",
    "    ### 3. Position-Specific Features\n",
    "    # For defenders and goalkeepers: Probability of a clean sheet\n",
    "    # Assumes 'team_goals_conceded_per_game' is pre-calculated\n",
    "    # Simplified as 1 if team concedes < 1 goal per game on average, 0 otherwise\n",
    "    df['clean_sheet_prob'] = df['team_goals_conceded_per_game'].apply(lambda x: 1 if x < 1 else 0)\n",
    "    \n",
    "    # For midfielders and forwards: Goal involvement rate\n",
    "    # Assumes 'goals_scored', 'assists', and 'minutes' columns exist\n",
    "    # Handles division by zero by replacing 0 minutes with NaN\n",
    "    df['goal_involvement_rate'] = (df['goals_scored'] + df['assists']) / df['minutes'].replace(0, np.nan)\n",
    "    \n",
    "    ### 4. Interaction Features\n",
    "    # Combines player form (exponentially weighted moving average of points) with opponent weakness\n",
    "    # Assumes 'player_points_ewma' and 'opponent_xgc_per_game' are pre-calculated\n",
    "    df['form_vs_opponent'] = df['player_points_ewma'] * df['opponent_xgc_per_game']\n",
    "    \n",
    "    ### 5. Time-Based Features\n",
    "    # Calculates player's season average points and form trend\n",
    "    # 'element' is assumed to be the unique player identifier\n",
    "    season_avg = df.groupby(['season', 'element'])['total_points'].mean().reset_index()\n",
    "    season_avg.rename(columns={'total_points': 'player_points_season_avg'}, inplace=True)\n",
    "    df = df.merge(season_avg, on=['season', 'element'], how='left')\n",
    "    df['form_trend'] = df['player_points_ewma'] - df['player_points_season_avg']\n",
    "    \n",
    "    ### 6. Team and Opponent Momentum\n",
    "    # Calculates team win streak as the sum of team points over the last 3 game weeks\n",
    "    # Assumes 'team_points' represents the points earned by the team in each game week\n",
    "    # Shifted by 1 to avoid using current game week's data (lookback only)\n",
    "    df['team_win_streak'] = (\n",
    "        df.groupby(['season', 'team'])['team_points']\n",
    "        .rolling(window=3, min_periods=1)\n",
    "        .sum()\n",
    "        .shift(1)\n",
    "        .values\n",
    "    )\n",
    "    \n",
    "    ### 7. Differential Features\n",
    "    # Difference between a player's points in a game week and their season average\n",
    "    df['points_vs_avg'] = df['total_points'] - df['player_points_season_avg']\n",
    "    \n",
    "    ### 8. Categorical Encoding\n",
    "    # One-hot encodes the 'position' column to create binary features for each position\n",
    "    df = pd.get_dummies(df, columns=['position'], prefix='pos')\n",
    "    \n",
    "    ### 9. Feature Scaling\n",
    "    # Scales selected numerical features to have zero mean and unit variance\n",
    "    scaler = StandardScaler()\n",
    "    numerical_cols = [\n",
    "        'player_points_ewma',\n",
    "        'opponent_xgc_per_game',\n",
    "        'form_vs_opponent',\n",
    "        'form_trend',\n",
    "        'points_vs_avg'\n",
    "    ]\n",
    "    # Ensure all columns exist before scaling\n",
    "    existing_cols = [col for col in numerical_cols if col in df.columns]\n",
    "    df[existing_cols] = scaler.fit_transform(df[existing_cols])\n",
    "    \n",
    "    return df\n",
    "\n",
    "# Example usage in an automatic update pipeline\n",
    "if __name__ == \"__main__\":\n",
    "    # Sample DataFrame (replace with your actual data)\n",
    "    data = {\n",
    "        'season': ['2022-23']*4,\n",
    "        'GW': [1, 2, 3, 4],\n",
    "        'element': [1, 1, 1, 1],\n",
    "        'team': ['TeamA', 'TeamA', 'TeamA', 'TeamA'],\n",
    "        'opponent_xgc_per_game': [1.5, 1.2, 1.8, 1.0],\n",
    "        'was_home': [True, False, True, False],\n",
    "        'team_goals_conceded_per_game': [0.8, 1.2, 0.9, 1.5],\n",
    "        'goals_scored': [1, 0, 2, 1],\n",
    "        'assists': [0, 1, 0, 1],\n",
    "        'minutes': [90, 85, 90, 75],\n",
    "        'player_points_ewma': [5.0, 4.5, 6.0, 5.5],\n",
    "        'total_points': [6, 4, 7, 5],\n",
    "        'team_points': [3, 0, 3, 1],\n",
    "        'position': ['FWD', 'FWD', 'FWD', 'FWD']\n",
    "    }\n",
    "    df = pd.DataFrame(data)\n",
    "    \n",
    "    # Apply the feature engineering function\n",
    "    df_enhanced = add_features(df)\n",
    "    \n",
    "    # Display the result\n",
    "    print(df_enhanced.head())"
   ]
  },
  {
   "cell_type": "code",
   "execution_count": 26,
   "id": "24adbe5f-aeef-4416-92c1-4a7c8baa1581",
   "metadata": {},
   "outputs": [
    {
     "name": "stdout",
     "output_type": "stream",
     "text": [
      "    season  GW  element   team  opponent_xgc_per_game  was_home  \\\n",
      "0  2022-23   1        1  TeamA               0.412393      True   \n",
      "1  2022-23   2        1  TeamA              -0.577350     False   \n",
      "2  2022-23   3        1  TeamA               1.402136      True   \n",
      "3  2022-23   4        1  TeamA              -1.237179     False   \n",
      "\n",
      "   team_goals_conceded_per_game  goals_scored  assists  minutes  ...  \\\n",
      "0                           0.8             1        0       90  ...   \n",
      "1                           1.2             0        1       85  ...   \n",
      "2                           0.9             2        0       90  ...   \n",
      "3                           1.5             1        1       75  ...   \n",
      "\n",
      "   fixture_difficulty  is_home  clean_sheet_prob  goal_involvement_rate  \\\n",
      "0                 1.5        1                 1               0.011111   \n",
      "1                 1.2        0                 0               0.011765   \n",
      "2                 1.8        1                 1               0.022222   \n",
      "3                 1.0        0                 0               0.026667   \n",
      "\n",
      "   form_vs_opponent  player_points_season_avg  form_trend  team_win_streak  \\\n",
      "0          0.091430                       5.5   -0.447214              NaN   \n",
      "1         -0.868586                       5.5   -1.341641              3.0   \n",
      "2          1.600026                       5.5    1.341641              3.0   \n",
      "3         -0.822871                       5.5    0.447214              6.0   \n",
      "\n",
      "   points_vs_avg  pos_FWD  \n",
      "0       0.447214     True  \n",
      "1      -1.341641     True  \n",
      "2       1.341641     True  \n",
      "3      -0.447214     True  \n",
      "\n",
      "[4 rows x 23 columns]\n"
     ]
    }
   ],
   "source": [
    "%run feature_engineering.py"
   ]
  },
  {
   "cell_type": "code",
   "execution_count": 27,
   "id": "f0d9795e-ebca-4e5d-beef-19b6e21e94b9",
   "metadata": {},
   "outputs": [
    {
     "name": "stdout",
     "output_type": "stream",
     "text": [
      "Feature engineered data saved to feature_engineered_data.csv\n",
      "    season  GW  element   team  opponent_xgc_per_game  was_home  \\\n",
      "0  2022-23   1        1  TeamA               0.412393      True   \n",
      "1  2022-23   2        1  TeamA              -0.577350     False   \n",
      "2  2022-23   3        1  TeamA               1.402136      True   \n",
      "3  2022-23   4        1  TeamA              -1.237179     False   \n",
      "\n",
      "   team_goals_conceded_per_game  goals_scored  assists  minutes  ...  \\\n",
      "0                           0.8             1        0       90  ...   \n",
      "1                           1.2             0        1       85  ...   \n",
      "2                           0.9             2        0       90  ...   \n",
      "3                           1.5             1        1       75  ...   \n",
      "\n",
      "   fixture_difficulty  is_home  clean_sheet_prob  goal_involvement_rate  \\\n",
      "0                 1.5        1                 1               0.011111   \n",
      "1                 1.2        0                 0               0.011765   \n",
      "2                 1.8        1                 1               0.022222   \n",
      "3                 1.0        0                 0               0.026667   \n",
      "\n",
      "   form_vs_opponent  player_points_season_avg  form_trend  team_win_streak  \\\n",
      "0          0.091430                       5.5   -0.447214              NaN   \n",
      "1         -0.868586                       5.5   -1.341641              3.0   \n",
      "2          1.600026                       5.5    1.341641              3.0   \n",
      "3         -0.822871                       5.5    0.447214              6.0   \n",
      "\n",
      "   points_vs_avg  pos_FWD  \n",
      "0       0.447214     True  \n",
      "1      -1.341641     True  \n",
      "2       1.341641     True  \n",
      "3      -0.447214     True  \n",
      "\n",
      "[4 rows x 23 columns]\n"
     ]
    }
   ],
   "source": [
    "%run feature_engineering.py"
   ]
  },
  {
   "cell_type": "code",
   "execution_count": 28,
   "id": "5ceb7da7-2af2-4ced-979c-9368e30b7719",
   "metadata": {},
   "outputs": [
    {
     "name": "stdout",
     "output_type": "stream",
     "text": [
      "Feature engineered data saved to data/feature_engineered_data.csv\n",
      "    season  GW  element   team  opponent_xgc_per_game  was_home  \\\n",
      "0  2022-23   1        1  TeamA               0.412393      True   \n",
      "1  2022-23   2        1  TeamA              -0.577350     False   \n",
      "2  2022-23   3        1  TeamA               1.402136      True   \n",
      "3  2022-23   4        1  TeamA              -1.237179     False   \n",
      "\n",
      "   team_goals_conceded_per_game  goals_scored  assists  minutes  ...  \\\n",
      "0                           0.8             1        0       90  ...   \n",
      "1                           1.2             0        1       85  ...   \n",
      "2                           0.9             2        0       90  ...   \n",
      "3                           1.5             1        1       75  ...   \n",
      "\n",
      "   fixture_difficulty  is_home  clean_sheet_prob  goal_involvement_rate  \\\n",
      "0                 1.5        1                 1               0.011111   \n",
      "1                 1.2        0                 0               0.011765   \n",
      "2                 1.8        1                 1               0.022222   \n",
      "3                 1.0        0                 0               0.026667   \n",
      "\n",
      "   form_vs_opponent  player_points_season_avg  form_trend  team_win_streak  \\\n",
      "0          0.091430                       5.5   -0.447214              NaN   \n",
      "1         -0.868586                       5.5   -1.341641              3.0   \n",
      "2          1.600026                       5.5    1.341641              3.0   \n",
      "3         -0.822871                       5.5    0.447214              6.0   \n",
      "\n",
      "   points_vs_avg  pos_FWD  \n",
      "0       0.447214     True  \n",
      "1      -1.341641     True  \n",
      "2       1.341641     True  \n",
      "3      -0.447214     True  \n",
      "\n",
      "[4 rows x 23 columns]\n"
     ]
    }
   ],
   "source": [
    "%run feature_engineering.py"
   ]
  },
  {
   "cell_type": "code",
   "execution_count": 1,
   "id": "f4434811-821b-437c-bac3-3658bc220c97",
   "metadata": {},
   "outputs": [
    {
     "name": "stdout",
     "output_type": "stream",
     "text": [
      "Available columns for preprocessed_historical_gw_zeroed: ['name', 'position', 'team', 'xP', 'assists', 'bonus', 'bps', 'clean_sheets', 'creativity', 'element', 'fixture', 'goals_conceded', 'goals_scored', 'ict_index', 'influence', 'kickoff_time', 'minutes', 'opponent_team', 'own_goals', 'penalties_missed', 'penalties_saved', 'red_cards', 'round', 'saves', 'selected', 'team_a_score', 'team_h_score', 'threat', 'total_points', 'transfers_balance', 'transfers_in', 'transfers_out', 'value', 'was_home', 'yellow_cards', 'GW', 'season', 'expected_assists', 'expected_goal_involvements', 'expected_goals', 'expected_goals_conceded', 'starts', 'modified', 'team_id']\n"
     ]
    },
    {
     "name": "stderr",
     "output_type": "stream",
     "text": [
      "C:\\Users\\pentester\\AppData\\Local\\Temp\\ipykernel_20144\\213209013.py:2: DtypeWarning: Columns (42) have mixed types. Specify dtype option on import or set low_memory=False.\n",
      "  preprocessed_historical_gw_zeroed = pd.read_csv('data/preprocessed_historical_gw_zeroed.csv')\n"
     ]
    }
   ],
   "source": [
    "import pandas as pd\n",
    "preprocessed_historical_gw_zeroed = pd.read_csv('data/preprocessed_historical_gw_zeroed.csv')\n",
    "print(\"Available columns for preprocessed_historical_gw_zeroed:\", preprocessed_historical_gw_zeroed.columns.tolist())"
   ]
  },
  {
   "cell_type": "code",
   "execution_count": 2,
   "id": "cd819bb8-509d-43ea-b74f-02e2f49d1a78",
   "metadata": {},
   "outputs": [
    {
     "name": "stderr",
     "output_type": "stream",
     "text": [
      "C:\\Users\\pentester\\projects\\fplsolver\\fplsolver\\feature_engineering.py:127: DtypeWarning: Columns (42) have mixed types. Specify dtype option on import or set low_memory=False.\n",
      "  df = pd.read_csv('data/preprocessed_historical_gw_zeroed.csv')\n"
     ]
    },
    {
     "ename": "ValueError",
     "evalue": "You are trying to merge on int64 and object columns for key 'opponent_team'. If you wish to proceed you should use pd.concat",
     "output_type": "error",
     "traceback": [
      "\u001b[1;31m---------------------------------------------------------------------------\u001b[0m",
      "\u001b[1;31mValueError\u001b[0m                                Traceback (most recent call last)",
      "File \u001b[1;32m~\\projects\\fplsolver\\fplsolver\\feature_engineering.py:130\u001b[0m\n\u001b[0;32m    127\u001b[0m df \u001b[38;5;241m=\u001b[39m pd\u001b[38;5;241m.\u001b[39mread_csv(\u001b[38;5;124m'\u001b[39m\u001b[38;5;124mdata/preprocessed_historical_gw_zeroed.csv\u001b[39m\u001b[38;5;124m'\u001b[39m)\n\u001b[0;32m    129\u001b[0m \u001b[38;5;66;03m# Add features\u001b[39;00m\n\u001b[1;32m--> 130\u001b[0m df_with_features \u001b[38;5;241m=\u001b[39m add_features(df)\n\u001b[0;32m    132\u001b[0m \u001b[38;5;66;03m# Inspect the result\u001b[39;00m\n\u001b[0;32m    133\u001b[0m \u001b[38;5;28mprint\u001b[39m(df_with_features\u001b[38;5;241m.\u001b[39mhead())\n",
      "File \u001b[1;32m~\\projects\\fplsolver\\fplsolver\\feature_engineering.py:69\u001b[0m, in \u001b[0;36madd_features\u001b[1;34m(df)\u001b[0m\n\u001b[0;32m     65\u001b[0m opponent_df \u001b[38;5;241m=\u001b[39m team_df[[\u001b[38;5;124m'\u001b[39m\u001b[38;5;124mseason\u001b[39m\u001b[38;5;124m'\u001b[39m, \u001b[38;5;124m'\u001b[39m\u001b[38;5;124mGW\u001b[39m\u001b[38;5;124m'\u001b[39m, \u001b[38;5;124m'\u001b[39m\u001b[38;5;124mteam\u001b[39m\u001b[38;5;124m'\u001b[39m, \u001b[38;5;124m'\u001b[39m\u001b[38;5;124mteam_goals_conceded_per_game\u001b[39m\u001b[38;5;124m'\u001b[39m]]\u001b[38;5;241m.\u001b[39mrename(\n\u001b[0;32m     66\u001b[0m     columns\u001b[38;5;241m=\u001b[39m{\u001b[38;5;124m'\u001b[39m\u001b[38;5;124mteam\u001b[39m\u001b[38;5;124m'\u001b[39m: \u001b[38;5;124m'\u001b[39m\u001b[38;5;124mopponent_team\u001b[39m\u001b[38;5;124m'\u001b[39m, \u001b[38;5;124m'\u001b[39m\u001b[38;5;124mteam_goals_conceded_per_game\u001b[39m\u001b[38;5;124m'\u001b[39m: \u001b[38;5;124m'\u001b[39m\u001b[38;5;124mopponent_xgc_per_game\u001b[39m\u001b[38;5;124m'\u001b[39m})\n\u001b[0;32m     68\u001b[0m \u001b[38;5;66;03m# Merge opponent features\u001b[39;00m\n\u001b[1;32m---> 69\u001b[0m df \u001b[38;5;241m=\u001b[39m df\u001b[38;5;241m.\u001b[39mmerge(opponent_df[[\u001b[38;5;124m'\u001b[39m\u001b[38;5;124mseason\u001b[39m\u001b[38;5;124m'\u001b[39m, \u001b[38;5;124m'\u001b[39m\u001b[38;5;124mGW\u001b[39m\u001b[38;5;124m'\u001b[39m, \u001b[38;5;124m'\u001b[39m\u001b[38;5;124mopponent_team\u001b[39m\u001b[38;5;124m'\u001b[39m, \u001b[38;5;124m'\u001b[39m\u001b[38;5;124mopponent_xgc_per_game\u001b[39m\u001b[38;5;124m'\u001b[39m]],\n\u001b[0;32m     70\u001b[0m               on\u001b[38;5;241m=\u001b[39m[\u001b[38;5;124m'\u001b[39m\u001b[38;5;124mseason\u001b[39m\u001b[38;5;124m'\u001b[39m, \u001b[38;5;124m'\u001b[39m\u001b[38;5;124mGW\u001b[39m\u001b[38;5;124m'\u001b[39m, \u001b[38;5;124m'\u001b[39m\u001b[38;5;124mopponent_team\u001b[39m\u001b[38;5;124m'\u001b[39m], how\u001b[38;5;241m=\u001b[39m\u001b[38;5;124m'\u001b[39m\u001b[38;5;124mleft\u001b[39m\u001b[38;5;124m'\u001b[39m)\n\u001b[0;32m     72\u001b[0m \u001b[38;5;66;03m# --- Player-Level Features ---\u001b[39;00m\n\u001b[0;32m     73\u001b[0m \u001b[38;5;66;03m# Exponentially Weighted Moving Average (EWMA) for player points\u001b[39;00m\n\u001b[0;32m     74\u001b[0m df[\u001b[38;5;124m'\u001b[39m\u001b[38;5;124mplayer_points_ewma\u001b[39m\u001b[38;5;124m'\u001b[39m] \u001b[38;5;241m=\u001b[39m (df\u001b[38;5;241m.\u001b[39mgroupby([\u001b[38;5;124m'\u001b[39m\u001b[38;5;124mseason\u001b[39m\u001b[38;5;124m'\u001b[39m, \u001b[38;5;124m'\u001b[39m\u001b[38;5;124melement\u001b[39m\u001b[38;5;124m'\u001b[39m])[\u001b[38;5;124m'\u001b[39m\u001b[38;5;124mtotal_points\u001b[39m\u001b[38;5;124m'\u001b[39m]\n\u001b[0;32m     75\u001b[0m                            \u001b[38;5;241m.\u001b[39mtransform(\u001b[38;5;28;01mlambda\u001b[39;00m x: x\u001b[38;5;241m.\u001b[39mshift(\u001b[38;5;241m1\u001b[39m)\u001b[38;5;241m.\u001b[39mewm(span\u001b[38;5;241m=\u001b[39m\u001b[38;5;241m5\u001b[39m, adjust\u001b[38;5;241m=\u001b[39m\u001b[38;5;28;01mFalse\u001b[39;00m)\u001b[38;5;241m.\u001b[39mmean()))\n",
      "File \u001b[1;32m~\\anaconda3\\Lib\\site-packages\\pandas\\core\\frame.py:10832\u001b[0m, in \u001b[0;36mDataFrame.merge\u001b[1;34m(self, right, how, on, left_on, right_on, left_index, right_index, sort, suffixes, copy, indicator, validate)\u001b[0m\n\u001b[0;32m  10813\u001b[0m \u001b[38;5;129m@Substitution\u001b[39m(\u001b[38;5;124m\"\u001b[39m\u001b[38;5;124m\"\u001b[39m)\n\u001b[0;32m  10814\u001b[0m \u001b[38;5;129m@Appender\u001b[39m(_merge_doc, indents\u001b[38;5;241m=\u001b[39m\u001b[38;5;241m2\u001b[39m)\n\u001b[0;32m  10815\u001b[0m \u001b[38;5;28;01mdef\u001b[39;00m \u001b[38;5;21mmerge\u001b[39m(\n\u001b[1;32m   (...)\u001b[0m\n\u001b[0;32m  10828\u001b[0m     validate: MergeValidate \u001b[38;5;241m|\u001b[39m \u001b[38;5;28;01mNone\u001b[39;00m \u001b[38;5;241m=\u001b[39m \u001b[38;5;28;01mNone\u001b[39;00m,\n\u001b[0;32m  10829\u001b[0m ) \u001b[38;5;241m-\u001b[39m\u001b[38;5;241m>\u001b[39m DataFrame:\n\u001b[0;32m  10830\u001b[0m     \u001b[38;5;28;01mfrom\u001b[39;00m \u001b[38;5;21;01mpandas\u001b[39;00m\u001b[38;5;21;01m.\u001b[39;00m\u001b[38;5;21;01mcore\u001b[39;00m\u001b[38;5;21;01m.\u001b[39;00m\u001b[38;5;21;01mreshape\u001b[39;00m\u001b[38;5;21;01m.\u001b[39;00m\u001b[38;5;21;01mmerge\u001b[39;00m \u001b[38;5;28;01mimport\u001b[39;00m merge\n\u001b[1;32m> 10832\u001b[0m     \u001b[38;5;28;01mreturn\u001b[39;00m merge(\n\u001b[0;32m  10833\u001b[0m         \u001b[38;5;28mself\u001b[39m,\n\u001b[0;32m  10834\u001b[0m         right,\n\u001b[0;32m  10835\u001b[0m         how\u001b[38;5;241m=\u001b[39mhow,\n\u001b[0;32m  10836\u001b[0m         on\u001b[38;5;241m=\u001b[39mon,\n\u001b[0;32m  10837\u001b[0m         left_on\u001b[38;5;241m=\u001b[39mleft_on,\n\u001b[0;32m  10838\u001b[0m         right_on\u001b[38;5;241m=\u001b[39mright_on,\n\u001b[0;32m  10839\u001b[0m         left_index\u001b[38;5;241m=\u001b[39mleft_index,\n\u001b[0;32m  10840\u001b[0m         right_index\u001b[38;5;241m=\u001b[39mright_index,\n\u001b[0;32m  10841\u001b[0m         sort\u001b[38;5;241m=\u001b[39msort,\n\u001b[0;32m  10842\u001b[0m         suffixes\u001b[38;5;241m=\u001b[39msuffixes,\n\u001b[0;32m  10843\u001b[0m         copy\u001b[38;5;241m=\u001b[39mcopy,\n\u001b[0;32m  10844\u001b[0m         indicator\u001b[38;5;241m=\u001b[39mindicator,\n\u001b[0;32m  10845\u001b[0m         validate\u001b[38;5;241m=\u001b[39mvalidate,\n\u001b[0;32m  10846\u001b[0m     )\n",
      "File \u001b[1;32m~\\anaconda3\\Lib\\site-packages\\pandas\\core\\reshape\\merge.py:170\u001b[0m, in \u001b[0;36mmerge\u001b[1;34m(left, right, how, on, left_on, right_on, left_index, right_index, sort, suffixes, copy, indicator, validate)\u001b[0m\n\u001b[0;32m    155\u001b[0m     \u001b[38;5;28;01mreturn\u001b[39;00m _cross_merge(\n\u001b[0;32m    156\u001b[0m         left_df,\n\u001b[0;32m    157\u001b[0m         right_df,\n\u001b[1;32m   (...)\u001b[0m\n\u001b[0;32m    167\u001b[0m         copy\u001b[38;5;241m=\u001b[39mcopy,\n\u001b[0;32m    168\u001b[0m     )\n\u001b[0;32m    169\u001b[0m \u001b[38;5;28;01melse\u001b[39;00m:\n\u001b[1;32m--> 170\u001b[0m     op \u001b[38;5;241m=\u001b[39m _MergeOperation(\n\u001b[0;32m    171\u001b[0m         left_df,\n\u001b[0;32m    172\u001b[0m         right_df,\n\u001b[0;32m    173\u001b[0m         how\u001b[38;5;241m=\u001b[39mhow,\n\u001b[0;32m    174\u001b[0m         on\u001b[38;5;241m=\u001b[39mon,\n\u001b[0;32m    175\u001b[0m         left_on\u001b[38;5;241m=\u001b[39mleft_on,\n\u001b[0;32m    176\u001b[0m         right_on\u001b[38;5;241m=\u001b[39mright_on,\n\u001b[0;32m    177\u001b[0m         left_index\u001b[38;5;241m=\u001b[39mleft_index,\n\u001b[0;32m    178\u001b[0m         right_index\u001b[38;5;241m=\u001b[39mright_index,\n\u001b[0;32m    179\u001b[0m         sort\u001b[38;5;241m=\u001b[39msort,\n\u001b[0;32m    180\u001b[0m         suffixes\u001b[38;5;241m=\u001b[39msuffixes,\n\u001b[0;32m    181\u001b[0m         indicator\u001b[38;5;241m=\u001b[39mindicator,\n\u001b[0;32m    182\u001b[0m         validate\u001b[38;5;241m=\u001b[39mvalidate,\n\u001b[0;32m    183\u001b[0m     )\n\u001b[0;32m    184\u001b[0m     \u001b[38;5;28;01mreturn\u001b[39;00m op\u001b[38;5;241m.\u001b[39mget_result(copy\u001b[38;5;241m=\u001b[39mcopy)\n",
      "File \u001b[1;32m~\\anaconda3\\Lib\\site-packages\\pandas\\core\\reshape\\merge.py:807\u001b[0m, in \u001b[0;36m_MergeOperation.__init__\u001b[1;34m(self, left, right, how, on, left_on, right_on, left_index, right_index, sort, suffixes, indicator, validate)\u001b[0m\n\u001b[0;32m    803\u001b[0m \u001b[38;5;28mself\u001b[39m\u001b[38;5;241m.\u001b[39m_validate_tolerance(\u001b[38;5;28mself\u001b[39m\u001b[38;5;241m.\u001b[39mleft_join_keys)\n\u001b[0;32m    805\u001b[0m \u001b[38;5;66;03m# validate the merge keys dtypes. We may need to coerce\u001b[39;00m\n\u001b[0;32m    806\u001b[0m \u001b[38;5;66;03m# to avoid incompatible dtypes\u001b[39;00m\n\u001b[1;32m--> 807\u001b[0m \u001b[38;5;28mself\u001b[39m\u001b[38;5;241m.\u001b[39m_maybe_coerce_merge_keys()\n\u001b[0;32m    809\u001b[0m \u001b[38;5;66;03m# If argument passed to validate,\u001b[39;00m\n\u001b[0;32m    810\u001b[0m \u001b[38;5;66;03m# check if columns specified as unique\u001b[39;00m\n\u001b[0;32m    811\u001b[0m \u001b[38;5;66;03m# are in fact unique.\u001b[39;00m\n\u001b[0;32m    812\u001b[0m \u001b[38;5;28;01mif\u001b[39;00m validate \u001b[38;5;129;01mis\u001b[39;00m \u001b[38;5;129;01mnot\u001b[39;00m \u001b[38;5;28;01mNone\u001b[39;00m:\n",
      "File \u001b[1;32m~\\anaconda3\\Lib\\site-packages\\pandas\\core\\reshape\\merge.py:1508\u001b[0m, in \u001b[0;36m_MergeOperation._maybe_coerce_merge_keys\u001b[1;34m(self)\u001b[0m\n\u001b[0;32m   1502\u001b[0m     \u001b[38;5;66;03m# unless we are merging non-string-like with string-like\u001b[39;00m\n\u001b[0;32m   1503\u001b[0m     \u001b[38;5;28;01melif\u001b[39;00m (\n\u001b[0;32m   1504\u001b[0m         inferred_left \u001b[38;5;129;01min\u001b[39;00m string_types \u001b[38;5;129;01mand\u001b[39;00m inferred_right \u001b[38;5;129;01mnot\u001b[39;00m \u001b[38;5;129;01min\u001b[39;00m string_types\n\u001b[0;32m   1505\u001b[0m     ) \u001b[38;5;129;01mor\u001b[39;00m (\n\u001b[0;32m   1506\u001b[0m         inferred_right \u001b[38;5;129;01min\u001b[39;00m string_types \u001b[38;5;129;01mand\u001b[39;00m inferred_left \u001b[38;5;129;01mnot\u001b[39;00m \u001b[38;5;129;01min\u001b[39;00m string_types\n\u001b[0;32m   1507\u001b[0m     ):\n\u001b[1;32m-> 1508\u001b[0m         \u001b[38;5;28;01mraise\u001b[39;00m \u001b[38;5;167;01mValueError\u001b[39;00m(msg)\n\u001b[0;32m   1510\u001b[0m \u001b[38;5;66;03m# datetimelikes must match exactly\u001b[39;00m\n\u001b[0;32m   1511\u001b[0m \u001b[38;5;28;01melif\u001b[39;00m needs_i8_conversion(lk\u001b[38;5;241m.\u001b[39mdtype) \u001b[38;5;129;01mand\u001b[39;00m \u001b[38;5;129;01mnot\u001b[39;00m needs_i8_conversion(rk\u001b[38;5;241m.\u001b[39mdtype):\n",
      "\u001b[1;31mValueError\u001b[0m: You are trying to merge on int64 and object columns for key 'opponent_team'. If you wish to proceed you should use pd.concat"
     ]
    }
   ],
   "source": [
    "%run feature_engineering.py"
   ]
  },
  {
   "cell_type": "code",
   "execution_count": 3,
   "id": "26f5cc5f-327a-4574-bb8b-ab80416413ee",
   "metadata": {},
   "outputs": [
    {
     "name": "stdout",
     "output_type": "stream",
     "text": [
      "          name position     team   xP  assists  bonus  bps  clean_sheets  \\\n",
      "0  Mesut Ãzil      MID  Arsenal  3.4        0      0    0             0   \n",
      "1  Mesut Ãzil      MID  Arsenal  0.5        0      0    0             0   \n",
      "2  Mesut Ãzil      MID  Arsenal -0.5        0      0    0             0   \n",
      "3  Mesut Ãzil      MID  Arsenal -0.5        0      0    0             0   \n",
      "4  Mesut Ãzil      MID  Arsenal  0.5        0      0    0             0   \n",
      "\n",
      "   creativity  element  ...  form_vs_opponent  player_points_season_avg  \\\n",
      "0         0.0        1  ...          0.000000                       0.0   \n",
      "1         0.0        1  ...         -0.473834                       0.0   \n",
      "2         0.0        1  ...         -0.473834                       0.0   \n",
      "3         0.0        1  ...         -0.473834                       0.0   \n",
      "4         0.0        1  ...         -0.473834                       0.0   \n",
      "\n",
      "   form_trend  points_vs_avg  pos_AM pos_DEF  pos_FWD  pos_GK  pos_GKP  \\\n",
      "0     0.00000       0.000000   False   False    False   False    False   \n",
      "1     0.01476       0.007893   False   False    False   False    False   \n",
      "2     0.01476       0.007893   False   False    False   False    False   \n",
      "3     0.01476       0.007893   False   False    False   False    False   \n",
      "4     0.01476       0.007893   False   False    False   False    False   \n",
      "\n",
      "   pos_MID  \n",
      "0     True  \n",
      "1     True  \n",
      "2     True  \n",
      "3     True  \n",
      "4     True  \n",
      "\n",
      "[5 rows x 64 columns]\n",
      "New columns added: {'pos_AM', 'pos_GKP', 'fixture_difficulty', 'opponent_xgc_per_game', 'player_points_ewma', 'is_home', 'team_win_streak', 'goal_involvement_rate', 'team_goals_conceded_per_game', 'clean_sheet_prob', 'pos_GK', 'pos_DEF', 'pos_MID', 'pos_FWD', 'player_points_season_avg', 'form_vs_opponent', 'team_goals_scored_per_game', 'form_trend', 'points_vs_avg', 'team_points'}\n"
     ]
    }
   ],
   "source": [
    "%run feature_engineering.py"
   ]
  },
  {
   "cell_type": "code",
   "execution_count": 4,
   "id": "dfdf2253-2b1b-4bc0-882b-9b70963b3e30",
   "metadata": {},
   "outputs": [
    {
     "name": "stdout",
     "output_type": "stream",
     "text": [
      "Feature engineered data saved to data/feature_engineered_data.csv\n",
      "          name position     team   xP  assists  bonus  bps  clean_sheets  \\\n",
      "0  Mesut Ãzil      MID  Arsenal  3.4        0      0    0             0   \n",
      "1  Mesut Ãzil      MID  Arsenal  0.5        0      0    0             0   \n",
      "2  Mesut Ãzil      MID  Arsenal -0.5        0      0    0             0   \n",
      "3  Mesut Ãzil      MID  Arsenal -0.5        0      0    0             0   \n",
      "4  Mesut Ãzil      MID  Arsenal  0.5        0      0    0             0   \n",
      "\n",
      "   creativity  element  ...  form_vs_opponent  player_points_season_avg  \\\n",
      "0         0.0        1  ...          0.000000                       0.0   \n",
      "1         0.0        1  ...         -0.473834                       0.0   \n",
      "2         0.0        1  ...         -0.473834                       0.0   \n",
      "3         0.0        1  ...         -0.473834                       0.0   \n",
      "4         0.0        1  ...         -0.473834                       0.0   \n",
      "\n",
      "   form_trend  points_vs_avg  pos_AM pos_DEF  pos_FWD  pos_GK  pos_GKP  \\\n",
      "0     0.00000       0.000000   False   False    False   False    False   \n",
      "1     0.01476       0.007893   False   False    False   False    False   \n",
      "2     0.01476       0.007893   False   False    False   False    False   \n",
      "3     0.01476       0.007893   False   False    False   False    False   \n",
      "4     0.01476       0.007893   False   False    False   False    False   \n",
      "\n",
      "   pos_MID  \n",
      "0     True  \n",
      "1     True  \n",
      "2     True  \n",
      "3     True  \n",
      "4     True  \n",
      "\n",
      "[5 rows x 64 columns]\n",
      "New columns added: {'pos_AM', 'pos_GKP', 'fixture_difficulty', 'opponent_xgc_per_game', 'player_points_ewma', 'is_home', 'team_win_streak', 'goal_involvement_rate', 'team_goals_conceded_per_game', 'clean_sheet_prob', 'pos_GK', 'pos_DEF', 'pos_MID', 'pos_FWD', 'player_points_season_avg', 'form_vs_opponent', 'team_goals_scored_per_game', 'form_trend', 'points_vs_avg', 'team_points'}\n"
     ]
    }
   ],
   "source": [
    "%run feature_engineering.py"
   ]
  },
  {
   "cell_type": "code",
   "execution_count": 5,
   "id": "90a5e2f5-14f5-47c6-98d6-4bddc40e27ba",
   "metadata": {},
   "outputs": [
    {
     "name": "stdout",
     "output_type": "stream",
     "text": [
      "Checking for duplicates...\n",
      "Number of exact duplicate rows: 320\n",
      "Number of duplicate rows based on key columns: 9991\n",
      "Duplicate rows found based on key columns. Inspecting...\n",
      "                    name position     team   xP  assists  bonus  bps  \\\n",
      "3            Mesut Ãzil      MID  Arsenal -0.5        0      0    0   \n",
      "12           Mesut Ãzil      MID  Arsenal  0.0        0      0    0   \n",
      "19           Mesut Ãzil      MID  Arsenal  0.0        0      0    0   \n",
      "31           Mesut Ãzil      MID  Arsenal  0.0        0      0    0   \n",
      "34           Mesut Ãzil      MID  Arsenal  0.0        0      0    0   \n",
      "...                  ...      ...      ...  ...      ...    ...  ...   \n",
      "129332  Chido Obi-Martin      FWD  Man Utd  0.3        0      0    0   \n",
      "129337  Tyler Fredricson      DEF  Man Utd  0.0        0      0    0   \n",
      "129342    Jack Moorhouse      MID  Man Utd  0.0        0      0    0   \n",
      "129347        Sékou Koné      MID  Man Utd  0.0        0      0    0   \n",
      "129360    Hubert Graczyk       GK  Man Utd  0.0        0      0    0   \n",
      "\n",
      "        clean_sheets  creativity  element  ...  form_vs_opponent  \\\n",
      "3                  0         0.0        1  ...         -0.473834   \n",
      "12                 0         0.0        1  ...         -0.473834   \n",
      "19                 0         0.0        1  ...         -0.473834   \n",
      "31                 0         0.0        1  ...         -0.473834   \n",
      "34                 0         0.0        1  ...         -0.473834   \n",
      "...              ...         ...      ...  ...               ...   \n",
      "129332             0         0.0      776  ...         -0.473834   \n",
      "129337             0         0.0      777  ...         -0.473834   \n",
      "129342             0         0.0      778  ...         -0.473834   \n",
      "129347             0         0.0      779  ...         -0.473834   \n",
      "129360             0         0.0      783  ...         -0.473834   \n",
      "\n",
      "        player_points_season_avg  form_trend  points_vs_avg  pos_AM pos_DEF  \\\n",
      "3                            0.0     0.01476       0.007893   False   False   \n",
      "12                           0.0     0.01476       0.007893   False   False   \n",
      "19                           0.0     0.01476       0.007893   False   False   \n",
      "31                           0.0     0.01476       0.007893   False   False   \n",
      "34                           0.0     0.01476       0.007893   False   False   \n",
      "...                          ...         ...            ...     ...     ...   \n",
      "129332                       0.0     0.01476       0.007893   False   False   \n",
      "129337                       0.0     0.01476       0.007893   False    True   \n",
      "129342                       0.0     0.01476       0.007893   False   False   \n",
      "129347                       0.0     0.01476       0.007893   False   False   \n",
      "129360                       0.0     0.01476       0.007893   False   False   \n",
      "\n",
      "        pos_FWD  pos_GK  pos_GKP  pos_MID  \n",
      "3         False   False    False     True  \n",
      "12        False   False    False     True  \n",
      "19        False   False    False     True  \n",
      "31        False   False    False     True  \n",
      "34        False   False    False     True  \n",
      "...         ...     ...      ...      ...  \n",
      "129332     True   False    False    False  \n",
      "129337    False   False    False    False  \n",
      "129342    False   False    False     True  \n",
      "129347    False   False    False     True  \n",
      "129360    False    True    False    False  \n",
      "\n",
      "[9991 rows x 64 columns]\n",
      "Feature engineered data saved to data/feature_engineered_data.csv\n",
      "          name position     team   xP  assists  bonus  bps  clean_sheets  \\\n",
      "0  Mesut Ãzil      MID  Arsenal  3.4        0      0    0             0   \n",
      "1  Mesut Ãzil      MID  Arsenal  0.5        0      0    0             0   \n",
      "2  Mesut Ãzil      MID  Arsenal -0.5        0      0    0             0   \n",
      "3  Mesut Ãzil      MID  Arsenal -0.5        0      0    0             0   \n",
      "4  Mesut Ãzil      MID  Arsenal  0.5        0      0    0             0   \n",
      "\n",
      "   creativity  element  ...  form_vs_opponent  player_points_season_avg  \\\n",
      "0         0.0        1  ...          0.000000                       0.0   \n",
      "1         0.0        1  ...         -0.473834                       0.0   \n",
      "2         0.0        1  ...         -0.473834                       0.0   \n",
      "3         0.0        1  ...         -0.473834                       0.0   \n",
      "4         0.0        1  ...         -0.473834                       0.0   \n",
      "\n",
      "   form_trend  points_vs_avg  pos_AM pos_DEF  pos_FWD  pos_GK  pos_GKP  \\\n",
      "0     0.00000       0.000000   False   False    False   False    False   \n",
      "1     0.01476       0.007893   False   False    False   False    False   \n",
      "2     0.01476       0.007893   False   False    False   False    False   \n",
      "3     0.01476       0.007893   False   False    False   False    False   \n",
      "4     0.01476       0.007893   False   False    False   False    False   \n",
      "\n",
      "   pos_MID  \n",
      "0     True  \n",
      "1     True  \n",
      "2     True  \n",
      "3     True  \n",
      "4     True  \n",
      "\n",
      "[5 rows x 64 columns]\n",
      "New columns added: {'pos_AM', 'pos_GKP', 'fixture_difficulty', 'opponent_xgc_per_game', 'player_points_ewma', 'is_home', 'team_win_streak', 'goal_involvement_rate', 'team_goals_conceded_per_game', 'clean_sheet_prob', 'pos_GK', 'pos_DEF', 'pos_MID', 'pos_FWD', 'player_points_season_avg', 'form_vs_opponent', 'team_goals_scored_per_game', 'form_trend', 'points_vs_avg', 'team_points'}\n"
     ]
    }
   ],
   "source": [
    "%run feature_engineering.py"
   ]
  },
  {
   "cell_type": "code",
   "execution_count": 6,
   "id": "ad050fe4-c94c-4013-8bb2-bd8af1b7d271",
   "metadata": {},
   "outputs": [
    {
     "name": "stdout",
     "output_type": "stream",
     "text": [
      "Duplicates in original data: 0\n",
      "Removed 0 duplicate rows based on ['season', 'GW', 'element']\n",
      "Duplicates after feature engineering: 9991\n",
      "Feature engineered data saved to data/feature_engineered_data.csv\n",
      "          name position     team   xP  assists  bonus  bps  clean_sheets  \\\n",
      "0  Mesut Ãzil      MID  Arsenal  3.4        0      0    0             0   \n",
      "1  Mesut Ãzil      MID  Arsenal  0.5        0      0    0             0   \n",
      "2  Mesut Ãzil      MID  Arsenal -0.5        0      0    0             0   \n",
      "3  Mesut Ãzil      MID  Arsenal -0.5        0      0    0             0   \n",
      "4  Mesut Ãzil      MID  Arsenal  0.5        0      0    0             0   \n",
      "\n",
      "   creativity  element  ...  form_vs_opponent  player_points_season_avg  \\\n",
      "0         0.0        1  ...          0.000000                       0.0   \n",
      "1         0.0        1  ...         -0.473834                       0.0   \n",
      "2         0.0        1  ...         -0.473834                       0.0   \n",
      "3         0.0        1  ...         -0.473834                       0.0   \n",
      "4         0.0        1  ...         -0.473834                       0.0   \n",
      "\n",
      "   form_trend  points_vs_avg  pos_AM pos_DEF  pos_FWD  pos_GK  pos_GKP  \\\n",
      "0     0.00000       0.000000   False   False    False   False    False   \n",
      "1     0.01476       0.007893   False   False    False   False    False   \n",
      "2     0.01476       0.007893   False   False    False   False    False   \n",
      "3     0.01476       0.007893   False   False    False   False    False   \n",
      "4     0.01476       0.007893   False   False    False   False    False   \n",
      "\n",
      "   pos_MID  \n",
      "0     True  \n",
      "1     True  \n",
      "2     True  \n",
      "3     True  \n",
      "4     True  \n",
      "\n",
      "[5 rows x 64 columns]\n",
      "New columns added: {'pos_AM', 'pos_GKP', 'fixture_difficulty', 'opponent_xgc_per_game', 'player_points_ewma', 'is_home', 'team_win_streak', 'goal_involvement_rate', 'team_goals_conceded_per_game', 'clean_sheet_prob', 'pos_GK', 'pos_DEF', 'pos_MID', 'pos_FWD', 'player_points_season_avg', 'form_vs_opponent', 'team_goals_scored_per_game', 'form_trend', 'points_vs_avg', 'team_points'}\n"
     ]
    }
   ],
   "source": [
    "%run feature_engineering.py"
   ]
  },
  {
   "cell_type": "code",
   "execution_count": 7,
   "id": "976943ca-a8cc-4b05-ae0d-3003d3dfb89c",
   "metadata": {},
   "outputs": [
    {
     "name": "stdout",
     "output_type": "stream",
     "text": [
      "Duplicates in original data: 0\n",
      "Removed 0 duplicate rows based on ['season', 'GW', 'element']\n"
     ]
    },
    {
     "ename": "ValueError",
     "evalue": "You are trying to merge on int64 and object columns for key 'opponent_team'. If you wish to proceed you should use pd.concat",
     "output_type": "error",
     "traceback": [
      "\u001b[1;31m---------------------------------------------------------------------------\u001b[0m",
      "\u001b[1;31mValueError\u001b[0m                                Traceback (most recent call last)",
      "File \u001b[1;32m~\\projects\\fplsolver\\fplsolver\\feature_engineering.py:149\u001b[0m\n\u001b[0;32m      0\u001b[0m <Error retrieving source code with stack_data see ipython/ipython#13598>\n",
      "File \u001b[1;32m~\\projects\\fplsolver\\fplsolver\\feature_engineering.py:81\u001b[0m, in \u001b[0;36madd_features\u001b[1;34m(df)\u001b[0m\n\u001b[0;32m     77\u001b[0m # --- Advanced Features ---\n\u001b[0;32m     78\u001b[0m # Fixture difficulty (using opponent's goals conceded as proxy for xGC)\n\u001b[0;32m     79\u001b[0m df['fixture_difficulty'] = df['opponent_xgc_per_game'].fillna(df['opponent_xgc_per_game'].mean())\n\u001b[1;32m---> 81\u001b[0m # Home/away indicator\n\u001b[0;32m     82\u001b[0m df['is_home'] = df['was_home'].astype(int)\n\u001b[0;32m     84\u001b[0m # Clean sheet probability (simplified using team goals conceded)\n",
      "File \u001b[1;32m~\\anaconda3\\Lib\\site-packages\\pandas\\core\\frame.py:10832\u001b[0m, in \u001b[0;36mDataFrame.merge\u001b[1;34m(self, right, how, on, left_on, right_on, left_index, right_index, sort, suffixes, copy, indicator, validate)\u001b[0m\n\u001b[0;32m  10813\u001b[0m \u001b[38;5;129m@Substitution\u001b[39m(\u001b[38;5;124m\"\u001b[39m\u001b[38;5;124m\"\u001b[39m)\n\u001b[0;32m  10814\u001b[0m \u001b[38;5;129m@Appender\u001b[39m(_merge_doc, indents\u001b[38;5;241m=\u001b[39m\u001b[38;5;241m2\u001b[39m)\n\u001b[0;32m  10815\u001b[0m \u001b[38;5;28;01mdef\u001b[39;00m \u001b[38;5;21mmerge\u001b[39m(\n\u001b[1;32m   (...)\u001b[0m\n\u001b[0;32m  10828\u001b[0m     validate: MergeValidate \u001b[38;5;241m|\u001b[39m \u001b[38;5;28;01mNone\u001b[39;00m \u001b[38;5;241m=\u001b[39m \u001b[38;5;28;01mNone\u001b[39;00m,\n\u001b[0;32m  10829\u001b[0m ) \u001b[38;5;241m-\u001b[39m\u001b[38;5;241m>\u001b[39m DataFrame:\n\u001b[0;32m  10830\u001b[0m     \u001b[38;5;28;01mfrom\u001b[39;00m \u001b[38;5;21;01mpandas\u001b[39;00m\u001b[38;5;21;01m.\u001b[39;00m\u001b[38;5;21;01mcore\u001b[39;00m\u001b[38;5;21;01m.\u001b[39;00m\u001b[38;5;21;01mreshape\u001b[39;00m\u001b[38;5;21;01m.\u001b[39;00m\u001b[38;5;21;01mmerge\u001b[39;00m \u001b[38;5;28;01mimport\u001b[39;00m merge\n\u001b[1;32m> 10832\u001b[0m     \u001b[38;5;28;01mreturn\u001b[39;00m merge(\n\u001b[0;32m  10833\u001b[0m         \u001b[38;5;28mself\u001b[39m,\n\u001b[0;32m  10834\u001b[0m         right,\n\u001b[0;32m  10835\u001b[0m         how\u001b[38;5;241m=\u001b[39mhow,\n\u001b[0;32m  10836\u001b[0m         on\u001b[38;5;241m=\u001b[39mon,\n\u001b[0;32m  10837\u001b[0m         left_on\u001b[38;5;241m=\u001b[39mleft_on,\n\u001b[0;32m  10838\u001b[0m         right_on\u001b[38;5;241m=\u001b[39mright_on,\n\u001b[0;32m  10839\u001b[0m         left_index\u001b[38;5;241m=\u001b[39mleft_index,\n\u001b[0;32m  10840\u001b[0m         right_index\u001b[38;5;241m=\u001b[39mright_index,\n\u001b[0;32m  10841\u001b[0m         sort\u001b[38;5;241m=\u001b[39msort,\n\u001b[0;32m  10842\u001b[0m         suffixes\u001b[38;5;241m=\u001b[39msuffixes,\n\u001b[0;32m  10843\u001b[0m         copy\u001b[38;5;241m=\u001b[39mcopy,\n\u001b[0;32m  10844\u001b[0m         indicator\u001b[38;5;241m=\u001b[39mindicator,\n\u001b[0;32m  10845\u001b[0m         validate\u001b[38;5;241m=\u001b[39mvalidate,\n\u001b[0;32m  10846\u001b[0m     )\n",
      "File \u001b[1;32m~\\anaconda3\\Lib\\site-packages\\pandas\\core\\reshape\\merge.py:170\u001b[0m, in \u001b[0;36mmerge\u001b[1;34m(left, right, how, on, left_on, right_on, left_index, right_index, sort, suffixes, copy, indicator, validate)\u001b[0m\n\u001b[0;32m    155\u001b[0m     \u001b[38;5;28;01mreturn\u001b[39;00m _cross_merge(\n\u001b[0;32m    156\u001b[0m         left_df,\n\u001b[0;32m    157\u001b[0m         right_df,\n\u001b[1;32m   (...)\u001b[0m\n\u001b[0;32m    167\u001b[0m         copy\u001b[38;5;241m=\u001b[39mcopy,\n\u001b[0;32m    168\u001b[0m     )\n\u001b[0;32m    169\u001b[0m \u001b[38;5;28;01melse\u001b[39;00m:\n\u001b[1;32m--> 170\u001b[0m     op \u001b[38;5;241m=\u001b[39m _MergeOperation(\n\u001b[0;32m    171\u001b[0m         left_df,\n\u001b[0;32m    172\u001b[0m         right_df,\n\u001b[0;32m    173\u001b[0m         how\u001b[38;5;241m=\u001b[39mhow,\n\u001b[0;32m    174\u001b[0m         on\u001b[38;5;241m=\u001b[39mon,\n\u001b[0;32m    175\u001b[0m         left_on\u001b[38;5;241m=\u001b[39mleft_on,\n\u001b[0;32m    176\u001b[0m         right_on\u001b[38;5;241m=\u001b[39mright_on,\n\u001b[0;32m    177\u001b[0m         left_index\u001b[38;5;241m=\u001b[39mleft_index,\n\u001b[0;32m    178\u001b[0m         right_index\u001b[38;5;241m=\u001b[39mright_index,\n\u001b[0;32m    179\u001b[0m         sort\u001b[38;5;241m=\u001b[39msort,\n\u001b[0;32m    180\u001b[0m         suffixes\u001b[38;5;241m=\u001b[39msuffixes,\n\u001b[0;32m    181\u001b[0m         indicator\u001b[38;5;241m=\u001b[39mindicator,\n\u001b[0;32m    182\u001b[0m         validate\u001b[38;5;241m=\u001b[39mvalidate,\n\u001b[0;32m    183\u001b[0m     )\n\u001b[0;32m    184\u001b[0m     \u001b[38;5;28;01mreturn\u001b[39;00m op\u001b[38;5;241m.\u001b[39mget_result(copy\u001b[38;5;241m=\u001b[39mcopy)\n",
      "File \u001b[1;32m~\\anaconda3\\Lib\\site-packages\\pandas\\core\\reshape\\merge.py:807\u001b[0m, in \u001b[0;36m_MergeOperation.__init__\u001b[1;34m(self, left, right, how, on, left_on, right_on, left_index, right_index, sort, suffixes, indicator, validate)\u001b[0m\n\u001b[0;32m    803\u001b[0m \u001b[38;5;28mself\u001b[39m\u001b[38;5;241m.\u001b[39m_validate_tolerance(\u001b[38;5;28mself\u001b[39m\u001b[38;5;241m.\u001b[39mleft_join_keys)\n\u001b[0;32m    805\u001b[0m \u001b[38;5;66;03m# validate the merge keys dtypes. We may need to coerce\u001b[39;00m\n\u001b[0;32m    806\u001b[0m \u001b[38;5;66;03m# to avoid incompatible dtypes\u001b[39;00m\n\u001b[1;32m--> 807\u001b[0m \u001b[38;5;28mself\u001b[39m\u001b[38;5;241m.\u001b[39m_maybe_coerce_merge_keys()\n\u001b[0;32m    809\u001b[0m \u001b[38;5;66;03m# If argument passed to validate,\u001b[39;00m\n\u001b[0;32m    810\u001b[0m \u001b[38;5;66;03m# check if columns specified as unique\u001b[39;00m\n\u001b[0;32m    811\u001b[0m \u001b[38;5;66;03m# are in fact unique.\u001b[39;00m\n\u001b[0;32m    812\u001b[0m \u001b[38;5;28;01mif\u001b[39;00m validate \u001b[38;5;129;01mis\u001b[39;00m \u001b[38;5;129;01mnot\u001b[39;00m \u001b[38;5;28;01mNone\u001b[39;00m:\n",
      "File \u001b[1;32m~\\anaconda3\\Lib\\site-packages\\pandas\\core\\reshape\\merge.py:1508\u001b[0m, in \u001b[0;36m_MergeOperation._maybe_coerce_merge_keys\u001b[1;34m(self)\u001b[0m\n\u001b[0;32m   1502\u001b[0m     \u001b[38;5;66;03m# unless we are merging non-string-like with string-like\u001b[39;00m\n\u001b[0;32m   1503\u001b[0m     \u001b[38;5;28;01melif\u001b[39;00m (\n\u001b[0;32m   1504\u001b[0m         inferred_left \u001b[38;5;129;01min\u001b[39;00m string_types \u001b[38;5;129;01mand\u001b[39;00m inferred_right \u001b[38;5;129;01mnot\u001b[39;00m \u001b[38;5;129;01min\u001b[39;00m string_types\n\u001b[0;32m   1505\u001b[0m     ) \u001b[38;5;129;01mor\u001b[39;00m (\n\u001b[0;32m   1506\u001b[0m         inferred_right \u001b[38;5;129;01min\u001b[39;00m string_types \u001b[38;5;129;01mand\u001b[39;00m inferred_left \u001b[38;5;129;01mnot\u001b[39;00m \u001b[38;5;129;01min\u001b[39;00m string_types\n\u001b[0;32m   1507\u001b[0m     ):\n\u001b[1;32m-> 1508\u001b[0m         \u001b[38;5;28;01mraise\u001b[39;00m \u001b[38;5;167;01mValueError\u001b[39;00m(msg)\n\u001b[0;32m   1510\u001b[0m \u001b[38;5;66;03m# datetimelikes must match exactly\u001b[39;00m\n\u001b[0;32m   1511\u001b[0m \u001b[38;5;28;01melif\u001b[39;00m needs_i8_conversion(lk\u001b[38;5;241m.\u001b[39mdtype) \u001b[38;5;129;01mand\u001b[39;00m \u001b[38;5;129;01mnot\u001b[39;00m needs_i8_conversion(rk\u001b[38;5;241m.\u001b[39mdtype):\n",
      "\u001b[1;31mValueError\u001b[0m: You are trying to merge on int64 and object columns for key 'opponent_team'. If you wish to proceed you should use pd.concat"
     ]
    }
   ],
   "source": [
    "%run feature_engineering.py"
   ]
  },
  {
   "cell_type": "code",
   "execution_count": 9,
   "id": "e7d40215-3c74-4b06-9c9b-75aa79a0ff02",
   "metadata": {},
   "outputs": [
    {
     "name": "stdout",
     "output_type": "stream",
     "text": [
      "Duplicates in original data: 0\n",
      "Removed 0 duplicate rows based on ['season', 'GW', 'element']\n",
      "Duplicates after feature engineering: 0\n",
      "Feature engineered data saved to data/feature_engineered_data.csv\n",
      "          name position     team   xP  assists  bonus  bps  clean_sheets  \\\n",
      "0  Mesut Ãzil      MID  Arsenal  3.4        0      0    0             0   \n",
      "1  Mesut Ãzil      MID  Arsenal  0.5        0      0    0             0   \n",
      "2  Mesut Ãzil      MID  Arsenal -0.5        0      0    0             0   \n",
      "3  Mesut Ãzil      MID  Arsenal  0.5        0      0    0             0   \n",
      "4  Mesut Ãzil      MID  Arsenal -0.5        0      0    0             0   \n",
      "\n",
      "   creativity  element  ...  form_vs_opponent  player_points_season_avg  \\\n",
      "0         0.0        1  ...          0.000000                       0.0   \n",
      "1         0.0        1  ...         -0.479098                       0.0   \n",
      "2         0.0        1  ...         -0.479098                       0.0   \n",
      "3         0.0        1  ...         -0.479098                       0.0   \n",
      "4         0.0        1  ...         -0.479098                       0.0   \n",
      "\n",
      "   form_trend  points_vs_avg  pos_AM pos_DEF  pos_FWD  pos_GK  pos_GKP  \\\n",
      "0    0.000000       0.000000   False   False    False   False    False   \n",
      "1    0.013604       0.007575   False   False    False   False    False   \n",
      "2    0.013604       0.007575   False   False    False   False    False   \n",
      "3    0.013604       0.007575   False   False    False   False    False   \n",
      "4    0.013604       0.007575   False   False    False   False    False   \n",
      "\n",
      "   pos_MID  \n",
      "0     True  \n",
      "1     True  \n",
      "2     True  \n",
      "3     True  \n",
      "4     True  \n",
      "\n",
      "[5 rows x 64 columns]\n",
      "New columns added: {'pos_AM', 'pos_GKP', 'fixture_difficulty', 'opponent_xgc_per_game', 'player_points_ewma', 'is_home', 'team_win_streak', 'goal_involvement_rate', 'team_goals_conceded_per_game', 'clean_sheet_prob', 'pos_GK', 'pos_DEF', 'pos_MID', 'pos_FWD', 'player_points_season_avg', 'form_vs_opponent', 'team_goals_scored_per_game', 'form_trend', 'points_vs_avg', 'team_points'}\n"
     ]
    }
   ],
   "source": [
    "%run feature_engineering.py"
   ]
  },
  {
   "cell_type": "code",
   "execution_count": null,
   "id": "f727bbd4-ec79-4148-8f3e-c0d22761a59c",
   "metadata": {},
   "outputs": [],
   "source": []
  }
 ],
 "metadata": {
  "kernelspec": {
   "display_name": "Python 3 (ipykernel)",
   "language": "python",
   "name": "python3"
  },
  "language_info": {
   "codemirror_mode": {
    "name": "ipython",
    "version": 3
   },
   "file_extension": ".py",
   "mimetype": "text/x-python",
   "name": "python",
   "nbconvert_exporter": "python",
   "pygments_lexer": "ipython3",
   "version": "3.12.7"
  }
 },
 "nbformat": 4,
 "nbformat_minor": 5
}
