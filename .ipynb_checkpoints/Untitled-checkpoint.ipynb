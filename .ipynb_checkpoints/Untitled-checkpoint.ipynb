{
 "cells": [
  {
   "cell_type": "code",
   "execution_count": 1,
   "id": "0e09ed01-bceb-46ba-942e-857e3b0500ca",
   "metadata": {},
   "outputs": [
    {
     "name": "stdout",
     "output_type": "stream",
     "text": [
      "Stopped after 10 tries without adding a player.\n",
      "Warning: Only selected 14 players.\n",
      "Position counts: {'GK': 1, 'DEF': 5, 'MID': 5, 'FWD': 3}\n",
      "Total cost: 100.0\n",
      "Selected Team for GW30–GW38:\n",
      "                 name position            team  value  predicted_points\n",
      "14            Flekken       GK       Brentford     44          1.680777\n",
      "2               Muñoz      DEF  Crystal Palace     50          2.063171\n",
      "3         Wan-Bissaka      DEF        West Ham     45          1.842035\n",
      "4           Cucurella      DEF         Chelsea     52          2.120998\n",
      "0                Enzo      MID         Chelsea     47          2.066688\n",
      "5              Souček      MID        West Ham     49          1.996491\n",
      "1          João Pedro      FWD        Brighton     56          2.450653\n",
      "163           M.Salah      MID       Liverpool    138          3.219273\n",
      "207           Haaland      FWD        Man City    147          2.610282\n",
      "65             Mbeumo      MID       Brentford     81          2.582800\n",
      "44             Mateta      FWD  Crystal Palace     75          2.520830\n",
      "91        B.Fernandes      MID         Man Utd     85          2.475709\n",
      "130  Alexander-Arnold      DEF       Liverpool     75          1.969107\n",
      "56           J.Timber      DEF         Arsenal     56          1.846765\n",
      "Total Cost: 100.0 million\n",
      "Total Predicted Points: 31.45\n",
      "Captain: M.Salah (MID) with 3.22 points\n",
      "\n",
      "Starting 11:\n",
      "                 name position            team  predicted_points\n",
      "14            Flekken       GK       Brentford          1.680777\n",
      "4           Cucurella      DEF         Chelsea          2.120998\n",
      "2               Muñoz      DEF  Crystal Palace          2.063171\n",
      "130  Alexander-Arnold      DEF       Liverpool          1.969107\n",
      "163           M.Salah      MID       Liverpool          3.219273\n",
      "65             Mbeumo      MID       Brentford          2.582800\n",
      "207           Haaland      FWD        Man City          2.610282\n",
      "44             Mateta      FWD  Crystal Palace          2.520830\n",
      "91        B.Fernandes      MID         Man Utd          2.475709\n",
      "1          João Pedro      FWD        Brighton          2.450653\n",
      "0                Enzo      MID         Chelsea          2.066688\n",
      "\n",
      "Bench:\n",
      "           name position      team  predicted_points\n",
      "5        Souček      MID  West Ham          1.996491\n",
      "56     J.Timber      DEF   Arsenal          1.846765\n",
      "3   Wan-Bissaka      DEF  West Ham          1.842035\n"
     ]
    }
   ],
   "source": [
    "%run fpl_team_selector.py"
   ]
  },
  {
   "cell_type": "code",
   "execution_count": 2,
   "id": "763f9382-75a0-4f71-ba0e-095d28400527",
   "metadata": {},
   "outputs": [
    {
     "name": "stdout",
     "output_type": "stream",
     "text": [
      "Successfully selected 15 players.\n",
      "Position counts: {'GK': 2, 'DEF': 5, 'MID': 5, 'FWD': 3}\n",
      "Total cost: 90.6\n",
      "\n",
      "Selected Team for GW30–GW38:\n",
      "                 name position            team  value  predicted_points\n",
      "14            Flekken       GK       Brentford     44          1.680777\n",
      "2               Muñoz      DEF  Crystal Palace     50          2.063171\n",
      "3         Wan-Bissaka      DEF        West Ham     45          1.842035\n",
      "4           Cucurella      DEF         Chelsea     52          2.120998\n",
      "0                Enzo      MID         Chelsea     47          2.066688\n",
      "5              Souček      MID        West Ham     49          1.996491\n",
      "1          João Pedro      FWD        Brighton     56          2.450653\n",
      "65             Mbeumo      MID       Brentford     81          2.582800\n",
      "44             Mateta      FWD  Crystal Palace     75          2.520830\n",
      "55          Luis Díaz      MID       Liverpool     75          2.474536\n",
      "91        B.Fernandes      MID         Man Utd     85          2.475709\n",
      "25              Wissa      FWD       Brentford     65          2.338629\n",
      "130  Alexander-Arnold      DEF       Liverpool     75          1.969107\n",
      "56           J.Timber      DEF         Arsenal     56          1.846765\n",
      "36               Sels       GK   Nott'm Forest     51          1.764897\n",
      "Total Cost: 90.6 million\n",
      "Total Predicted Points: 32.19\n",
      "Captain: Mbeumo (MID) with 2.58 points\n",
      "\n",
      "Starting 11:\n",
      "                 name position            team  predicted_points\n",
      "36               Sels       GK   Nott'm Forest          1.764897\n",
      "4           Cucurella      DEF         Chelsea          2.120998\n",
      "2               Muñoz      DEF  Crystal Palace          2.063171\n",
      "130  Alexander-Arnold      DEF       Liverpool          1.969107\n",
      "65             Mbeumo      MID       Brentford          2.582800\n",
      "91        B.Fernandes      MID         Man Utd          2.475709\n",
      "44             Mateta      FWD  Crystal Palace          2.520830\n",
      "55          Luis Díaz      MID       Liverpool          2.474536\n",
      "1          João Pedro      FWD        Brighton          2.450653\n",
      "25              Wissa      FWD       Brentford          2.338629\n",
      "0                Enzo      MID         Chelsea          2.066688\n",
      "\n",
      "Bench:\n",
      "           name position       team  predicted_points\n",
      "5        Souček      MID   West Ham          1.996491\n",
      "56     J.Timber      DEF    Arsenal          1.846765\n",
      "3   Wan-Bissaka      DEF   West Ham          1.842035\n",
      "14      Flekken       GK  Brentford          1.680777\n"
     ]
    },
    {
     "name": "stderr",
     "output_type": "stream",
     "text": [
      "C:\\Users\\pentester\\projects\\fplsolver\\fplsolver\\fpl_team_selector.py:68: SettingWithCopyWarning: \n",
      "A value is trying to be set on a copy of a slice from a DataFrame.\n",
      "Try using .loc[row_indexer,col_indexer] = value instead\n",
      "\n",
      "See the caveats in the documentation: https://pandas.pydata.org/pandas-docs/stable/user_guide/indexing.html#returning-a-view-versus-a-copy\n",
      "  remaining_df['budget_fit'] = remaining_df['value'] / 10.0 <= avg_budget_per_player\n",
      "C:\\Users\\pentester\\projects\\fplsolver\\fplsolver\\fpl_team_selector.py:68: SettingWithCopyWarning: \n",
      "A value is trying to be set on a copy of a slice from a DataFrame.\n",
      "Try using .loc[row_indexer,col_indexer] = value instead\n",
      "\n",
      "See the caveats in the documentation: https://pandas.pydata.org/pandas-docs/stable/user_guide/indexing.html#returning-a-view-versus-a-copy\n",
      "  remaining_df['budget_fit'] = remaining_df['value'] / 10.0 <= avg_budget_per_player\n",
      "C:\\Users\\pentester\\projects\\fplsolver\\fplsolver\\fpl_team_selector.py:68: SettingWithCopyWarning: \n",
      "A value is trying to be set on a copy of a slice from a DataFrame.\n",
      "Try using .loc[row_indexer,col_indexer] = value instead\n",
      "\n",
      "See the caveats in the documentation: https://pandas.pydata.org/pandas-docs/stable/user_guide/indexing.html#returning-a-view-versus-a-copy\n",
      "  remaining_df['budget_fit'] = remaining_df['value'] / 10.0 <= avg_budget_per_player\n",
      "C:\\Users\\pentester\\projects\\fplsolver\\fplsolver\\fpl_team_selector.py:68: SettingWithCopyWarning: \n",
      "A value is trying to be set on a copy of a slice from a DataFrame.\n",
      "Try using .loc[row_indexer,col_indexer] = value instead\n",
      "\n",
      "See the caveats in the documentation: https://pandas.pydata.org/pandas-docs/stable/user_guide/indexing.html#returning-a-view-versus-a-copy\n",
      "  remaining_df['budget_fit'] = remaining_df['value'] / 10.0 <= avg_budget_per_player\n",
      "C:\\Users\\pentester\\projects\\fplsolver\\fplsolver\\fpl_team_selector.py:68: SettingWithCopyWarning: \n",
      "A value is trying to be set on a copy of a slice from a DataFrame.\n",
      "Try using .loc[row_indexer,col_indexer] = value instead\n",
      "\n",
      "See the caveats in the documentation: https://pandas.pydata.org/pandas-docs/stable/user_guide/indexing.html#returning-a-view-versus-a-copy\n",
      "  remaining_df['budget_fit'] = remaining_df['value'] / 10.0 <= avg_budget_per_player\n",
      "C:\\Users\\pentester\\projects\\fplsolver\\fplsolver\\fpl_team_selector.py:68: SettingWithCopyWarning: \n",
      "A value is trying to be set on a copy of a slice from a DataFrame.\n",
      "Try using .loc[row_indexer,col_indexer] = value instead\n",
      "\n",
      "See the caveats in the documentation: https://pandas.pydata.org/pandas-docs/stable/user_guide/indexing.html#returning-a-view-versus-a-copy\n",
      "  remaining_df['budget_fit'] = remaining_df['value'] / 10.0 <= avg_budget_per_player\n",
      "C:\\Users\\pentester\\projects\\fplsolver\\fplsolver\\fpl_team_selector.py:68: SettingWithCopyWarning: \n",
      "A value is trying to be set on a copy of a slice from a DataFrame.\n",
      "Try using .loc[row_indexer,col_indexer] = value instead\n",
      "\n",
      "See the caveats in the documentation: https://pandas.pydata.org/pandas-docs/stable/user_guide/indexing.html#returning-a-view-versus-a-copy\n",
      "  remaining_df['budget_fit'] = remaining_df['value'] / 10.0 <= avg_budget_per_player\n",
      "C:\\Users\\pentester\\projects\\fplsolver\\fplsolver\\fpl_team_selector.py:68: SettingWithCopyWarning: \n",
      "A value is trying to be set on a copy of a slice from a DataFrame.\n",
      "Try using .loc[row_indexer,col_indexer] = value instead\n",
      "\n",
      "See the caveats in the documentation: https://pandas.pydata.org/pandas-docs/stable/user_guide/indexing.html#returning-a-view-versus-a-copy\n",
      "  remaining_df['budget_fit'] = remaining_df['value'] / 10.0 <= avg_budget_per_player\n"
     ]
    }
   ],
   "source": [
    "%run fpl_team_selector.py"
   ]
  },
  {
   "cell_type": "code",
   "execution_count": 3,
   "id": "1e14813c-da40-4e08-828b-ec2cd3743366",
   "metadata": {},
   "outputs": [
    {
     "name": "stdout",
     "output_type": "stream",
     "text": [
      "Unable to add more players within constraints.\n",
      "Error: Selected only 14 players.\n",
      "Position counts: {'GK': 1, 'DEF': 5, 'MID': 5, 'FWD': 3}\n",
      "Total cost: 100.0\n",
      "\n",
      "Selected Team for GW30–GW38:\n",
      "                 name position            team  value  predicted_points\n",
      "14            Flekken       GK       Brentford     44          1.680777\n",
      "2               Muñoz      DEF  Crystal Palace     50          2.063171\n",
      "3         Wan-Bissaka      DEF        West Ham     45          1.842035\n",
      "4           Cucurella      DEF         Chelsea     52          2.120998\n",
      "0                Enzo      MID         Chelsea     47          2.066688\n",
      "5              Souček      MID        West Ham     49          1.996491\n",
      "1          João Pedro      FWD        Brighton     56          2.450653\n",
      "163           M.Salah      MID       Liverpool    138          3.219273\n",
      "207           Haaland      FWD        Man City    147          2.610282\n",
      "65             Mbeumo      MID       Brentford     81          2.582800\n",
      "44             Mateta      FWD  Crystal Palace     75          2.520830\n",
      "91        B.Fernandes      MID         Man Utd     85          2.475709\n",
      "130  Alexander-Arnold      DEF       Liverpool     75          1.969107\n",
      "56           J.Timber      DEF         Arsenal     56          1.846765\n",
      "Total Cost: 100.0 million\n",
      "Total Predicted Points: 31.45\n",
      "Captain: M.Salah (MID) with 3.22 points\n",
      "\n",
      "Starting 11:\n",
      "                 name position            team  predicted_points\n",
      "14            Flekken       GK       Brentford          1.680777\n",
      "4           Cucurella      DEF         Chelsea          2.120998\n",
      "2               Muñoz      DEF  Crystal Palace          2.063171\n",
      "130  Alexander-Arnold      DEF       Liverpool          1.969107\n",
      "163           M.Salah      MID       Liverpool          3.219273\n",
      "65             Mbeumo      MID       Brentford          2.582800\n",
      "207           Haaland      FWD        Man City          2.610282\n",
      "44             Mateta      FWD  Crystal Palace          2.520830\n",
      "91        B.Fernandes      MID         Man Utd          2.475709\n",
      "1          João Pedro      FWD        Brighton          2.450653\n",
      "0                Enzo      MID         Chelsea          2.066688\n",
      "\n",
      "Bench:\n",
      "           name position      team  predicted_points\n",
      "5        Souček      MID  West Ham          1.996491\n",
      "56     J.Timber      DEF   Arsenal          1.846765\n",
      "3   Wan-Bissaka      DEF  West Ham          1.842035\n"
     ]
    }
   ],
   "source": [
    "%run fpl_team_selector.py"
   ]
  },
  {
   "cell_type": "code",
   "execution_count": 4,
   "id": "61a65499-5743-44dc-8512-265a5ba07e88",
   "metadata": {},
   "outputs": [
    {
     "ename": "NameError",
     "evalue": "name 'meets_constraints' is not defined",
     "output_type": "error",
     "traceback": [
      "\u001b[1;31m---------------------------------------------------------------------------\u001b[0m",
      "\u001b[1;31mNameError\u001b[0m                                 Traceback (most recent call last)",
      "File \u001b[1;32m~\\projects\\fplsolver\\fplsolver\\fpl_team_selector.py:78\u001b[0m\n\u001b[0;32m     75\u001b[0m     \u001b[38;5;28;01mreturn\u001b[39;00m pd\u001b[38;5;241m.\u001b[39mDataFrame(selected)\n\u001b[0;32m     77\u001b[0m \u001b[38;5;66;03m# Select the team\u001b[39;00m\n\u001b[1;32m---> 78\u001b[0m team \u001b[38;5;241m=\u001b[39m select_team(aggregated_predictions, BUDGET, MAX_PER_TEAM, POSITION_LIMITS)\n\u001b[0;32m     80\u001b[0m \u001b[38;5;66;03m# Function to select starting 11\u001b[39;00m\n\u001b[0;32m     81\u001b[0m \u001b[38;5;28;01mdef\u001b[39;00m \u001b[38;5;21mselect_starting_11\u001b[39m(team):\n",
      "File \u001b[1;32m~\\projects\\fplsolver\\fplsolver\\fpl_team_selector.py:50\u001b[0m, in \u001b[0;36mselect_team\u001b[1;34m(df, budget, max_per_team, position_limits)\u001b[0m\n\u001b[0;32m     48\u001b[0m     pos_players \u001b[38;5;241m=\u001b[39m df[df[\u001b[38;5;124m'\u001b[39m\u001b[38;5;124mposition\u001b[39m\u001b[38;5;124m'\u001b[39m] \u001b[38;5;241m==\u001b[39m pos]\u001b[38;5;241m.\u001b[39msort_values(\u001b[38;5;124m'\u001b[39m\u001b[38;5;124mvalue_metric\u001b[39m\u001b[38;5;124m'\u001b[39m, ascending\u001b[38;5;241m=\u001b[39m\u001b[38;5;28;01mFalse\u001b[39;00m)\n\u001b[0;32m     49\u001b[0m     \u001b[38;5;28;01mfor\u001b[39;00m _, player \u001b[38;5;129;01min\u001b[39;00m pos_players\u001b[38;5;241m.\u001b[39miterrows():\n\u001b[1;32m---> 50\u001b[0m         \u001b[38;5;28;01mif\u001b[39;00m position_count[pos] \u001b[38;5;241m<\u001b[39m count \u001b[38;5;129;01mand\u001b[39;00m meets_constraints(player, total_cost, working_budget, team_count, max_per_team, selected_elements):\n\u001b[0;32m     51\u001b[0m             add_player(player, selected, total_cost, team_count, position_count, selected_elements)\n\u001b[0;32m     53\u001b[0m \u001b[38;5;66;03m# Phase 2: Fill to 14 players\u001b[39;00m\n",
      "\u001b[1;31mNameError\u001b[0m: name 'meets_constraints' is not defined"
     ]
    }
   ],
   "source": [
    "%run fpl_team_selector.py"
   ]
  },
  {
   "cell_type": "code",
   "execution_count": 5,
   "id": "e20ea95b-e2eb-41c4-8a13-a827aaa08101",
   "metadata": {},
   "outputs": [
    {
     "ename": "NameError",
     "evalue": "name 'meets_constraints' is not defined",
     "output_type": "error",
     "traceback": [
      "\u001b[1;31m---------------------------------------------------------------------------\u001b[0m",
      "\u001b[1;31mNameError\u001b[0m                                 Traceback (most recent call last)",
      "File \u001b[1;32m~\\projects\\fplsolver\\fplsolver\\fpl_team_selector.py:78\u001b[0m\n\u001b[0;32m     75\u001b[0m     \u001b[38;5;28;01mreturn\u001b[39;00m pd\u001b[38;5;241m.\u001b[39mDataFrame(selected)\n\u001b[0;32m     77\u001b[0m \u001b[38;5;66;03m# Select the team\u001b[39;00m\n\u001b[1;32m---> 78\u001b[0m team \u001b[38;5;241m=\u001b[39m select_team(aggregated_predictions, BUDGET, MAX_PER_TEAM, POSITION_LIMITS)\n\u001b[0;32m     80\u001b[0m \u001b[38;5;66;03m# Function to select starting 11\u001b[39;00m\n\u001b[0;32m     81\u001b[0m \u001b[38;5;28;01mdef\u001b[39;00m \u001b[38;5;21mselect_starting_11\u001b[39m(team):\n",
      "File \u001b[1;32m~\\projects\\fplsolver\\fplsolver\\fpl_team_selector.py:50\u001b[0m, in \u001b[0;36mselect_team\u001b[1;34m(df, budget, max_per_team, position_limits)\u001b[0m\n\u001b[0;32m     48\u001b[0m     pos_players \u001b[38;5;241m=\u001b[39m df[df[\u001b[38;5;124m'\u001b[39m\u001b[38;5;124mposition\u001b[39m\u001b[38;5;124m'\u001b[39m] \u001b[38;5;241m==\u001b[39m pos]\u001b[38;5;241m.\u001b[39msort_values(\u001b[38;5;124m'\u001b[39m\u001b[38;5;124mvalue_metric\u001b[39m\u001b[38;5;124m'\u001b[39m, ascending\u001b[38;5;241m=\u001b[39m\u001b[38;5;28;01mFalse\u001b[39;00m)\n\u001b[0;32m     49\u001b[0m     \u001b[38;5;28;01mfor\u001b[39;00m _, player \u001b[38;5;129;01min\u001b[39;00m pos_players\u001b[38;5;241m.\u001b[39miterrows():\n\u001b[1;32m---> 50\u001b[0m         \u001b[38;5;28;01mif\u001b[39;00m position_count[pos] \u001b[38;5;241m<\u001b[39m count \u001b[38;5;129;01mand\u001b[39;00m meets_constraints(player, total_cost, working_budget, team_count, max_per_team, selected_elements):\n\u001b[0;32m     51\u001b[0m             add_player(player, selected, total_cost, team_count, position_count, selected_elements)\n\u001b[0;32m     53\u001b[0m \u001b[38;5;66;03m# Phase 2: Fill to 14 players\u001b[39;00m\n",
      "\u001b[1;31mNameError\u001b[0m: name 'meets_constraints' is not defined"
     ]
    }
   ],
   "source": [
    "%run fpl_team_selector.py"
   ]
  },
  {
   "cell_type": "code",
   "execution_count": 6,
   "id": "c16bb95e-00fc-4fb9-b5ba-7c85f83fa021",
   "metadata": {},
   "outputs": [
    {
     "name": "stdout",
     "output_type": "stream",
     "text": [
      "\n",
      "Selected Team for GW30–GW38:\n",
      "                 name position            team  value  predicted_points\n",
      "90            Flekken       GK       Brentford     44          1.680777\n",
      "210             Muñoz      DEF  Crystal Palace     50          2.063171\n",
      "387       Wan-Bissaka      DEF        West Ham     45          1.842035\n",
      "162         Cucurella      DEF         Chelsea     52          2.120998\n",
      "167              Enzo      MID         Chelsea     47          2.066688\n",
      "529            Souček      MID        West Ham     49          1.996491\n",
      "128        João Pedro      FWD        Brighton     56          2.450653\n",
      "98             Mbeumo      MID       Brentford     81          2.582800\n",
      "206            Mateta      FWD  Crystal Palace     75          2.520830\n",
      "365       B.Fernandes      MID         Man Utd     85          2.475709\n",
      "326         Luis Díaz      MID       Liverpool     75          2.474536\n",
      "400              Isak      FWD       Newcastle     94          2.374263\n",
      "310  Alexander-Arnold      DEF       Liverpool     75          1.969107\n",
      "5            J.Timber      DEF         Arsenal     56          1.846765\n",
      "154        Bettinelli       GK         Chelsea     39          0.362856\n",
      "Total Cost: 92.3 million\n",
      "Total Predicted Points: 30.83\n",
      "Captain: Mbeumo (MID) with 2.58 points\n",
      "\n",
      "Starting 11:\n",
      "                 name position            team  predicted_points\n",
      "90            Flekken       GK       Brentford          1.680777\n",
      "162         Cucurella      DEF         Chelsea          2.120998\n",
      "210             Muñoz      DEF  Crystal Palace          2.063171\n",
      "310  Alexander-Arnold      DEF       Liverpool          1.969107\n",
      "98             Mbeumo      MID       Brentford          2.582800\n",
      "365       B.Fernandes      MID         Man Utd          2.475709\n",
      "206            Mateta      FWD  Crystal Palace          2.520830\n",
      "326         Luis Díaz      MID       Liverpool          2.474536\n",
      "128        João Pedro      FWD        Brighton          2.450653\n",
      "400              Isak      FWD       Newcastle          2.374263\n",
      "167              Enzo      MID         Chelsea          2.066688\n",
      "\n",
      "Bench:\n",
      "            name position      team  predicted_points\n",
      "529       Souček      MID  West Ham          1.996491\n",
      "5       J.Timber      DEF   Arsenal          1.846765\n",
      "387  Wan-Bissaka      DEF  West Ham          1.842035\n",
      "154   Bettinelli       GK   Chelsea          0.362856\n"
     ]
    }
   ],
   "source": [
    "%run fpl_team_selector.py"
   ]
  },
  {
   "cell_type": "code",
   "execution_count": 7,
   "id": "aef8a8bc-8bcb-464e-bb96-72653433fe05",
   "metadata": {},
   "outputs": [
    {
     "name": "stderr",
     "output_type": "stream",
     "text": [
      "\n",
      "KeyboardInterrupt\n",
      "\n"
     ]
    }
   ],
   "source": [
    "%run fpl_team_selector.py"
   ]
  },
  {
   "cell_type": "code",
   "execution_count": 8,
   "id": "3364915c-7981-444a-be8e-d60242c05876",
   "metadata": {},
   "outputs": [
    {
     "ename": "KeyboardInterrupt",
     "evalue": "",
     "output_type": "error",
     "traceback": [
      "\u001b[1;31m---------------------------------------------------------------------------\u001b[0m",
      "\u001b[1;31mKeyboardInterrupt\u001b[0m                         Traceback (most recent call last)",
      "File \u001b[1;32m~\\projects\\fplsolver\\fplsolver\\fpl_team_selector.py:116\u001b[0m\n\u001b[0;32m    113\u001b[0m     \u001b[38;5;28;01mreturn\u001b[39;00m pd\u001b[38;5;241m.\u001b[39mDataFrame(selected)\n\u001b[0;32m    115\u001b[0m \u001b[38;5;66;03m# Select the team\u001b[39;00m\n\u001b[1;32m--> 116\u001b[0m team \u001b[38;5;241m=\u001b[39m select_team(aggregated_predictions, BUDGET, MAX_PER_TEAM, POSITION_LIMITS)\n\u001b[0;32m    118\u001b[0m \u001b[38;5;66;03m# Function to select starting 11\u001b[39;00m\n\u001b[0;32m    119\u001b[0m \u001b[38;5;28;01mdef\u001b[39;00m \u001b[38;5;21mselect_starting_11\u001b[39m(team):\n",
      "File \u001b[1;32m~\\projects\\fplsolver\\fplsolver\\fpl_team_selector.py:91\u001b[0m, in \u001b[0;36mselect_team\u001b[1;34m(df, budget, max_per_team, position_limits)\u001b[0m\n\u001b[0;32m     89\u001b[0m candidates \u001b[38;5;241m=\u001b[39m df[\u001b[38;5;241m~\u001b[39mdf[\u001b[38;5;124m'\u001b[39m\u001b[38;5;124melement\u001b[39m\u001b[38;5;124m'\u001b[39m]\u001b[38;5;241m.\u001b[39misin(selected_elements)]\u001b[38;5;241m.\u001b[39msort_values(\u001b[38;5;124m'\u001b[39m\u001b[38;5;124mpredicted_points\u001b[39m\u001b[38;5;124m'\u001b[39m, ascending\u001b[38;5;241m=\u001b[39m\u001b[38;5;28;01mFalse\u001b[39;00m)\n\u001b[0;32m     90\u001b[0m player_added \u001b[38;5;241m=\u001b[39m \u001b[38;5;28;01mFalse\u001b[39;00m\n\u001b[1;32m---> 91\u001b[0m \u001b[38;5;28;01mfor\u001b[39;00m _, player \u001b[38;5;129;01min\u001b[39;00m candidates\u001b[38;5;241m.\u001b[39miterrows():\n\u001b[0;32m     92\u001b[0m     cost \u001b[38;5;241m=\u001b[39m player[\u001b[38;5;124m'\u001b[39m\u001b[38;5;124mvalue\u001b[39m\u001b[38;5;124m'\u001b[39m] \u001b[38;5;241m/\u001b[39m \u001b[38;5;241m10.0\u001b[39m\n\u001b[0;32m     93\u001b[0m     \u001b[38;5;28;01mif\u001b[39;00m (total_cost \u001b[38;5;241m+\u001b[39m cost \u001b[38;5;241m<\u001b[39m\u001b[38;5;241m=\u001b[39m working_budget \u001b[38;5;129;01mand\u001b[39;00m\n\u001b[0;32m     94\u001b[0m         position_count[player[\u001b[38;5;124m'\u001b[39m\u001b[38;5;124mposition\u001b[39m\u001b[38;5;124m'\u001b[39m]] \u001b[38;5;241m<\u001b[39m position_limits[player[\u001b[38;5;124m'\u001b[39m\u001b[38;5;124mposition\u001b[39m\u001b[38;5;124m'\u001b[39m]] \u001b[38;5;129;01mand\u001b[39;00m\n\u001b[0;32m     95\u001b[0m         meets_constraints(player, total_cost, working_budget, team_count, max_per_team, selected_elements)):\n",
      "File \u001b[1;32m~\\anaconda3\\Lib\\site-packages\\pandas\\core\\frame.py:1554\u001b[0m, in \u001b[0;36mDataFrame.iterrows\u001b[1;34m(self)\u001b[0m\n\u001b[0;32m   1552\u001b[0m using_cow \u001b[38;5;241m=\u001b[39m using_copy_on_write()\n\u001b[0;32m   1553\u001b[0m \u001b[38;5;28;01mfor\u001b[39;00m k, v \u001b[38;5;129;01min\u001b[39;00m \u001b[38;5;28mzip\u001b[39m(\u001b[38;5;28mself\u001b[39m\u001b[38;5;241m.\u001b[39mindex, \u001b[38;5;28mself\u001b[39m\u001b[38;5;241m.\u001b[39mvalues):\n\u001b[1;32m-> 1554\u001b[0m     s \u001b[38;5;241m=\u001b[39m klass(v, index\u001b[38;5;241m=\u001b[39mcolumns, name\u001b[38;5;241m=\u001b[39mk)\u001b[38;5;241m.\u001b[39m__finalize__(\u001b[38;5;28mself\u001b[39m)\n\u001b[0;32m   1555\u001b[0m     \u001b[38;5;28;01mif\u001b[39;00m using_cow \u001b[38;5;129;01mand\u001b[39;00m \u001b[38;5;28mself\u001b[39m\u001b[38;5;241m.\u001b[39m_mgr\u001b[38;5;241m.\u001b[39mis_single_block:\n\u001b[0;32m   1556\u001b[0m         s\u001b[38;5;241m.\u001b[39m_mgr\u001b[38;5;241m.\u001b[39madd_references(\u001b[38;5;28mself\u001b[39m\u001b[38;5;241m.\u001b[39m_mgr)  \u001b[38;5;66;03m# type: ignore[arg-type]\u001b[39;00m\n",
      "File \u001b[1;32m~\\anaconda3\\Lib\\site-packages\\pandas\\core\\series.py:593\u001b[0m, in \u001b[0;36mSeries.__init__\u001b[1;34m(self, data, index, dtype, name, copy, fastpath)\u001b[0m\n\u001b[0;32m    590\u001b[0m         data \u001b[38;5;241m=\u001b[39m SingleArrayManager\u001b[38;5;241m.\u001b[39mfrom_array(data, index)\n\u001b[0;32m    592\u001b[0m NDFrame\u001b[38;5;241m.\u001b[39m\u001b[38;5;21m__init__\u001b[39m(\u001b[38;5;28mself\u001b[39m, data)\n\u001b[1;32m--> 593\u001b[0m \u001b[38;5;28mself\u001b[39m\u001b[38;5;241m.\u001b[39mname \u001b[38;5;241m=\u001b[39m name\n\u001b[0;32m    594\u001b[0m \u001b[38;5;28mself\u001b[39m\u001b[38;5;241m.\u001b[39m_set_axis(\u001b[38;5;241m0\u001b[39m, index)\n\u001b[0;32m    596\u001b[0m \u001b[38;5;28;01mif\u001b[39;00m original_dtype \u001b[38;5;129;01mis\u001b[39;00m \u001b[38;5;28;01mNone\u001b[39;00m \u001b[38;5;129;01mand\u001b[39;00m is_pandas_object \u001b[38;5;129;01mand\u001b[39;00m data_dtype \u001b[38;5;241m==\u001b[39m np\u001b[38;5;241m.\u001b[39mobject_:\n",
      "File \u001b[1;32m~\\anaconda3\\Lib\\site-packages\\pandas\\core\\generic.py:6320\u001b[0m, in \u001b[0;36mNDFrame.__setattr__\u001b[1;34m(self, name, value)\u001b[0m\n\u001b[0;32m   6317\u001b[0m \u001b[38;5;66;03m# if this fails, go on to more involved attribute setting\u001b[39;00m\n\u001b[0;32m   6318\u001b[0m \u001b[38;5;66;03m# (note that this matches __getattr__, above).\u001b[39;00m\n\u001b[0;32m   6319\u001b[0m \u001b[38;5;28;01mif\u001b[39;00m name \u001b[38;5;129;01min\u001b[39;00m \u001b[38;5;28mself\u001b[39m\u001b[38;5;241m.\u001b[39m_internal_names_set:\n\u001b[1;32m-> 6320\u001b[0m     \u001b[38;5;28mobject\u001b[39m\u001b[38;5;241m.\u001b[39m\u001b[38;5;21m__setattr__\u001b[39m(\u001b[38;5;28mself\u001b[39m, name, value)\n\u001b[0;32m   6321\u001b[0m \u001b[38;5;28;01melif\u001b[39;00m name \u001b[38;5;129;01min\u001b[39;00m \u001b[38;5;28mself\u001b[39m\u001b[38;5;241m.\u001b[39m_metadata:\n\u001b[0;32m   6322\u001b[0m     \u001b[38;5;28mobject\u001b[39m\u001b[38;5;241m.\u001b[39m\u001b[38;5;21m__setattr__\u001b[39m(\u001b[38;5;28mself\u001b[39m, name, value)\n",
      "File \u001b[1;32m~\\anaconda3\\Lib\\site-packages\\pandas\\core\\series.py:786\u001b[0m, in \u001b[0;36mSeries.name\u001b[1;34m(self, value)\u001b[0m\n\u001b[0;32m    784\u001b[0m \u001b[38;5;129m@name\u001b[39m\u001b[38;5;241m.\u001b[39msetter\n\u001b[0;32m    785\u001b[0m \u001b[38;5;28;01mdef\u001b[39;00m \u001b[38;5;21mname\u001b[39m(\u001b[38;5;28mself\u001b[39m, value: Hashable) \u001b[38;5;241m-\u001b[39m\u001b[38;5;241m>\u001b[39m \u001b[38;5;28;01mNone\u001b[39;00m:\n\u001b[1;32m--> 786\u001b[0m     validate_all_hashable(value, error_name\u001b[38;5;241m=\u001b[39m\u001b[38;5;124mf\u001b[39m\u001b[38;5;124m\"\u001b[39m\u001b[38;5;132;01m{\u001b[39;00m\u001b[38;5;28mtype\u001b[39m(\u001b[38;5;28mself\u001b[39m)\u001b[38;5;241m.\u001b[39m\u001b[38;5;18m__name__\u001b[39m\u001b[38;5;132;01m}\u001b[39;00m\u001b[38;5;124m.name\u001b[39m\u001b[38;5;124m\"\u001b[39m)\n\u001b[0;32m    787\u001b[0m     \u001b[38;5;28mobject\u001b[39m\u001b[38;5;241m.\u001b[39m\u001b[38;5;21m__setattr__\u001b[39m(\u001b[38;5;28mself\u001b[39m, \u001b[38;5;124m\"\u001b[39m\u001b[38;5;124m_name\u001b[39m\u001b[38;5;124m\"\u001b[39m, value)\n",
      "File \u001b[1;32m~\\anaconda3\\Lib\\site-packages\\pandas\\core\\dtypes\\common.py:1571\u001b[0m, in \u001b[0;36mvalidate_all_hashable\u001b[1;34m(error_name, *args)\u001b[0m\n\u001b[0;32m   1564\u001b[0m     \u001b[38;5;28;01mif\u001b[39;00m typ \u001b[38;5;129;01mnot\u001b[39;00m \u001b[38;5;129;01min\u001b[39;00m [\u001b[38;5;124m\"\u001b[39m\u001b[38;5;124mgeneric\u001b[39m\u001b[38;5;124m\"\u001b[39m, \u001b[38;5;124m\"\u001b[39m\u001b[38;5;124mns\u001b[39m\u001b[38;5;124m\"\u001b[39m]:\n\u001b[0;32m   1565\u001b[0m         \u001b[38;5;28;01mraise\u001b[39;00m \u001b[38;5;167;01mValueError\u001b[39;00m(\n\u001b[0;32m   1566\u001b[0m             \u001b[38;5;124mf\u001b[39m\u001b[38;5;124m\"\u001b[39m\u001b[38;5;132;01m{\u001b[39;00m\u001b[38;5;28mrepr\u001b[39m(dtype\u001b[38;5;241m.\u001b[39mname)\u001b[38;5;132;01m}\u001b[39;00m\u001b[38;5;124m is too specific of a frequency, \u001b[39m\u001b[38;5;124m\"\u001b[39m\n\u001b[0;32m   1567\u001b[0m             \u001b[38;5;124mf\u001b[39m\u001b[38;5;124m\"\u001b[39m\u001b[38;5;124mtry passing \u001b[39m\u001b[38;5;132;01m{\u001b[39;00m\u001b[38;5;28mrepr\u001b[39m(dtype\u001b[38;5;241m.\u001b[39mtype\u001b[38;5;241m.\u001b[39m\u001b[38;5;18m__name__\u001b[39m)\u001b[38;5;132;01m}\u001b[39;00m\u001b[38;5;124m\"\u001b[39m\n\u001b[0;32m   1568\u001b[0m         )\n\u001b[1;32m-> 1571\u001b[0m \u001b[38;5;28;01mdef\u001b[39;00m \u001b[38;5;21mvalidate_all_hashable\u001b[39m(\u001b[38;5;241m*\u001b[39margs, error_name: \u001b[38;5;28mstr\u001b[39m \u001b[38;5;241m|\u001b[39m \u001b[38;5;28;01mNone\u001b[39;00m \u001b[38;5;241m=\u001b[39m \u001b[38;5;28;01mNone\u001b[39;00m) \u001b[38;5;241m-\u001b[39m\u001b[38;5;241m>\u001b[39m \u001b[38;5;28;01mNone\u001b[39;00m:\n\u001b[0;32m   1572\u001b[0m \u001b[38;5;250m    \u001b[39m\u001b[38;5;124;03m\"\"\"\u001b[39;00m\n\u001b[0;32m   1573\u001b[0m \u001b[38;5;124;03m    Return None if all args are hashable, else raise a TypeError.\u001b[39;00m\n\u001b[0;32m   1574\u001b[0m \n\u001b[1;32m   (...)\u001b[0m\n\u001b[0;32m   1588\u001b[0m \u001b[38;5;124;03m    None\u001b[39;00m\n\u001b[0;32m   1589\u001b[0m \u001b[38;5;124;03m    \"\"\"\u001b[39;00m\n\u001b[0;32m   1590\u001b[0m     \u001b[38;5;28;01mif\u001b[39;00m \u001b[38;5;129;01mnot\u001b[39;00m \u001b[38;5;28mall\u001b[39m(is_hashable(arg) \u001b[38;5;28;01mfor\u001b[39;00m arg \u001b[38;5;129;01min\u001b[39;00m args):\n",
      "\u001b[1;31mKeyboardInterrupt\u001b[0m: "
     ]
    }
   ],
   "source": [
    "%run fpl_team_selector.py"
   ]
  },
  {
   "cell_type": "code",
   "execution_count": 9,
   "id": "afc3d455-8e54-47ca-9726-24d67fdbe81e",
   "metadata": {},
   "outputs": [
    {
     "ename": "SyntaxError",
     "evalue": "expected 'except' or 'finally' block (fpl_team_selector.py, line 123)",
     "output_type": "error",
     "traceback": [
      "\u001b[1;36m  File \u001b[1;32m~\\projects\\fplsolver\\fplsolver\\fpl_team_selector.py:123\u001b[1;36m\u001b[0m\n\u001b[1;33m    if position_count['GK'] < 2:\u001b[0m\n\u001b[1;37m    ^\u001b[0m\n\u001b[1;31mSyntaxError\u001b[0m\u001b[1;31m:\u001b[0m expected 'except' or 'finally' block\n"
     ]
    }
   ],
   "source": [
    "%run fpl_team_selector.py"
   ]
  },
  {
   "cell_type": "code",
   "execution_count": 10,
   "id": "0c250a4e-63fd-4b5d-8a93-9200c5f49ebf",
   "metadata": {},
   "outputs": [
    {
     "ename": "SyntaxError",
     "evalue": "expected 'except' or 'finally' block (fpl_team_selector.py, line 131)",
     "output_type": "error",
     "traceback": [
      "\u001b[1;36m  File \u001b[1;32m~\\projects\\fplsolver\\fplsolver\\fpl_team_selector.py:131\u001b[1;36m\u001b[0m\n\u001b[1;33m    return pd.DataFrame(selected)\u001b[0m\n\u001b[1;37m    ^\u001b[0m\n\u001b[1;31mSyntaxError\u001b[0m\u001b[1;31m:\u001b[0m expected 'except' or 'finally' block\n"
     ]
    }
   ],
   "source": [
    "%run fpl_team_selector.py"
   ]
  },
  {
   "cell_type": "code",
   "execution_count": 11,
   "id": "525d3d33-0955-4c4c-bf4e-6b89984d8ca3",
   "metadata": {},
   "outputs": [
    {
     "ename": "SyntaxError",
     "evalue": "expected 'except' or 'finally' block (fpl_team_selector.py, line 134)",
     "output_type": "error",
     "traceback": [
      "\u001b[1;36m  File \u001b[1;32m~\\projects\\fplsolver\\fplsolver\\fpl_team_selector.py:134\u001b[1;36m\u001b[0m\n\u001b[1;33m    team = select_team(aggregated_predictions, BUDGET, MAX_PER_TEAM, POSITION_LIMITS)\u001b[0m\n\u001b[1;37m                                                                                     ^\u001b[0m\n\u001b[1;31mSyntaxError\u001b[0m\u001b[1;31m:\u001b[0m expected 'except' or 'finally' block\n"
     ]
    }
   ],
   "source": [
    "%run fpl_team_selector.py"
   ]
  },
  {
   "cell_type": "code",
   "execution_count": 12,
   "id": "faafb85f-857c-41aa-ba89-fe2d97a9e94b",
   "metadata": {},
   "outputs": [
    {
     "name": "stdout",
     "output_type": "stream",
     "text": [
      "\n",
      "Selected Team for GW30–GW38:\n",
      "            name position            team  value  predicted_points\n",
      "90       Flekken       GK       Brentford     44          1.680777\n",
      "210        Muñoz      DEF  Crystal Palace     50          2.063171\n",
      "387  Wan-Bissaka      DEF        West Ham     45          1.842035\n",
      "162    Cucurella      DEF         Chelsea     52          2.120998\n",
      "167         Enzo      MID         Chelsea     47          2.066688\n",
      "529       Souček      MID        West Ham     49          1.996491\n",
      "128   João Pedro      FWD        Brighton     56          2.450653\n",
      "327      M.Salah      MID       Liverpool    138          3.219273\n",
      "350      Haaland      FWD        Man City    147          2.610282\n",
      "98        Mbeumo      MID       Brentford     81          2.582800\n",
      "206       Mateta      FWD  Crystal Palace     75          2.520830\n",
      "584       I.Sarr      MID  Crystal Palace     55          2.180769\n",
      "186        Tosin      DEF         Chelsea     42          1.638946\n",
      "516    Cresswell      DEF        West Ham     39          1.463480\n",
      "307         Ward       GK       Leicester     39          0.420072\n",
      "Total Cost: 95.9 million\n",
      "Total Predicted Points: 30.86\n",
      "Captain: M.Salah (MID) with 3.22 points\n",
      "\n",
      "Starting 11:\n",
      "            name position            team  predicted_points\n",
      "90       Flekken       GK       Brentford          1.680777\n",
      "162    Cucurella      DEF         Chelsea          2.120998\n",
      "210        Muñoz      DEF  Crystal Palace          2.063171\n",
      "387  Wan-Bissaka      DEF        West Ham          1.842035\n",
      "327      M.Salah      MID       Liverpool          3.219273\n",
      "98        Mbeumo      MID       Brentford          2.582800\n",
      "350      Haaland      FWD        Man City          2.610282\n",
      "206       Mateta      FWD  Crystal Palace          2.520830\n",
      "128   João Pedro      FWD        Brighton          2.450653\n",
      "584       I.Sarr      MID  Crystal Palace          2.180769\n",
      "167         Enzo      MID         Chelsea          2.066688\n",
      "\n",
      "Bench:\n",
      "          name position       team  predicted_points\n",
      "529     Souček      MID   West Ham          1.996491\n",
      "186      Tosin      DEF    Chelsea          1.638946\n",
      "516  Cresswell      DEF   West Ham          1.463480\n",
      "307       Ward       GK  Leicester          0.420072\n"
     ]
    }
   ],
   "source": [
    "%run fpl_team_selector.py"
   ]
  },
  {
   "cell_type": "code",
   "execution_count": 14,
   "id": "23c7639c-6788-4504-a929-e4e0f5633049",
   "metadata": {},
   "outputs": [
    {
     "name": "stdout",
     "output_type": "stream",
     "text": [
      "\n",
      "Selected Team for GW30–GW38:\n",
      "            name position            team  value  predicted_points\n",
      "90       Flekken       GK       Brentford     44          1.680777\n",
      "210        Muñoz      DEF  Crystal Palace     50          2.063171\n",
      "387  Wan-Bissaka      DEF        West Ham     45          1.842035\n",
      "162    Cucurella      DEF         Chelsea     52          2.120998\n",
      "167         Enzo      MID         Chelsea     47          2.066688\n",
      "529       Souček      MID        West Ham     49          1.996491\n",
      "128   João Pedro      FWD        Brighton     56          2.450653\n",
      "327      M.Salah      MID       Liverpool    138          3.219273\n",
      "350      Haaland      FWD        Man City    147          2.610282\n",
      "98        Mbeumo      MID       Brentford     81          2.582800\n",
      "206       Mateta      FWD  Crystal Palace     75          2.520830\n",
      "365  B.Fernandes      MID         Man Utd     85          2.475709\n",
      "572   Milenković      DEF   Nott'm Forest     49          1.830494\n",
      "186        Tosin      DEF         Chelsea     42          1.638946\n",
      "307         Ward       GK       Leicester     39          0.420072\n",
      "Total Cost: 99.9 million\n",
      "Total Predicted Points: 31.52\n",
      "Captain: M.Salah (MID) with 3.22 points\n",
      "\n",
      "Starting 11:\n",
      "            name position            team  predicted_points\n",
      "90       Flekken       GK       Brentford          1.680777\n",
      "162    Cucurella      DEF         Chelsea          2.120998\n",
      "210        Muñoz      DEF  Crystal Palace          2.063171\n",
      "387  Wan-Bissaka      DEF        West Ham          1.842035\n",
      "327      M.Salah      MID       Liverpool          3.219273\n",
      "98        Mbeumo      MID       Brentford          2.582800\n",
      "350      Haaland      FWD        Man City          2.610282\n",
      "206       Mateta      FWD  Crystal Palace          2.520830\n",
      "365  B.Fernandes      MID         Man Utd          2.475709\n",
      "128   João Pedro      FWD        Brighton          2.450653\n",
      "167         Enzo      MID         Chelsea          2.066688\n",
      "\n",
      "Bench:\n",
      "           name position           team  predicted_points\n",
      "529      Souček      MID       West Ham          1.996491\n",
      "572  Milenković      DEF  Nott'm Forest          1.830494\n",
      "186       Tosin      DEF        Chelsea          1.638946\n",
      "307        Ward       GK      Leicester          0.420072\n"
     ]
    }
   ],
   "source": [
    "%run fpl_team_selector.py"
   ]
  },
  {
   "cell_type": "code",
   "execution_count": null,
   "id": "b25a198f-7592-434c-8a33-1d0e045d6824",
   "metadata": {},
   "outputs": [],
   "source": []
  }
 ],
 "metadata": {
  "kernelspec": {
   "display_name": "Python 3 (ipykernel)",
   "language": "python",
   "name": "python3"
  },
  "language_info": {
   "codemirror_mode": {
    "name": "ipython",
    "version": 3
   },
   "file_extension": ".py",
   "mimetype": "text/x-python",
   "name": "python",
   "nbconvert_exporter": "python",
   "pygments_lexer": "ipython3",
   "version": "3.12.7"
  }
 },
 "nbformat": 4,
 "nbformat_minor": 5
}
